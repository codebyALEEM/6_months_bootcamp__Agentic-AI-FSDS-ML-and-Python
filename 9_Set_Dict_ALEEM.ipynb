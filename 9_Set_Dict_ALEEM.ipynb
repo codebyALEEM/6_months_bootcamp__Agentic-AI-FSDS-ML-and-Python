{
 "cells": [
  {
   "cell_type": "markdown",
   "id": "9386256f-613a-472a-bc0f-2448dde14250",
   "metadata": {},
   "source": [
    "SET OPERATION"
   ]
  },
  {
   "cell_type": "markdown",
   "id": "8e3b452b-360a-45d9-b944-de292692a19f",
   "metadata": {},
   "source": [
    "UNION"
   ]
  },
  {
   "cell_type": "code",
   "execution_count": 255,
   "id": "5b37f863-52bf-47ed-9ec0-6414a49f40af",
   "metadata": {},
   "outputs": [],
   "source": [
    "a = {1,2,3,4,5}\n",
    "b = {4,5,6,7,8}\n",
    "c = {8,9,10}"
   ]
  },
  {
   "cell_type": "code",
   "execution_count": 256,
   "id": "41025c7d-3124-4493-ac44-fa1e14f53dda",
   "metadata": {},
   "outputs": [
    {
     "data": {
      "text/plain": [
       "{1, 2, 3, 4, 5, 6, 7, 8}"
      ]
     },
     "execution_count": 256,
     "metadata": {},
     "output_type": "execute_result"
    }
   ],
   "source": [
    "a.union(b) #returns all the elements of set a and  b"
   ]
  },
  {
   "cell_type": "code",
   "execution_count": 257,
   "id": "450284b2-5526-4b75-9cc2-244becab897f",
   "metadata": {},
   "outputs": [
    {
     "data": {
      "text/plain": [
       "{1, 2, 3, 4, 5, 6, 7, 8}"
      ]
     },
     "execution_count": 257,
     "metadata": {},
     "output_type": "execute_result"
    }
   ],
   "source": [
    "a | b #another method for union a pipe b"
   ]
  },
  {
   "cell_type": "code",
   "execution_count": 258,
   "id": "eba261cf-90ff-403f-92a8-a0e3ad49dc2a",
   "metadata": {},
   "outputs": [
    {
     "data": {
      "text/plain": [
       "{1, 2, 3, 4, 5, 6, 7, 8, 9, 10}"
      ]
     },
     "execution_count": 258,
     "metadata": {},
     "output_type": "execute_result"
    }
   ],
   "source": [
    "a.union(b,c)"
   ]
  },
  {
   "cell_type": "code",
   "execution_count": 259,
   "id": "a00c7ad6-6d04-4982-a715-22b0ca23e7da",
   "metadata": {},
   "outputs": [
    {
     "data": {
      "text/plain": [
       "{1, 2, 3, 4, 5, 6, 7, 8, 9, 10}"
      ]
     },
     "execution_count": 259,
     "metadata": {},
     "output_type": "execute_result"
    }
   ],
   "source": [
    "a | b | c"
   ]
  },
  {
   "cell_type": "code",
   "execution_count": 260,
   "id": "4ebb63fa-d2e6-4ba8-8a04-359c990a4c22",
   "metadata": {},
   "outputs": [
    {
     "data": {
      "text/plain": [
       "{1, 2, 3, 4, 5, 6, 7, 8, 9, 10}"
      ]
     },
     "execution_count": 260,
     "metadata": {},
     "output_type": "execute_result"
    }
   ],
   "source": [
    "'''\n",
    "Updating the set calling the update() method with union of a,b and c.\n",
    "\n",
    "For below example set a will be updated with union of a,b,c \n",
    "'''\n",
    "a.update(b,c)\n",
    "a"
   ]
  },
  {
   "cell_type": "code",
   "execution_count": 261,
   "id": "8295f23d-5058-40fe-874b-cfdad8b4fc37",
   "metadata": {},
   "outputs": [
    {
     "name": "stdout",
     "output_type": "stream",
     "text": [
      "{1, 2, 3, 4, 5, 6, 7, 8, 9, 10}\n",
      "{4, 5, 6, 7, 8}\n",
      "{8, 9, 10}\n"
     ]
    }
   ],
   "source": [
    "print(a)\n",
    "print(b)\n",
    "print(c)"
   ]
  },
  {
   "cell_type": "code",
   "execution_count": 262,
   "id": "563a5272-f14d-4d84-b7ee-05676ec1b2e7",
   "metadata": {},
   "outputs": [
    {
     "data": {
      "text/plain": [
       "{4, 5, 6, 7, 8}"
      ]
     },
     "execution_count": 262,
     "metadata": {},
     "output_type": "execute_result"
    }
   ],
   "source": [
    "a.intersection(b) #common elements in  both sets"
   ]
  },
  {
   "cell_type": "code",
   "execution_count": 263,
   "id": "3869a156-28bf-4a38-9020-02f2ff8decc4",
   "metadata": {},
   "outputs": [
    {
     "data": {
      "text/plain": [
       "{4, 5, 6, 7, 8}"
      ]
     },
     "execution_count": 263,
     "metadata": {},
     "output_type": "execute_result"
    }
   ],
   "source": [
    "a & b #another method "
   ]
  },
  {
   "cell_type": "code",
   "execution_count": 264,
   "id": "95b23467-3a1d-4dce-8ecf-59c5480c8e5d",
   "metadata": {},
   "outputs": [
    {
     "data": {
      "text/plain": [
       "{8, 9, 10}"
      ]
     },
     "execution_count": 264,
     "metadata": {},
     "output_type": "execute_result"
    }
   ],
   "source": [
    "a.intersection(c)"
   ]
  },
  {
   "cell_type": "code",
   "execution_count": 265,
   "id": "555caea1-0c64-4715-9980-277c54c90a77",
   "metadata": {},
   "outputs": [
    {
     "data": {
      "text/plain": [
       "{8, 9, 10}"
      ]
     },
     "execution_count": 265,
     "metadata": {},
     "output_type": "execute_result"
    }
   ],
   "source": [
    "a & c"
   ]
  },
  {
   "cell_type": "code",
   "execution_count": 266,
   "id": "4c566053-961a-41ea-ae03-0a07e3c270a8",
   "metadata": {},
   "outputs": [
    {
     "data": {
      "text/plain": [
       "{8}"
      ]
     },
     "execution_count": 266,
     "metadata": {},
     "output_type": "execute_result"
    }
   ],
   "source": [
    "a.intersection(b,c)"
   ]
  },
  {
   "cell_type": "code",
   "execution_count": 267,
   "id": "14448dcb-943d-44d3-8e3e-200886271eb2",
   "metadata": {},
   "outputs": [
    {
     "data": {
      "text/plain": [
       "{8}"
      ]
     },
     "execution_count": 267,
     "metadata": {},
     "output_type": "execute_result"
    }
   ],
   "source": [
    "a & b & c"
   ]
  },
  {
   "cell_type": "markdown",
   "id": "fbccf74e-4a74-4651-b6c1-c63589af2ecc",
   "metadata": {},
   "source": [
    "DIFFERENCE -"
   ]
  },
  {
   "cell_type": "code",
   "execution_count": 268,
   "id": "769e90f8-b5e3-4adf-aa17-4df11393b0a4",
   "metadata": {},
   "outputs": [
    {
     "name": "stdout",
     "output_type": "stream",
     "text": [
      "{1, 2, 3, 4, 5, 6, 7, 8, 9, 10}\n",
      "{4, 5, 6, 7, 8}\n",
      "{8, 9, 10}\n"
     ]
    }
   ],
   "source": [
    "print(a)\n",
    "print(b)\n",
    "print(c)"
   ]
  },
  {
   "cell_type": "code",
   "execution_count": 269,
   "id": "c4307e54-f4ac-4b49-aa0c-62d150e21e43",
   "metadata": {},
   "outputs": [
    {
     "data": {
      "text/plain": [
       "{1, 2, 3, 9, 10}"
      ]
     },
     "execution_count": 269,
     "metadata": {},
     "output_type": "execute_result"
    }
   ],
   "source": [
    "a.difference(b) #remove all the elements of b from a"
   ]
  },
  {
   "cell_type": "code",
   "execution_count": 270,
   "id": "1c357e6d-4121-4a89-9583-98286e19d8bd",
   "metadata": {},
   "outputs": [
    {
     "data": {
      "text/plain": [
       "{1, 2, 3, 9, 10}"
      ]
     },
     "execution_count": 270,
     "metadata": {},
     "output_type": "execute_result"
    }
   ],
   "source": [
    "a - b"
   ]
  },
  {
   "cell_type": "code",
   "execution_count": 271,
   "id": "1c6b6377-a0fc-44b1-bf3d-506ed78be91d",
   "metadata": {},
   "outputs": [
    {
     "data": {
      "text/plain": [
       "{1, 2, 3}"
      ]
     },
     "execution_count": 271,
     "metadata": {},
     "output_type": "execute_result"
    }
   ],
   "source": [
    "a.difference(b,c)"
   ]
  },
  {
   "cell_type": "code",
   "execution_count": 272,
   "id": "8c7621e7-7da2-4ae0-9bb2-80c1dc50e27f",
   "metadata": {},
   "outputs": [
    {
     "data": {
      "text/plain": [
       "{1, 2, 3}"
      ]
     },
     "execution_count": 272,
     "metadata": {},
     "output_type": "execute_result"
    }
   ],
   "source": [
    "a - b - c"
   ]
  },
  {
   "cell_type": "code",
   "execution_count": 273,
   "id": "3aaeb23c-9116-4393-85e1-d3a8babb8fb8",
   "metadata": {},
   "outputs": [
    {
     "data": {
      "text/plain": [
       "set()"
      ]
     },
     "execution_count": 273,
     "metadata": {},
     "output_type": "execute_result"
    }
   ],
   "source": [
    "b - a"
   ]
  },
  {
   "cell_type": "code",
   "execution_count": 274,
   "id": "775303d8-01a0-49a7-a15a-b3b951b28281",
   "metadata": {},
   "outputs": [
    {
     "data": {
      "text/plain": [
       "{4, 5, 6, 7}"
      ]
     },
     "execution_count": 274,
     "metadata": {},
     "output_type": "execute_result"
    }
   ],
   "source": [
    "b - c"
   ]
  },
  {
   "cell_type": "markdown",
   "id": "19cd52cd-bae5-4215-b754-df189bd96127",
   "metadata": {},
   "source": [
    "SYMMETRIC DIFFERENCE"
   ]
  },
  {
   "cell_type": "code",
   "execution_count": 275,
   "id": "d9bb713b-f8ce-4348-94de-932d2d330ccf",
   "metadata": {},
   "outputs": [
    {
     "name": "stdout",
     "output_type": "stream",
     "text": [
      "{1, 2, 3, 4, 5, 6, 7, 8, 9, 10}\n",
      "{4, 5, 6, 7, 8}\n",
      "{8, 9, 10}\n"
     ]
    }
   ],
   "source": [
    "print(a)\n",
    "print(b)\n",
    "print(c)"
   ]
  },
  {
   "cell_type": "code",
   "execution_count": 276,
   "id": "1c844dc1-1de8-450e-baea-b04fb54ae241",
   "metadata": {},
   "outputs": [
    {
     "data": {
      "text/plain": [
       "{1, 2, 3, 9, 10}"
      ]
     },
     "execution_count": 276,
     "metadata": {},
     "output_type": "execute_result"
    }
   ],
   "source": [
    "a.symmetric_difference(b) "
   ]
  },
  {
   "cell_type": "code",
   "execution_count": 277,
   "id": "c1635640-dd8d-4cf4-a891-d2a8beeeb3bb",
   "metadata": {},
   "outputs": [],
   "source": [
    "b.add(11)"
   ]
  },
  {
   "cell_type": "code",
   "execution_count": 278,
   "id": "38bfd21c-1fae-4e9a-81d1-3ef3211736e9",
   "metadata": {},
   "outputs": [
    {
     "data": {
      "text/plain": [
       "{4, 5, 6, 7, 8, 11}"
      ]
     },
     "execution_count": 278,
     "metadata": {},
     "output_type": "execute_result"
    }
   ],
   "source": [
    "b"
   ]
  },
  {
   "cell_type": "code",
   "execution_count": 279,
   "id": "f6a70d86-3214-4638-baba-a49bae3719af",
   "metadata": {},
   "outputs": [
    {
     "data": {
      "text/plain": [
       "{1, 2, 3, 9, 10, 11}"
      ]
     },
     "execution_count": 279,
     "metadata": {},
     "output_type": "execute_result"
    }
   ],
   "source": [
    "a.symmetric_difference(b) #all elements of a and b except comman elements"
   ]
  },
  {
   "cell_type": "code",
   "execution_count": 280,
   "id": "794b2c28-74ca-4ffd-97d4-15acd9e7d660",
   "metadata": {},
   "outputs": [
    {
     "data": {
      "text/plain": [
       "{1, 2, 3, 9, 10, 11}"
      ]
     },
     "execution_count": 280,
     "metadata": {},
     "output_type": "execute_result"
    }
   ],
   "source": [
    "a ^ b"
   ]
  },
  {
   "cell_type": "code",
   "execution_count": 281,
   "id": "dbfa7290-348c-4401-9a31-604a90b1993d",
   "metadata": {},
   "outputs": [
    {
     "ename": "TypeError",
     "evalue": "set.symmetric_difference() takes exactly one argument (2 given)",
     "output_type": "error",
     "traceback": [
      "\u001b[1;31m---------------------------------------------------------------------------\u001b[0m",
      "\u001b[1;31mTypeError\u001b[0m                                 Traceback (most recent call last)",
      "Cell \u001b[1;32mIn[281], line 1\u001b[0m\n\u001b[1;32m----> 1\u001b[0m a\u001b[38;5;241m.\u001b[39msymmetric_difference(b,c)\n",
      "\u001b[1;31mTypeError\u001b[0m: set.symmetric_difference() takes exactly one argument (2 given)"
     ]
    }
   ],
   "source": [
    "a.symmetric_difference(b,c)"
   ]
  },
  {
   "cell_type": "code",
   "execution_count": 282,
   "id": "0a66f30b-caf4-4abd-a3cb-8e1a081de8e3",
   "metadata": {},
   "outputs": [
    {
     "data": {
      "text/plain": [
       "{1, 2, 3, 4, 5, 6, 7}"
      ]
     },
     "execution_count": 282,
     "metadata": {},
     "output_type": "execute_result"
    }
   ],
   "source": [
    "a.symmetric_difference(c)"
   ]
  },
  {
   "cell_type": "code",
   "execution_count": 283,
   "id": "6cd1ccf1-f9dc-442e-85ec-d9f5a5a2d905",
   "metadata": {},
   "outputs": [
    {
     "data": {
      "text/plain": [
       "{1, 2, 3, 4, 5, 6, 7}"
      ]
     },
     "execution_count": 283,
     "metadata": {},
     "output_type": "execute_result"
    }
   ],
   "source": [
    "a ^ c"
   ]
  },
  {
   "cell_type": "code",
   "execution_count": 284,
   "id": "46c4130f-98ef-4d3a-a935-7a512ce75d84",
   "metadata": {},
   "outputs": [
    {
     "name": "stdout",
     "output_type": "stream",
     "text": [
      "{1, 2, 3, 4, 5, 6, 7, 8, 9, 10}\n",
      "{4, 5, 6, 7, 8, 11}\n",
      "{8, 9, 10}\n"
     ]
    }
   ],
   "source": [
    "print(a)\n",
    "print(b)\n",
    "print(c)"
   ]
  },
  {
   "cell_type": "code",
   "execution_count": 285,
   "id": "20125016-1945-4da4-8e63-1e65b453ac72",
   "metadata": {},
   "outputs": [],
   "source": [
    "a.intersection_update(b) #All the comman elements of a and b are asigned to a"
   ]
  },
  {
   "cell_type": "code",
   "execution_count": 286,
   "id": "95c9a454-afe5-475e-9cf6-58467c510856",
   "metadata": {},
   "outputs": [
    {
     "data": {
      "text/plain": [
       "{4, 5, 6, 7, 8}"
      ]
     },
     "execution_count": 286,
     "metadata": {},
     "output_type": "execute_result"
    }
   ],
   "source": [
    "a"
   ]
  },
  {
   "cell_type": "code",
   "execution_count": 287,
   "id": "69ee6f0b-e6fb-4e15-953d-af59fb6ade7a",
   "metadata": {},
   "outputs": [],
   "source": [
    "a.intersection_update(c)"
   ]
  },
  {
   "cell_type": "code",
   "execution_count": 288,
   "id": "0f43ff3b-4e1e-433b-9e17-6ec0d846f60f",
   "metadata": {},
   "outputs": [
    {
     "data": {
      "text/plain": [
       "{8}"
      ]
     },
     "execution_count": 288,
     "metadata": {},
     "output_type": "execute_result"
    }
   ],
   "source": [
    "a"
   ]
  },
  {
   "cell_type": "code",
   "execution_count": 289,
   "id": "cbffdc44-aebb-4025-815d-27a70713690a",
   "metadata": {},
   "outputs": [
    {
     "name": "stdout",
     "output_type": "stream",
     "text": [
      "{8}\n",
      "{4, 5, 6, 7, 8, 11}\n",
      "{8, 9, 10}\n"
     ]
    }
   ],
   "source": [
    "print(a)\n",
    "print(b)\n",
    "print(c)"
   ]
  },
  {
   "cell_type": "code",
   "execution_count": 290,
   "id": "0e56f237-ec4d-4c3e-88f2-60b68d59b60c",
   "metadata": {},
   "outputs": [
    {
     "data": {
      "text/plain": [
       "set()"
      ]
     },
     "execution_count": 290,
     "metadata": {},
     "output_type": "execute_result"
    }
   ],
   "source": [
    "a.difference(b)"
   ]
  },
  {
   "cell_type": "code",
   "execution_count": 291,
   "id": "35a1e275-2194-4824-bf61-6e6b99f083cf",
   "metadata": {},
   "outputs": [
    {
     "data": {
      "text/plain": [
       "{8}"
      ]
     },
     "execution_count": 291,
     "metadata": {},
     "output_type": "execute_result"
    }
   ],
   "source": [
    "a"
   ]
  },
  {
   "cell_type": "code",
   "execution_count": 292,
   "id": "218e52a5-455d-45e9-aad0-b40e72bd42d3",
   "metadata": {},
   "outputs": [],
   "source": [
    "d=set()\n",
    "d.symmetric_difference_update(b)"
   ]
  },
  {
   "cell_type": "code",
   "execution_count": 293,
   "id": "ee923294-fae9-45f3-9036-816e4170cbd2",
   "metadata": {},
   "outputs": [
    {
     "data": {
      "text/plain": [
       "{4, 5, 6, 7, 8, 11}"
      ]
     },
     "execution_count": 293,
     "metadata": {},
     "output_type": "execute_result"
    }
   ],
   "source": [
    "d"
   ]
  },
  {
   "cell_type": "markdown",
   "id": "d107f19a-78f2-4623-981d-11512256cf7b",
   "metadata": {},
   "source": [
    "Subset,Superset and Disjoint"
   ]
  },
  {
   "cell_type": "code",
   "execution_count": 294,
   "id": "e700ba11-cdce-4bfb-a1de-eded8ed7fcb0",
   "metadata": {},
   "outputs": [],
   "source": [
    "A = {1,2,3,1,4,5,6,7,8,9}\n",
    "B = {3,4,5,6,7,8}\n",
    "C = {10,20,30}"
   ]
  },
  {
   "cell_type": "code",
   "execution_count": 295,
   "id": "713fed90-c593-4a67-b7f1-1096b3174159",
   "metadata": {},
   "outputs": [
    {
     "data": {
      "text/plain": [
       "True"
      ]
     },
     "execution_count": 295,
     "metadata": {},
     "output_type": "execute_result"
    }
   ],
   "source": [
    "A.issuperset(B)"
   ]
  },
  {
   "cell_type": "code",
   "execution_count": 296,
   "id": "f5f26c7a-3d2e-4106-9a04-d3d1fcc6d14d",
   "metadata": {},
   "outputs": [
    {
     "data": {
      "text/plain": [
       "False"
      ]
     },
     "execution_count": 296,
     "metadata": {},
     "output_type": "execute_result"
    }
   ],
   "source": [
    "A.issuperset(C)"
   ]
  },
  {
   "cell_type": "code",
   "execution_count": 297,
   "id": "d842aac7-ea45-490f-9403-728fe78c3c84",
   "metadata": {},
   "outputs": [
    {
     "data": {
      "text/plain": [
       "False"
      ]
     },
     "execution_count": 297,
     "metadata": {},
     "output_type": "execute_result"
    }
   ],
   "source": [
    "B.issuperset(A)"
   ]
  },
  {
   "cell_type": "code",
   "execution_count": 298,
   "id": "c6c799fa-e138-4086-a9f8-c0ec3519a164",
   "metadata": {},
   "outputs": [
    {
     "data": {
      "text/plain": [
       "False"
      ]
     },
     "execution_count": 298,
     "metadata": {},
     "output_type": "execute_result"
    }
   ],
   "source": [
    "A.issubset(B)"
   ]
  },
  {
   "cell_type": "code",
   "execution_count": 299,
   "id": "00c9608d-7c35-4a4e-9aa6-baa3de9b9c52",
   "metadata": {},
   "outputs": [
    {
     "data": {
      "text/plain": [
       "True"
      ]
     },
     "execution_count": 299,
     "metadata": {},
     "output_type": "execute_result"
    }
   ],
   "source": [
    "B.issubset(A)"
   ]
  },
  {
   "cell_type": "code",
   "execution_count": 300,
   "id": "07978a33-4895-4730-a717-c0f3572064c1",
   "metadata": {},
   "outputs": [
    {
     "data": {
      "text/plain": [
       "False"
      ]
     },
     "execution_count": 300,
     "metadata": {},
     "output_type": "execute_result"
    }
   ],
   "source": [
    "A.issubset(C)"
   ]
  },
  {
   "cell_type": "code",
   "execution_count": 301,
   "id": "ba796e46-4419-4d2a-b90a-a9e810ec9c22",
   "metadata": {},
   "outputs": [
    {
     "data": {
      "text/plain": [
       "True"
      ]
     },
     "execution_count": 301,
     "metadata": {},
     "output_type": "execute_result"
    }
   ],
   "source": [
    "A.isdisjoint(C)"
   ]
  },
  {
   "cell_type": "code",
   "execution_count": 302,
   "id": "64bc7dc5-6c97-445c-86bc-26c2367c37e6",
   "metadata": {},
   "outputs": [
    {
     "data": {
      "text/plain": [
       "True"
      ]
     },
     "execution_count": 302,
     "metadata": {},
     "output_type": "execute_result"
    }
   ],
   "source": [
    "C.isdisjoint(A)"
   ]
  },
  {
   "cell_type": "code",
   "execution_count": 303,
   "id": "e79da434-d7e9-4b29-a573-fe3d938fd649",
   "metadata": {},
   "outputs": [
    {
     "data": {
      "text/plain": [
       "False"
      ]
     },
     "execution_count": 303,
     "metadata": {},
     "output_type": "execute_result"
    }
   ],
   "source": [
    "A.isdisjoint(B)"
   ]
  },
  {
   "cell_type": "markdown",
   "id": "6a642866-0eda-4c77-b523-8958ecaa3873",
   "metadata": {},
   "source": [
    "Other built_in function"
   ]
  },
  {
   "cell_type": "code",
   "execution_count": 304,
   "id": "dd3f8c7a-18e8-40d6-b192-fbaeee9a61be",
   "metadata": {},
   "outputs": [],
   "source": [
    "A1 = {1,2,3,4,5,6,7,8,9,10}"
   ]
  },
  {
   "cell_type": "code",
   "execution_count": 305,
   "id": "08c9a5b3-89af-410c-aa53-78ee3c2da51c",
   "metadata": {},
   "outputs": [
    {
     "data": {
      "text/plain": [
       "55"
      ]
     },
     "execution_count": 305,
     "metadata": {},
     "output_type": "execute_result"
    }
   ],
   "source": [
    "sum(A1)"
   ]
  },
  {
   "cell_type": "code",
   "execution_count": 306,
   "id": "dedbdcf9-ed89-4de6-be82-07e6847a1870",
   "metadata": {},
   "outputs": [
    {
     "data": {
      "text/plain": [
       "10"
      ]
     },
     "execution_count": 306,
     "metadata": {},
     "output_type": "execute_result"
    }
   ],
   "source": [
    "max(A1)"
   ]
  },
  {
   "cell_type": "code",
   "execution_count": 307,
   "id": "03851198-a052-4752-a625-57252010659e",
   "metadata": {},
   "outputs": [
    {
     "data": {
      "text/plain": [
       "1"
      ]
     },
     "execution_count": 307,
     "metadata": {},
     "output_type": "execute_result"
    }
   ],
   "source": [
    "min(A1)"
   ]
  },
  {
   "cell_type": "code",
   "execution_count": 308,
   "id": "59ac4f1b-4f14-41db-8f7a-f38403494225",
   "metadata": {},
   "outputs": [
    {
     "data": {
      "text/plain": [
       "10"
      ]
     },
     "execution_count": 308,
     "metadata": {},
     "output_type": "execute_result"
    }
   ],
   "source": [
    "len(A1)"
   ]
  },
  {
   "cell_type": "code",
   "execution_count": 309,
   "id": "1308b481-7123-4860-a899-7b1bed875041",
   "metadata": {},
   "outputs": [
    {
     "data": {
      "text/plain": [
       "[(0, 1),\n",
       " (1, 2),\n",
       " (2, 3),\n",
       " (3, 4),\n",
       " (4, 5),\n",
       " (5, 6),\n",
       " (6, 7),\n",
       " (7, 8),\n",
       " (8, 9),\n",
       " (9, 10)]"
      ]
     },
     "execution_count": 309,
     "metadata": {},
     "output_type": "execute_result"
    }
   ],
   "source": [
    "list(enumerate(A1))"
   ]
  },
  {
   "cell_type": "code",
   "execution_count": 310,
   "id": "085b471f-09fb-446d-bf92-6b15379c7e96",
   "metadata": {},
   "outputs": [
    {
     "data": {
      "text/plain": [
       "((0, 1),\n",
       " (1, 2),\n",
       " (2, 3),\n",
       " (3, 4),\n",
       " (4, 5),\n",
       " (5, 6),\n",
       " (6, 7),\n",
       " (7, 8),\n",
       " (8, 9),\n",
       " (9, 10))"
      ]
     },
     "execution_count": 310,
     "metadata": {},
     "output_type": "execute_result"
    }
   ],
   "source": [
    "tuple(enumerate(A1))"
   ]
  },
  {
   "cell_type": "code",
   "execution_count": 311,
   "id": "3cc98297-5e60-475b-949c-ab19034b8448",
   "metadata": {},
   "outputs": [
    {
     "data": {
      "text/plain": [
       "{0: 1, 1: 2, 2: 3, 3: 4, 4: 5, 5: 6, 6: 7, 7: 8, 8: 9, 9: 10}"
      ]
     },
     "execution_count": 311,
     "metadata": {},
     "output_type": "execute_result"
    }
   ],
   "source": [
    "dict(enumerate(A1))"
   ]
  },
  {
   "cell_type": "code",
   "execution_count": 312,
   "id": "31d16e79-2163-47c2-85a5-afe4b58bdc1f",
   "metadata": {},
   "outputs": [
    {
     "data": {
      "text/plain": [
       "{1, 2, 3, 4, 5, 6, 7, 8, 9, 10}"
      ]
     },
     "execution_count": 312,
     "metadata": {},
     "output_type": "execute_result"
    }
   ],
   "source": [
    "A1"
   ]
  },
  {
   "cell_type": "code",
   "execution_count": 313,
   "id": "76235e52-4674-4783-9b76-fed8d0c29baf",
   "metadata": {},
   "outputs": [],
   "source": [
    "D = sorted(A,reverse=True)"
   ]
  },
  {
   "cell_type": "code",
   "execution_count": 314,
   "id": "6f2cc585-6c6b-4051-92c1-5ad0ceb93128",
   "metadata": {},
   "outputs": [
    {
     "data": {
      "text/plain": [
       "[9, 8, 7, 6, 5, 4, 3, 2, 1]"
      ]
     },
     "execution_count": 314,
     "metadata": {},
     "output_type": "execute_result"
    }
   ],
   "source": [
    "D"
   ]
  },
  {
   "cell_type": "code",
   "execution_count": 315,
   "id": "204aa20e-95ae-4f33-948a-8904a152a608",
   "metadata": {},
   "outputs": [
    {
     "data": {
      "text/plain": [
       "[1, 2, 3, 4, 5, 6, 7, 8, 9]"
      ]
     },
     "execution_count": 315,
     "metadata": {},
     "output_type": "execute_result"
    }
   ],
   "source": [
    "sorted(D)"
   ]
  },
  {
   "cell_type": "code",
   "execution_count": 316,
   "id": "362031b9-2a7b-4f54-8e4f-72732dc8e581",
   "metadata": {},
   "outputs": [
    {
     "data": {
      "text/plain": [
       "[9, 8, 7, 6, 5, 4, 3, 2, 1]"
      ]
     },
     "execution_count": 316,
     "metadata": {},
     "output_type": "execute_result"
    }
   ],
   "source": [
    "sorted(A,reverse=True)"
   ]
  },
  {
   "cell_type": "code",
   "execution_count": 317,
   "id": "3dd5efc1-d8a7-4551-8cc7-ad633ef0514b",
   "metadata": {},
   "outputs": [
    {
     "name": "stdout",
     "output_type": "stream",
     "text": [
      "[9, 8, 7, 6, 5, 4, 3, 2, 1]\n"
     ]
    }
   ],
   "source": [
    "print(D)"
   ]
  },
  {
   "cell_type": "markdown",
   "id": "285b0a43-6627-4eb7-98b2-9f5211e8da10",
   "metadata": {},
   "source": [
    "DICTIONARY"
   ]
  },
  {
   "cell_type": "markdown",
   "id": "a4dc2184-8e2b-4fd4-b66f-e3efebe10314",
   "metadata": {},
   "source": [
    "*Dictionary is a mutable data type in python\n",
    "*A python dictionary is acollection of key and value pairs separarated by     the colon: and enclosed by the curly braces{}\n",
    "*Keys must be unique in a dictionary , duplicate values are allowed"
   ]
  },
  {
   "cell_type": "code",
   "execution_count": 318,
   "id": "5f89ff82-b68b-4d17-8759-08bfdfc9063b",
   "metadata": {},
   "outputs": [],
   "source": [
    "d1 = {} #Empty dictionary"
   ]
  },
  {
   "cell_type": "code",
   "execution_count": 319,
   "id": "f3202309-ab6b-4901-a524-ed9f01440e7b",
   "metadata": {},
   "outputs": [
    {
     "data": {
      "text/plain": [
       "dict"
      ]
     },
     "execution_count": 319,
     "metadata": {},
     "output_type": "execute_result"
    }
   ],
   "source": [
    "type (d1)"
   ]
  },
  {
   "cell_type": "code",
   "execution_count": 320,
   "id": "a67a61e1-a5bd-4ba8-b5d3-0f3912b6d273",
   "metadata": {},
   "outputs": [],
   "source": [
    "myd1=dict()"
   ]
  },
  {
   "cell_type": "code",
   "execution_count": 321,
   "id": "07583ab4-05ab-4a0c-957c-2aab8c4163e5",
   "metadata": {},
   "outputs": [
    {
     "data": {
      "text/plain": [
       "{}"
      ]
     },
     "execution_count": 321,
     "metadata": {},
     "output_type": "execute_result"
    }
   ],
   "source": [
    "myd1"
   ]
  },
  {
   "cell_type": "code",
   "execution_count": 322,
   "id": "69b4ac75-ea7d-4df8-afeb-3f837e185103",
   "metadata": {},
   "outputs": [],
   "source": [
    "d2 = {1:'one',2:'two',3:'four'} #dictionary with integer keys"
   ]
  },
  {
   "cell_type": "code",
   "execution_count": 323,
   "id": "e58ab93b-1eb7-4ca6-a3f1-ee9a706b2139",
   "metadata": {},
   "outputs": [
    {
     "data": {
      "text/plain": [
       "{1: 'one', 2: 'two', 3: 'four'}"
      ]
     },
     "execution_count": 323,
     "metadata": {},
     "output_type": "execute_result"
    }
   ],
   "source": [
    "d2"
   ]
  },
  {
   "cell_type": "code",
   "execution_count": 324,
   "id": "df108d06-e04e-4e1d-b746-50824d4dfc2e",
   "metadata": {},
   "outputs": [],
   "source": [
    "d3 = dict({1:'one',2:'two',3:'three'}) #creating dictionary using dict()"
   ]
  },
  {
   "cell_type": "code",
   "execution_count": 325,
   "id": "a5571c25-487e-4677-906e-8feeb5bd1f5d",
   "metadata": {},
   "outputs": [
    {
     "data": {
      "text/plain": [
       "{1: 'one', 2: 'two', 3: 'three'}"
      ]
     },
     "execution_count": 325,
     "metadata": {},
     "output_type": "execute_result"
    }
   ],
   "source": [
    "d3"
   ]
  },
  {
   "cell_type": "code",
   "execution_count": 326,
   "id": "ea5e8213-87e5-4a34-9699-ffdadee1b728",
   "metadata": {},
   "outputs": [],
   "source": [
    "d4 = {'A':'one','B':'two','C':'three'} #dictionary with character keys"
   ]
  },
  {
   "cell_type": "code",
   "execution_count": 327,
   "id": "f1a316ee-a964-45c8-af8c-4b8e3c87c1ba",
   "metadata": {},
   "outputs": [
    {
     "data": {
      "text/plain": [
       "{'A': 'one', 'B': 'two', 'C': 'three'}"
      ]
     },
     "execution_count": 327,
     "metadata": {},
     "output_type": "execute_result"
    }
   ],
   "source": [
    "d4"
   ]
  },
  {
   "cell_type": "code",
   "execution_count": 328,
   "id": "fff02f49-553e-4ca0-9dfd-db20f365e98e",
   "metadata": {},
   "outputs": [],
   "source": [
    "d5 = {1:'one','B':'two',3:'three'} #dictionary with mix keys"
   ]
  },
  {
   "cell_type": "code",
   "execution_count": 329,
   "id": "02d08ac8-8570-42dd-a598-66e86dd0fe82",
   "metadata": {},
   "outputs": [
    {
     "data": {
      "text/plain": [
       "{1: 'one', 'B': 'two', 3: 'three'}"
      ]
     },
     "execution_count": 329,
     "metadata": {},
     "output_type": "execute_result"
    }
   ],
   "source": [
    "d5"
   ]
  },
  {
   "cell_type": "code",
   "execution_count": 330,
   "id": "7eed51ba-31e5-4326-9e7b-dc979fc0a6f4",
   "metadata": {},
   "outputs": [
    {
     "data": {
      "text/plain": [
       "dict_keys([1, 'B', 3])"
      ]
     },
     "execution_count": 330,
     "metadata": {},
     "output_type": "execute_result"
    }
   ],
   "source": [
    "d5.keys() #returns all the keys "
   ]
  },
  {
   "cell_type": "code",
   "execution_count": 331,
   "id": "50070648-fc50-49cf-8851-e922a2379942",
   "metadata": {},
   "outputs": [
    {
     "data": {
      "text/plain": [
       "dict_values(['one', 'two', 'three'])"
      ]
     },
     "execution_count": 331,
     "metadata": {},
     "output_type": "execute_result"
    }
   ],
   "source": [
    "d5.values() #returns all the values"
   ]
  },
  {
   "cell_type": "code",
   "execution_count": 332,
   "id": "243671e5-32c9-4073-aa04-cd0517291d63",
   "metadata": {},
   "outputs": [
    {
     "data": {
      "text/plain": [
       "dict_items([(1, 'one'), ('B', 'two'), (3, 'three')])"
      ]
     },
     "execution_count": 332,
     "metadata": {},
     "output_type": "execute_result"
    }
   ],
   "source": [
    "d5.items() #access each key-value pair within a dictionary"
   ]
  },
  {
   "cell_type": "code",
   "execution_count": 333,
   "id": "dc6817cc-d23b-4f12-8e34-d66d41c66004",
   "metadata": {},
   "outputs": [],
   "source": [
    "d6 = {1:'one',2:'two','A':['ali','jhon','maria']} #dictionary with list as value"
   ]
  },
  {
   "cell_type": "code",
   "execution_count": 334,
   "id": "87315d7e-ae99-4117-9517-61432f512e71",
   "metadata": {},
   "outputs": [
    {
     "data": {
      "text/plain": [
       "{1: 'one', 2: 'two', 'A': ['ali', 'jhon', 'maria']}"
      ]
     },
     "execution_count": 334,
     "metadata": {},
     "output_type": "execute_result"
    }
   ],
   "source": [
    "d6"
   ]
  },
  {
   "cell_type": "code",
   "execution_count": 335,
   "id": "e74da255-7d1b-481b-88b4-20d0ae28536b",
   "metadata": {},
   "outputs": [],
   "source": [
    "d7 = {1:'five',2:'six','D':(1,2,3,4),'F':[45,63,6.3]} #dictionary with list and tuple as value"
   ]
  },
  {
   "cell_type": "code",
   "execution_count": 336,
   "id": "a77dabff-90f8-4cde-85aa-60044f17c529",
   "metadata": {},
   "outputs": [
    {
     "data": {
      "text/plain": [
       "{1: 'five', 2: 'six', 'D': (1, 2, 3, 4), 'F': [45, 63, 6.3]}"
      ]
     },
     "execution_count": 336,
     "metadata": {},
     "output_type": "execute_result"
    }
   ],
   "source": [
    "d7"
   ]
  },
  {
   "cell_type": "code",
   "execution_count": 337,
   "id": "9c31c14d-b91e-439c-92dd-8a04a1fcb40b",
   "metadata": {},
   "outputs": [
    {
     "data": {
      "text/plain": [
       "dict_values(['five', 'six', (1, 2, 3, 4), [45, 63, 6.3]])"
      ]
     },
     "execution_count": 337,
     "metadata": {},
     "output_type": "execute_result"
    }
   ],
   "source": [
    "d7.values()"
   ]
  },
  {
   "cell_type": "code",
   "execution_count": 338,
   "id": "2751a390-fecc-4a6d-a73b-14880a1a217b",
   "metadata": {},
   "outputs": [],
   "source": [
    "d8 = {1:'one',2:'two','A':{'A1':'ONE','A2':'TWO'}} #Nested dictionary"
   ]
  },
  {
   "cell_type": "code",
   "execution_count": 339,
   "id": "6beac75d-1a9f-4218-bbfd-51142d1c8a08",
   "metadata": {},
   "outputs": [
    {
     "data": {
      "text/plain": [
       "{1: 'one', 2: 'two', 'A': {'A1': 'ONE', 'A2': 'TWO'}}"
      ]
     },
     "execution_count": 339,
     "metadata": {},
     "output_type": "execute_result"
    }
   ],
   "source": [
    "d8"
   ]
  },
  {
   "cell_type": "code",
   "execution_count": 340,
   "id": "d80befa2-226d-4716-b450-eb84c244b23e",
   "metadata": {},
   "outputs": [
    {
     "data": {
      "text/plain": [
       "dict_values(['one', 'two', {'A1': 'ONE', 'A2': 'TWO'}])"
      ]
     },
     "execution_count": 340,
     "metadata": {},
     "output_type": "execute_result"
    }
   ],
   "source": [
    "d8.values()"
   ]
  },
  {
   "cell_type": "code",
   "execution_count": 341,
   "id": "1c017d3b-6b60-4928-9bad-fbc6e980378b",
   "metadata": {},
   "outputs": [],
   "source": [
    "keys = {'a','b','c','d'} #Create a dictionary from a sequence of keys\n",
    "d9 = dict.fromkeys(keys)"
   ]
  },
  {
   "cell_type": "code",
   "execution_count": 342,
   "id": "523e06fa-0f2d-4658-92de-d374a9f30963",
   "metadata": {},
   "outputs": [
    {
     "data": {
      "text/plain": [
       "{'a': None, 'd': None, 'b': None, 'c': None}"
      ]
     },
     "execution_count": 342,
     "metadata": {},
     "output_type": "execute_result"
    }
   ],
   "source": [
    "d9"
   ]
  },
  {
   "cell_type": "code",
   "execution_count": 343,
   "id": "f482c670-e7e2-4284-8be7-05f57c8f6ac9",
   "metadata": {},
   "outputs": [],
   "source": [
    "keys = {1,2,3,4}\n",
    "value = 10\n",
    "d10 = dict.fromkeys(keys,value)"
   ]
  },
  {
   "cell_type": "code",
   "execution_count": 344,
   "id": "876294d8-4ba5-4c0a-8b0b-d72bab6fc5a9",
   "metadata": {},
   "outputs": [
    {
     "data": {
      "text/plain": [
       "{1: 10, 2: 10, 3: 10, 4: 10}"
      ]
     },
     "execution_count": 344,
     "metadata": {},
     "output_type": "execute_result"
    }
   ],
   "source": [
    "d10"
   ]
  },
  {
   "cell_type": "code",
   "execution_count": 345,
   "id": "9bbec451-1361-49a6-8028-fb94f4ae43de",
   "metadata": {},
   "outputs": [],
   "source": [
    "keys = {1,2,3,4}\n",
    "value = ['one','two','three']\n",
    "d11 = dict.fromkeys(keys,value)"
   ]
  },
  {
   "cell_type": "code",
   "execution_count": 346,
   "id": "77794d2c-797e-44f6-936b-e7d05c6cb6f9",
   "metadata": {},
   "outputs": [
    {
     "data": {
      "text/plain": [
       "{1: ['one', 'two', 'three'],\n",
       " 2: ['one', 'two', 'three'],\n",
       " 3: ['one', 'two', 'three'],\n",
       " 4: ['one', 'two', 'three']}"
      ]
     },
     "execution_count": 346,
     "metadata": {},
     "output_type": "execute_result"
    }
   ],
   "source": [
    "d11"
   ]
  },
  {
   "cell_type": "markdown",
   "id": "85acb5f7-d8e6-414d-9cee-003efef0a88b",
   "metadata": {},
   "source": [
    "Accessing items"
   ]
  },
  {
   "cell_type": "code",
   "execution_count": 347,
   "id": "e9fb8275-6b95-424c-b33e-b06db76b5951",
   "metadata": {},
   "outputs": [
    {
     "data": {
      "text/plain": [
       "{1: 'one', 2: 'two', 3: 'three'}"
      ]
     },
     "execution_count": 347,
     "metadata": {},
     "output_type": "execute_result"
    }
   ],
   "source": [
    "d3"
   ]
  },
  {
   "cell_type": "code",
   "execution_count": 348,
   "id": "6a4de229-1156-40a3-a96e-14295cf63089",
   "metadata": {},
   "outputs": [
    {
     "data": {
      "text/plain": [
       "'one'"
      ]
     },
     "execution_count": 348,
     "metadata": {},
     "output_type": "execute_result"
    }
   ],
   "source": [
    "d3[1] #accesssing item by using key"
   ]
  },
  {
   "cell_type": "code",
   "execution_count": 349,
   "id": "9ae1ff12-e7bb-4a22-8ec9-9d073a940071",
   "metadata": {},
   "outputs": [
    {
     "data": {
      "text/plain": [
       "'three'"
      ]
     },
     "execution_count": 349,
     "metadata": {},
     "output_type": "execute_result"
    }
   ],
   "source": [
    "d3[3]"
   ]
  },
  {
   "cell_type": "code",
   "execution_count": 350,
   "id": "b7e029b5-913d-49f1-8d4b-e78aa5fbf6ac",
   "metadata": {},
   "outputs": [
    {
     "data": {
      "text/plain": [
       "{'A': 'one', 'B': 'two', 'C': 'three'}"
      ]
     },
     "execution_count": 350,
     "metadata": {},
     "output_type": "execute_result"
    }
   ],
   "source": [
    "d4"
   ]
  },
  {
   "cell_type": "code",
   "execution_count": 351,
   "id": "b270b4e1-1087-4e45-a7e6-24bf79441b61",
   "metadata": {},
   "outputs": [
    {
     "data": {
      "text/plain": [
       "'one'"
      ]
     },
     "execution_count": 351,
     "metadata": {},
     "output_type": "execute_result"
    }
   ],
   "source": [
    "d4['A']"
   ]
  },
  {
   "cell_type": "code",
   "execution_count": 352,
   "id": "af92dfe5-82a2-4a5d-b4d3-70e33b2916db",
   "metadata": {},
   "outputs": [
    {
     "data": {
      "text/plain": [
       "'two'"
      ]
     },
     "execution_count": 352,
     "metadata": {},
     "output_type": "execute_result"
    }
   ],
   "source": [
    "d4.get('B') #access item by using get()"
   ]
  },
  {
   "cell_type": "code",
   "execution_count": 353,
   "id": "351c5699-d64a-470b-beb6-f1f9a86ca617",
   "metadata": {},
   "outputs": [
    {
     "data": {
      "text/plain": [
       "'two'"
      ]
     },
     "execution_count": 353,
     "metadata": {},
     "output_type": "execute_result"
    }
   ],
   "source": [
    "d3.get(2)"
   ]
  },
  {
   "cell_type": "markdown",
   "id": "b0f1d7bc-02f2-4c4b-a81c-5454e3099bb8",
   "metadata": {},
   "source": [
    "ADD,REMOVE & CHANGE ITEM"
   ]
  },
  {
   "cell_type": "code",
   "execution_count": 354,
   "id": "082b8695-9fd6-411a-a480-7567a53eb331",
   "metadata": {},
   "outputs": [
    {
     "data": {
      "text/plain": [
       "{'Name': 'Asif', 'ID': 12345, 'DOB': 1991, 'Address': 'Hilsinki'}"
      ]
     },
     "execution_count": 354,
     "metadata": {},
     "output_type": "execute_result"
    }
   ],
   "source": [
    "mydict={'Name':'Asif','ID':12345,'DOB':1991,'Address':'Hilsinki'}\n",
    "mydict"
   ]
  },
  {
   "cell_type": "code",
   "execution_count": 355,
   "id": "91048ac5-c7b0-40af-a9a6-d07c77ace6bc",
   "metadata": {},
   "outputs": [
    {
     "data": {
      "text/plain": [
       "{'Name': 'Asif', 'ID': 12345, 'DOB': 1992, 'Address': 'Delhi'}"
      ]
     },
     "execution_count": 355,
     "metadata": {},
     "output_type": "execute_result"
    }
   ],
   "source": [
    "mydict['DOB']=1992 #changing values\n",
    "mydict['Address']='Delhi'\n",
    "mydict"
   ]
  },
  {
   "cell_type": "code",
   "execution_count": 356,
   "id": "d0d4b9db-12cd-4289-a5a5-1523fb610abd",
   "metadata": {},
   "outputs": [],
   "source": [
    "dict1 = {'DOB':1995}\n",
    "mydict.update(dict1)"
   ]
  },
  {
   "cell_type": "code",
   "execution_count": 357,
   "id": "01ccfa8a-968f-4c02-8531-6842aee05f77",
   "metadata": {},
   "outputs": [
    {
     "data": {
      "text/plain": [
       "{'Name': 'Asif', 'ID': 12345, 'DOB': 1995, 'Address': 'Delhi'}"
      ]
     },
     "execution_count": 357,
     "metadata": {},
     "output_type": "execute_result"
    }
   ],
   "source": [
    "mydict"
   ]
  },
  {
   "cell_type": "code",
   "execution_count": 358,
   "id": "e7163060-24ff-4db7-9f66-2b8e97de029d",
   "metadata": {},
   "outputs": [],
   "source": [
    "mydict['Job']='Analyst' #adding elements to dictionary"
   ]
  },
  {
   "cell_type": "code",
   "execution_count": 359,
   "id": "2fbc3e07-5bc0-468f-9118-6f640291dd01",
   "metadata": {},
   "outputs": [
    {
     "data": {
      "text/plain": [
       "{'Name': 'Asif',\n",
       " 'ID': 12345,\n",
       " 'DOB': 1995,\n",
       " 'Address': 'Delhi',\n",
       " 'Job': 'Analyst'}"
      ]
     },
     "execution_count": 359,
     "metadata": {},
     "output_type": "execute_result"
    }
   ],
   "source": [
    "mydict"
   ]
  },
  {
   "cell_type": "code",
   "execution_count": 360,
   "id": "e4aed57f-c150-4f58-8cee-900bab42569b",
   "metadata": {},
   "outputs": [
    {
     "data": {
      "text/plain": [
       "'Analyst'"
      ]
     },
     "execution_count": 360,
     "metadata": {},
     "output_type": "execute_result"
    }
   ],
   "source": [
    "mydict.pop('Job') #removing items from dictionary using pop method"
   ]
  },
  {
   "cell_type": "code",
   "execution_count": 361,
   "id": "91818b5e-4e9c-4ec0-b7d1-609ad46563bf",
   "metadata": {},
   "outputs": [
    {
     "data": {
      "text/plain": [
       "{'Name': 'Asif', 'ID': 12345, 'DOB': 1995, 'Address': 'Delhi'}"
      ]
     },
     "execution_count": 361,
     "metadata": {},
     "output_type": "execute_result"
    }
   ],
   "source": [
    "mydict"
   ]
  },
  {
   "cell_type": "code",
   "execution_count": 362,
   "id": "b59096a7-cb72-43cf-85bd-adcb966182e1",
   "metadata": {},
   "outputs": [
    {
     "data": {
      "text/plain": [
       "('Address', 'Delhi')"
      ]
     },
     "execution_count": 362,
     "metadata": {},
     "output_type": "execute_result"
    }
   ],
   "source": [
    "mydict.popitem() #random remove an item"
   ]
  },
  {
   "cell_type": "code",
   "execution_count": 363,
   "id": "9e3a95d1-e49c-4ecf-8a9b-20a573cdec16",
   "metadata": {},
   "outputs": [
    {
     "data": {
      "text/plain": [
       "{'Name': 'Asif', 'ID': 12345, 'DOB': 1995}"
      ]
     },
     "execution_count": 363,
     "metadata": {},
     "output_type": "execute_result"
    }
   ],
   "source": [
    "mydict"
   ]
  },
  {
   "cell_type": "code",
   "execution_count": 364,
   "id": "df371ec6-d659-4183-bea7-8524984d5665",
   "metadata": {},
   "outputs": [],
   "source": [
    "del [mydict['DOB']] #removing item usind del method"
   ]
  },
  {
   "cell_type": "code",
   "execution_count": 365,
   "id": "cdf53b75-73ac-44eb-98e5-d53ab81a62c5",
   "metadata": {},
   "outputs": [
    {
     "data": {
      "text/plain": [
       "{'Name': 'Asif', 'ID': 12345}"
      ]
     },
     "execution_count": 365,
     "metadata": {},
     "output_type": "execute_result"
    }
   ],
   "source": [
    "mydict"
   ]
  },
  {
   "cell_type": "code",
   "execution_count": 367,
   "id": "fe69b1d0-71a4-47ab-bd2c-fe3396b220e4",
   "metadata": {},
   "outputs": [],
   "source": [
    "mydict.clear() #delete all the item of the dictionary"
   ]
  },
  {
   "cell_type": "code",
   "execution_count": 368,
   "id": "fe0f60b4-9355-4052-ba57-191a9ba10e79",
   "metadata": {},
   "outputs": [
    {
     "data": {
      "text/plain": [
       "{}"
      ]
     },
     "execution_count": 368,
     "metadata": {},
     "output_type": "execute_result"
    }
   ],
   "source": [
    "mydict"
   ]
  },
  {
   "cell_type": "code",
   "execution_count": 372,
   "id": "edb757e0-1981-4838-b144-2a683bb0abcb",
   "metadata": {},
   "outputs": [
    {
     "ename": "NameError",
     "evalue": "name 'mydict' is not defined",
     "output_type": "error",
     "traceback": [
      "\u001b[1;31m---------------------------------------------------------------------------\u001b[0m",
      "\u001b[1;31mNameError\u001b[0m                                 Traceback (most recent call last)",
      "Cell \u001b[1;32mIn[372], line 1\u001b[0m\n\u001b[1;32m----> 1\u001b[0m \u001b[38;5;28;01mdel\u001b[39;00m mydict \u001b[38;5;66;03m#delete the dictionary object\u001b[39;00m\n\u001b[0;32m      2\u001b[0m mydict\n",
      "\u001b[1;31mNameError\u001b[0m: name 'mydict' is not defined"
     ]
    }
   ],
   "source": [
    "del mydict #delete the dictionary object\n",
    "mydict"
   ]
  },
  {
   "cell_type": "markdown",
   "id": "2b808de9-cfc0-4589-81ae-1c5cdbf7c7f2",
   "metadata": {},
   "source": [
    "Copy Dictionary"
   ]
  },
  {
   "cell_type": "code",
   "execution_count": 373,
   "id": "f48b06f0-d65c-41c7-98f9-fc4a47c0b00c",
   "metadata": {},
   "outputs": [],
   "source": [
    "mydict={'Name':'Asif','ID':12345,'DOB':1991,'Address':'Hilsinki'}"
   ]
  },
  {
   "cell_type": "code",
   "execution_count": 374,
   "id": "5a73c39a-6c19-44df-868a-3b6faec5cff1",
   "metadata": {},
   "outputs": [
    {
     "data": {
      "text/plain": [
       "{'Name': 'Asif', 'ID': 12345, 'DOB': 1991, 'Address': 'Hilsinki'}"
      ]
     },
     "execution_count": 374,
     "metadata": {},
     "output_type": "execute_result"
    }
   ],
   "source": [
    "mydict"
   ]
  },
  {
   "cell_type": "code",
   "execution_count": 375,
   "id": "e3d2634c-0ca5-4458-a092-31c28a6fc292",
   "metadata": {},
   "outputs": [],
   "source": [
    "mydict1 = mydict"
   ]
  },
  {
   "cell_type": "code",
   "execution_count": 376,
   "id": "fbc55eb2-6be2-4771-a51b-b23dae7957a3",
   "metadata": {},
   "outputs": [
    {
     "data": {
      "text/plain": [
       "(1488986966144, 1488986966144)"
      ]
     },
     "execution_count": 376,
     "metadata": {},
     "output_type": "execute_result"
    }
   ],
   "source": [
    "id(mydict),id(mydict1)"
   ]
  },
  {
   "cell_type": "code",
   "execution_count": 377,
   "id": "d5c36cfd-40d0-4418-84a8-944a79bdc055",
   "metadata": {},
   "outputs": [],
   "source": [
    "mydict2 = mydict.copy()"
   ]
  },
  {
   "cell_type": "code",
   "execution_count": 378,
   "id": "5fdade3a-2a0c-4c16-b150-e0442c65c09b",
   "metadata": {},
   "outputs": [
    {
     "data": {
      "text/plain": [
       "{'Name': 'Asif', 'ID': 12345, 'DOB': 1991, 'Address': 'Hilsinki'}"
      ]
     },
     "execution_count": 378,
     "metadata": {},
     "output_type": "execute_result"
    }
   ],
   "source": [
    "mydict2"
   ]
  },
  {
   "cell_type": "code",
   "execution_count": 379,
   "id": "4a6a8a9f-6b34-4690-9413-b9af8fb5233f",
   "metadata": {},
   "outputs": [
    {
     "data": {
      "text/plain": [
       "(1488987068480, 1488986966144)"
      ]
     },
     "execution_count": 379,
     "metadata": {},
     "output_type": "execute_result"
    }
   ],
   "source": [
    "id(mydict2),id(mydict)"
   ]
  },
  {
   "cell_type": "code",
   "execution_count": 380,
   "id": "20f63e56-0298-457d-9df0-d71380c3fba2",
   "metadata": {},
   "outputs": [],
   "source": [
    "#id of mydict and mydict2 are different as it just copy the elements or item "
   ]
  },
  {
   "cell_type": "code",
   "execution_count": 381,
   "id": "3d01864c-d904-45df-b0c5-2f6b0cb13238",
   "metadata": {},
   "outputs": [],
   "source": [
    "mydict['Address']='mumbai'"
   ]
  },
  {
   "cell_type": "code",
   "execution_count": 382,
   "id": "97e40a9d-6dc7-4a74-9642-69e1f2702a60",
   "metadata": {},
   "outputs": [
    {
     "data": {
      "text/plain": [
       "{'Name': 'Asif', 'ID': 12345, 'DOB': 1991, 'Address': 'mumbai'}"
      ]
     },
     "execution_count": 382,
     "metadata": {},
     "output_type": "execute_result"
    }
   ],
   "source": [
    "mydict"
   ]
  },
  {
   "cell_type": "code",
   "execution_count": 383,
   "id": "34946741-c0f6-48af-bec4-ab152ea25403",
   "metadata": {},
   "outputs": [
    {
     "data": {
      "text/plain": [
       "{'Name': 'Asif', 'ID': 12345, 'DOB': 1991, 'Address': 'mumbai'}"
      ]
     },
     "execution_count": 383,
     "metadata": {},
     "output_type": "execute_result"
    }
   ],
   "source": [
    "mydict1 #mydict1 will be impacted as it is pointing to the same dictionary"
   ]
  },
  {
   "cell_type": "code",
   "execution_count": 384,
   "id": "d1667663-a35c-41a8-afdb-1242d0b9c758",
   "metadata": {},
   "outputs": [
    {
     "data": {
      "text/plain": [
       "{'Name': 'Asif', 'ID': 12345, 'DOB': 1991, 'Address': 'Hilsinki'}"
      ]
     },
     "execution_count": 384,
     "metadata": {},
     "output_type": "execute_result"
    }
   ],
   "source": [
    "mydict2 #mydict2 will not be impacted due to the change made"
   ]
  },
  {
   "cell_type": "markdown",
   "id": "41cc3721-bc8c-4218-8f03-ae03c139176c",
   "metadata": {},
   "source": [
    "Loop through a dictionary"
   ]
  },
  {
   "cell_type": "code",
   "execution_count": 385,
   "id": "783d44fa-4f52-4738-ae5b-b098e1e5856f",
   "metadata": {},
   "outputs": [
    {
     "data": {
      "text/plain": [
       "{'Name': 'Asif', 'ID': 12345, 'DOB': 1991, 'Address': 'mumbai'}"
      ]
     },
     "execution_count": 385,
     "metadata": {},
     "output_type": "execute_result"
    }
   ],
   "source": [
    "mydict"
   ]
  },
  {
   "cell_type": "code",
   "execution_count": 386,
   "id": "cb72b758-e0bf-4780-a5d3-9bfd615fa858",
   "metadata": {},
   "outputs": [
    {
     "name": "stdout",
     "output_type": "stream",
     "text": [
      "Name\n",
      "ID\n",
      "DOB\n",
      "Address\n"
     ]
    }
   ],
   "source": [
    "for i in mydict: #Only key\n",
    "    print(i)"
   ]
  },
  {
   "cell_type": "code",
   "execution_count": 387,
   "id": "0a185c55-8fb3-4c71-a930-66929819b75c",
   "metadata": {},
   "outputs": [
    {
     "name": "stdout",
     "output_type": "stream",
     "text": [
      "Name : Asif\n",
      "ID : 12345\n",
      "DOB : 1991\n",
      "Address : mumbai\n"
     ]
    }
   ],
   "source": [
    "for i in mydict:\n",
    "    print(i,':',mydict[i])"
   ]
  },
  {
   "cell_type": "code",
   "execution_count": 388,
   "id": "e5974d30-7101-48ba-b867-5c0d6b209b2e",
   "metadata": {},
   "outputs": [
    {
     "name": "stdout",
     "output_type": "stream",
     "text": [
      "Asif\n",
      "12345\n",
      "1991\n",
      "mumbai\n"
     ]
    }
   ],
   "source": [
    "for i in mydict: #values\n",
    "    print(mydict[i])"
   ]
  },
  {
   "cell_type": "markdown",
   "id": "c012ef8d-54cd-48d5-82ce-870ee5ff816a",
   "metadata": {},
   "source": [
    "Dictionary Membership"
   ]
  },
  {
   "cell_type": "code",
   "execution_count": 389,
   "id": "3b619313-2a65-4b5d-beb2-3fc953481ddf",
   "metadata": {},
   "outputs": [
    {
     "data": {
      "text/plain": [
       "{'Name': 'Asif', 'ID': 12345, 'DOB': 1991, 'Address': 'mumbai'}"
      ]
     },
     "execution_count": 389,
     "metadata": {},
     "output_type": "execute_result"
    }
   ],
   "source": [
    "mydict"
   ]
  },
  {
   "cell_type": "code",
   "execution_count": 390,
   "id": "811e19ff-644e-470a-a678-997bd3cc5123",
   "metadata": {},
   "outputs": [
    {
     "data": {
      "text/plain": [
       "True"
      ]
     },
     "execution_count": 390,
     "metadata": {},
     "output_type": "execute_result"
    }
   ],
   "source": [
    "'Name' in mydict #checks key is in dictionary"
   ]
  },
  {
   "cell_type": "code",
   "execution_count": 392,
   "id": "f75be510-16ff-4500-b9e1-22aa12a78a3a",
   "metadata": {},
   "outputs": [
    {
     "data": {
      "text/plain": [
       "False"
      ]
     },
     "execution_count": 392,
     "metadata": {},
     "output_type": "execute_result"
    }
   ],
   "source": [
    "'Asif' in mydict #checks only keys not values"
   ]
  },
  {
   "cell_type": "code",
   "execution_count": 393,
   "id": "713b3249-4983-47d5-b951-f06fdb6439a5",
   "metadata": {},
   "outputs": [
    {
     "data": {
      "text/plain": [
       "True"
      ]
     },
     "execution_count": 393,
     "metadata": {},
     "output_type": "execute_result"
    }
   ],
   "source": [
    "'ID' in mydict"
   ]
  },
  {
   "cell_type": "code",
   "execution_count": 394,
   "id": "43dd2eaa-edc4-4cf3-b41e-8f50929e9191",
   "metadata": {},
   "outputs": [
    {
     "data": {
      "text/plain": [
       "False"
      ]
     },
     "execution_count": 394,
     "metadata": {},
     "output_type": "execute_result"
    }
   ],
   "source": [
    "'id' in mydict"
   ]
  },
  {
   "cell_type": "markdown",
   "id": "0bf6c703-a419-4902-ab1e-e4d09a265eff",
   "metadata": {},
   "source": [
    "all / any"
   ]
  },
  {
   "cell_type": "markdown",
   "id": "bd89859c-3649-44de-bbf1-24e83ba32e98",
   "metadata": {},
   "source": [
    "The all() method returns:\n",
    "*True-If all keys of the dictionary are true\n",
    "*False-If any keys of the dictionary is false"
   ]
  },
  {
   "cell_type": "code",
   "execution_count": 395,
   "id": "8e11eef1-31f8-4c0b-ad05-ea39806b5a6c",
   "metadata": {},
   "outputs": [
    {
     "data": {
      "text/plain": [
       "{'Name': 'Asif', 'ID': 12345, 'DOB': 1991, 'Address': 'mumbai'}"
      ]
     },
     "execution_count": 395,
     "metadata": {},
     "output_type": "execute_result"
    }
   ],
   "source": [
    "mydict"
   ]
  },
  {
   "cell_type": "code",
   "execution_count": 396,
   "id": "d8ccaa3e-8aac-4144-a816-321a9e960250",
   "metadata": {},
   "outputs": [
    {
     "data": {
      "text/plain": [
       "True"
      ]
     },
     "execution_count": 396,
     "metadata": {},
     "output_type": "execute_result"
    }
   ],
   "source": [
    "all(mydict) #Will returns false as one value is "
   ]
  },
  {
   "cell_type": "code",
   "execution_count": null,
   "id": "90e12864-0e90-4685-a613-f3b85113ff43",
   "metadata": {},
   "outputs": [],
   "source": []
  }
 ],
 "metadata": {
  "kernelspec": {
   "display_name": "Python [conda env:base] *",
   "language": "python",
   "name": "conda-base-py"
  },
  "language_info": {
   "codemirror_mode": {
    "name": "ipython",
    "version": 3
   },
   "file_extension": ".py",
   "mimetype": "text/x-python",
   "name": "python",
   "nbconvert_exporter": "python",
   "pygments_lexer": "ipython3",
   "version": "3.13.5"
  }
 },
 "nbformat": 4,
 "nbformat_minor": 5
}
