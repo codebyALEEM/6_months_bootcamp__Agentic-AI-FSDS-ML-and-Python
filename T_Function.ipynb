{
 "cells": [
  {
   "cell_type": "markdown",
   "id": "613de7f3",
   "metadata": {},
   "source": [
    "Function in Python"
   ]
  },
  {
   "cell_type": "code",
   "execution_count": 1,
   "id": "ca89ca7f",
   "metadata": {},
   "outputs": [],
   "source": [
    "def hello():\n",
    "    print('good')"
   ]
  },
  {
   "cell_type": "code",
   "execution_count": 2,
   "id": "42ebfbac",
   "metadata": {},
   "outputs": [
    {
     "name": "stdout",
     "output_type": "stream",
     "text": [
      "good evening\n"
     ]
    }
   ],
   "source": [
    "def hello():\n",
    "    print('good evening')\n",
    "hello()"
   ]
  },
  {
   "cell_type": "code",
   "execution_count": 4,
   "id": "50ab5f48",
   "metadata": {},
   "outputs": [
    {
     "name": "stdout",
     "output_type": "stream",
     "text": [
      "good evening\n",
      "good evening\n",
      "good evening\n"
     ]
    }
   ],
   "source": [
    "def hello():\n",
    "    print('good evening')\n",
    "hello()\n",
    "\n",
    "def hello():\n",
    "    print('good evening')\n",
    "hello()\n",
    "\n",
    "def hello():\n",
    "    print('good evening')\n",
    "hello()"
   ]
  },
  {
   "cell_type": "code",
   "execution_count": null,
   "id": "93dcb50d",
   "metadata": {},
   "outputs": [
    {
     "name": "stdout",
     "output_type": "stream",
     "text": [
      "good evening\n",
      "good evening\n",
      "good evening\n",
      "good evening\n"
     ]
    }
   ],
   "source": [
    "def hello(): #Defining a function\n",
    "    print('good evening')\n",
    "hello()\n",
    "\n",
    "hello() # Calling a function\n",
    "\n",
    "hello()\n",
    "\n",
    "hello()"
   ]
  },
  {
   "cell_type": "markdown",
   "id": "4c07f3c0",
   "metadata": {},
   "source": [
    "Function with arguments"
   ]
  },
  {
   "cell_type": "code",
   "execution_count": 7,
   "id": "00bae82a",
   "metadata": {},
   "outputs": [
    {
     "name": "stdout",
     "output_type": "stream",
     "text": [
      "11\n"
     ]
    }
   ],
   "source": [
    "def add(x,y):\n",
    "    z = x + y\n",
    "    print(z)\n",
    "    \n",
    "add(5,6)"
   ]
  },
  {
   "cell_type": "code",
   "execution_count": null,
   "id": "33029b5e",
   "metadata": {},
   "outputs": [
    {
     "ename": "TypeError",
     "evalue": "add() missing 1 required positional argument: 'c'",
     "output_type": "error",
     "traceback": [
      "\u001b[31m---------------------------------------------------------------------------\u001b[39m",
      "\u001b[31mTypeError\u001b[39m                                 Traceback (most recent call last)",
      "\u001b[36mCell\u001b[39m\u001b[36m \u001b[39m\u001b[32mIn[8]\u001b[39m\u001b[32m, line 5\u001b[39m\n\u001b[32m      2\u001b[39m     z = a+b+c\n\u001b[32m      3\u001b[39m     \u001b[38;5;28mprint\u001b[39m(z)\n\u001b[32m----> \u001b[39m\u001b[32m5\u001b[39m \u001b[43madd\u001b[49m\u001b[43m(\u001b[49m\u001b[32;43m5\u001b[39;49m\u001b[43m,\u001b[49m\u001b[32;43m6\u001b[39;49m\u001b[43m)\u001b[49m    \n",
      "\u001b[31mTypeError\u001b[39m: add() missing 1 required positional argument: 'c'"
     ]
    }
   ],
   "source": [
    "def add(a,b,c):\n",
    "    z = a+b+c\n",
    "    print(z)\n",
    "    \n",
    "add(5,6)    #we have to pass three values "
   ]
  },
  {
   "cell_type": "code",
   "execution_count": 9,
   "id": "34b43604",
   "metadata": {},
   "outputs": [
    {
     "name": "stdout",
     "output_type": "stream",
     "text": [
      "18\n"
     ]
    }
   ],
   "source": [
    "def add(a,b,c):\n",
    "    z = a+b+c\n",
    "    print(z)\n",
    "    \n",
    "add(5,6,7)    "
   ]
  },
  {
   "cell_type": "code",
   "execution_count": 10,
   "id": "a09bbb07",
   "metadata": {},
   "outputs": [
    {
     "name": "stdout",
     "output_type": "stream",
     "text": [
      "11\n"
     ]
    }
   ],
   "source": [
    "def add(a,b):\n",
    "    c = a + b\n",
    "    print(c)\n",
    "    \n",
    "add(5,6)"
   ]
  },
  {
   "cell_type": "code",
   "execution_count": 11,
   "id": "377ebf6d",
   "metadata": {},
   "outputs": [
    {
     "data": {
      "text/plain": [
       "11"
      ]
     },
     "execution_count": 11,
     "metadata": {},
     "output_type": "execute_result"
    }
   ],
   "source": [
    "def add(a,b):\n",
    "    c = a + b\n",
    "    return c\n",
    "    \n",
    "add(5,6)"
   ]
  },
  {
   "cell_type": "code",
   "execution_count": 13,
   "id": "9aa76b24",
   "metadata": {},
   "outputs": [
    {
     "name": "stdout",
     "output_type": "stream",
     "text": [
      "good evening\n"
     ]
    },
    {
     "data": {
      "text/plain": [
       "11"
      ]
     },
     "execution_count": 13,
     "metadata": {},
     "output_type": "execute_result"
    }
   ],
   "source": [
    "def hello():\n",
    "    print('good evening')\n",
    "hello()\n",
    "\n",
    "\n",
    "def add(x,y):\n",
    "    c = x + y\n",
    "    return c\n",
    "add(5,6)"
   ]
  },
  {
   "cell_type": "code",
   "execution_count": 14,
   "id": "42925c06",
   "metadata": {},
   "outputs": [
    {
     "name": "stdout",
     "output_type": "stream",
     "text": [
      "good evening\n"
     ]
    },
    {
     "data": {
      "text/plain": [
       "11"
      ]
     },
     "execution_count": 14,
     "metadata": {},
     "output_type": "execute_result"
    }
   ],
   "source": [
    "def hello():\n",
    "    print('good evening')\n",
    "    \n",
    "def add(x,y):\n",
    "    c = x+y\n",
    "    return c\n",
    "\n",
    "hello()\n",
    "add(5,6)"
   ]
  },
  {
   "cell_type": "code",
   "execution_count": 20,
   "id": "b0d9c3cb",
   "metadata": {},
   "outputs": [
    {
     "name": "stdout",
     "output_type": "stream",
     "text": [
      "Hello\n",
      "good evening\n"
     ]
    },
    {
     "data": {
      "text/plain": [
       "4"
      ]
     },
     "execution_count": 20,
     "metadata": {},
     "output_type": "execute_result"
    }
   ],
   "source": [
    "def greet():\n",
    "    print('Hello')\n",
    "    print('good evening')\n",
    "    \n",
    "    \n",
    "def add(x,y):\n",
    "    z=x+y\n",
    "    return z\n",
    "\n",
    "\n",
    "def sub(a,b,c):\n",
    "    s = a-b-c\n",
    "    return s\n",
    "\n",
    "greet()\n",
    "add(5,6)\n",
    "sub(10,4,2)\n"
   ]
  },
  {
   "cell_type": "code",
   "execution_count": null,
   "id": "7af19ea2",
   "metadata": {},
   "outputs": [],
   "source": []
  }
 ],
 "metadata": {
  "kernelspec": {
   "display_name": "Python 3",
   "language": "python",
   "name": "python3"
  },
  "language_info": {
   "codemirror_mode": {
    "name": "ipython",
    "version": 3
   },
   "file_extension": ".py",
   "mimetype": "text/x-python",
   "name": "python",
   "nbconvert_exporter": "python",
   "pygments_lexer": "ipython3",
   "version": "3.13.7"
  }
 },
 "nbformat": 4,
 "nbformat_minor": 5
}
