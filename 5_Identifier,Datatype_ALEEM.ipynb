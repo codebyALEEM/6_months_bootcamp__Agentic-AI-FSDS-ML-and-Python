{
 "cells": [
  {
   "cell_type": "code",
   "execution_count": 1,
   "id": "51f57ad2-352d-4971-9460-6f5f39aae2db",
   "metadata": {},
   "outputs": [],
   "source": [
    "import sys\n",
    "import keyword\n",
    "import operator\n",
    "from datetime import datetime\n",
    "import os"
   ]
  },
  {
   "cell_type": "markdown",
   "id": "b705382d-f04d-49f8-a59e-72b126da243e",
   "metadata": {},
   "source": [
    "Keywords \n",
    "keywords are the reserved words in python and cant be used in an identifier"
   ]
  },
  {
   "cell_type": "code",
   "execution_count": 2,
   "id": "30c393ee-e22e-408e-ac0d-6f32b0fc106e",
   "metadata": {},
   "outputs": [
    {
     "name": "stdout",
     "output_type": "stream",
     "text": [
      "['False', 'None', 'True', 'and', 'as', 'assert', 'async', 'await', 'break', 'class', 'continue', 'def', 'del', 'elif', 'else', 'except', 'finally', 'for', 'from', 'global', 'if', 'import', 'in', 'is', 'lambda', 'nonlocal', 'not', 'or', 'pass', 'raise', 'return', 'try', 'while', 'with', 'yield']\n"
     ]
    }
   ],
   "source": [
    "print(keyword.kwlist) #List of all python keywords"
   ]
  },
  {
   "cell_type": "code",
   "execution_count": 3,
   "id": "6e88e78e-70a5-423b-83dc-f6246a5618f6",
   "metadata": {},
   "outputs": [
    {
     "data": {
      "text/plain": [
       "35"
      ]
     },
     "execution_count": 3,
     "metadata": {},
     "output_type": "execute_result"
    }
   ],
   "source": [
    "len(keyword.kwlist) #Python contains 35 keywords"
   ]
  },
  {
   "cell_type": "markdown",
   "id": "43f90cfc-df7e-4489-a8ec-924ba09c2075",
   "metadata": {},
   "source": [
    "Identifier\n",
    "An identifier ia a name given to class,function,variable etc .It helps to differentiate one entity from another"
   ]
  },
  {
   "cell_type": "code",
   "execution_count": 4,
   "id": "dfc4e4ee-19e5-4bbd-8754-dccc97c59d70",
   "metadata": {},
   "outputs": [
    {
     "ename": "SyntaxError",
     "evalue": "invalid decimal literal (1444930046.py, line 1)",
     "output_type": "error",
     "traceback": [
      "\u001b[1;36m  Cell \u001b[1;32mIn[4], line 1\u001b[1;36m\u001b[0m\n\u001b[1;33m    1var = 10 #Identifier cant start with number\u001b[0m\n\u001b[1;37m    ^\u001b[0m\n\u001b[1;31mSyntaxError\u001b[0m\u001b[1;31m:\u001b[0m invalid decimal literal\n"
     ]
    }
   ],
   "source": [
    "1var = 10 #Identifier cant start with number"
   ]
  },
  {
   "cell_type": "code",
   "execution_count": 5,
   "id": "5afe0ef3-b888-47d3-ab9e-526f8c7b7b1b",
   "metadata": {},
   "outputs": [
    {
     "ename": "SyntaxError",
     "evalue": "invalid syntax (1780509718.py, line 1)",
     "output_type": "error",
     "traceback": [
      "\u001b[1;36m  Cell \u001b[1;32mIn[5], line 1\u001b[1;36m\u001b[0m\n\u001b[1;33m    val2@ = 10 #Identifier cant use special symbol\u001b[0m\n\u001b[1;37m          ^\u001b[0m\n\u001b[1;31mSyntaxError\u001b[0m\u001b[1;31m:\u001b[0m invalid syntax\n"
     ]
    }
   ],
   "source": [
    "val2@ = 10 #Identifier cant use special symbol"
   ]
  },
  {
   "cell_type": "code",
   "execution_count": 6,
   "id": "b3bfb86c-5943-4aa3-9b77-15bb38f4e126",
   "metadata": {},
   "outputs": [
    {
     "ename": "SyntaxError",
     "evalue": "invalid syntax (2592537974.py, line 1)",
     "output_type": "error",
     "traceback": [
      "\u001b[1;36m  Cell \u001b[1;32mIn[6], line 1\u001b[1;36m\u001b[0m\n\u001b[1;33m    import = 10 #Keywords cant be used as identifiers\u001b[0m\n\u001b[1;37m           ^\u001b[0m\n\u001b[1;31mSyntaxError\u001b[0m\u001b[1;31m:\u001b[0m invalid syntax\n"
     ]
    }
   ],
   "source": [
    "import = 10 #Keywords cant be used as identifiers"
   ]
  },
  {
   "cell_type": "code",
   "execution_count": 12,
   "id": "a7804ecb-25d0-4dc6-ba57-d6cd691a2ddd",
   "metadata": {},
   "outputs": [
    {
     "data": {
      "text/plain": [
       "99"
      ]
     },
     "execution_count": 12,
     "metadata": {},
     "output_type": "execute_result"
    }
   ],
   "source": [
    "\"\"\"\n",
    "Correct ways f defining an identifier :\n",
    "Identifier can be a combination of letter in lowercase (a to z) \n",
    "or uppercase (A to Z) and only special character is allowed i.e \n",
    "_ underscore and numbers can be used in middle  \"\"\"\n",
    "\n",
    "val2 = 99\n",
    "val2"
   ]
  },
  {
   "cell_type": "markdown",
   "id": "2cf505ab-480e-4b43-b664-46f538c4277f",
   "metadata": {},
   "source": [
    "Comments in python\n",
    "comments can be used to explain the code for more readability"
   ]
  },
  {
   "cell_type": "code",
   "execution_count": 13,
   "id": "f1cad05e-272e-4313-a4c6-ccf46cb2e745",
   "metadata": {},
   "outputs": [],
   "source": [
    "# This is a single line commennt ,hash is used to write single line comment "
   ]
  },
  {
   "cell_type": "markdown",
   "id": "bd299e92-33bf-48a8-8565-14128d0cc38c",
   "metadata": {},
   "source": [
    "Multi line comment"
   ]
  },
  {
   "cell_type": "code",
   "execution_count": 16,
   "id": "2600978d-323f-4107-810d-505e22863f8b",
   "metadata": {},
   "outputs": [],
   "source": [
    "'''\n",
    "Multi\n",
    "line \n",
    "comment\n",
    "'''\n",
    "val = 10"
   ]
  },
  {
   "cell_type": "code",
   "execution_count": 17,
   "id": "7f2ffc87-be6d-4de3-b7aa-5a5a1fd7bbad",
   "metadata": {},
   "outputs": [],
   "source": [
    "\"\"\"\n",
    "Multi \n",
    "line \n",
    "comment\n",
    "\"\"\"\n",
    "val = 10"
   ]
  },
  {
   "cell_type": "markdown",
   "id": "09bd3563-666d-441e-be4a-6b16065848f3",
   "metadata": {},
   "source": [
    "Statements\n",
    "Instructions that a python interpreter can execute."
   ]
  },
  {
   "cell_type": "code",
   "execution_count": 26,
   "id": "96a8868d-0077-4e0f-8555-386f9f1d1ca6",
   "metadata": {},
   "outputs": [
    {
     "name": "stdout",
     "output_type": "stream",
     "text": [
      "20 <class 'int'> 0x7ffca904b608 140723144144392\n",
      "20 <class 'int'> 0x7ffca904b608 140723144144392\n",
      "20 <class 'int'> 0x7ffca904b608 140723144144392\n"
     ]
    }
   ],
   "source": [
    "p = 20\n",
    "q = 20\n",
    "r = q\n",
    "print(p,type(p),hex(id(p)),id(p))\n",
    "print(q,type(q),hex(id(q)),id(q))\n",
    "print(r,type(r),hex(id(r)),id(r))"
   ]
  },
  {
   "cell_type": "markdown",
   "id": "253de568-968d-4577-b29d-18b9562a60b8",
   "metadata": {},
   "source": [
    "Variable Assignment"
   ]
  },
  {
   "cell_type": "code",
   "execution_count": 27,
   "id": "d4fdefab-09bd-4a3f-bd39-2c127460864c",
   "metadata": {},
   "outputs": [
    {
     "name": "stdout",
     "output_type": "stream",
     "text": [
      "10\n",
      "2.3\n",
      "Python Language\n"
     ]
    }
   ],
   "source": [
    "intvar = 10\n",
    "floatvar = 2.3\n",
    "strvar = 'Python Language'\n",
    "\n",
    "print(intvar)\n",
    "print(floatvar)\n",
    "print(strvar)"
   ]
  },
  {
   "cell_type": "markdown",
   "id": "40fe6315-cfec-4e88-ad13-603918eb2ace",
   "metadata": {},
   "source": [
    "Multiple Assignment"
   ]
  },
  {
   "cell_type": "code",
   "execution_count": 29,
   "id": "4590ef71-6c1b-4c6b-9970-574049f54f6b",
   "metadata": {},
   "outputs": [
    {
     "name": "stdout",
     "output_type": "stream",
     "text": [
      "10\n",
      "2.3\n",
      "Python Language\n"
     ]
    }
   ],
   "source": [
    "intvar,floatvar,strvar = 10,2.3,'Python Language'\n",
    "print(intvar)\n",
    "print(floatvar)\n",
    "print(strvar)"
   ]
  },
  {
   "cell_type": "code",
   "execution_count": 33,
   "id": "b21d2d71-1e37-4c20-bb56-3c80df248d14",
   "metadata": {},
   "outputs": [
    {
     "name": "stdout",
     "output_type": "stream",
     "text": [
      "55 55 55 55\n"
     ]
    }
   ],
   "source": [
    "p1 = p2 =p3 =p4 =55\n",
    "print(p1,p2,p3,p4)\n"
   ]
  },
  {
   "cell_type": "markdown",
   "id": "a26812f2-5ebb-410e-8c71-875f0d9960d0",
   "metadata": {},
   "source": [
    "Data Type"
   ]
  },
  {
   "cell_type": "code",
   "execution_count": 44,
   "id": "e5128712-4989-4d34-8c54-d794aaee643e",
   "metadata": {},
   "outputs": [
    {
     "name": "stdout",
     "output_type": "stream",
     "text": [
      "10\n",
      "<class 'int'>\n",
      "28\n",
      "True\n"
     ]
    }
   ],
   "source": [
    "v1 = 10\n",
    "print(v1)\n",
    "print(type(v1))\n",
    "print(sys.getsizeof(v1))\n",
    "print(isinstance(v1,int))"
   ]
  },
  {
   "cell_type": "code",
   "execution_count": 45,
   "id": "96f796d8-bc46-4ba4-9c6f-c6a6b6b26ccd",
   "metadata": {},
   "outputs": [
    {
     "name": "stdout",
     "output_type": "stream",
     "text": [
      "2.33\n",
      "<class 'float'>\n",
      "24\n",
      "2.33 Is integer ? True\n"
     ]
    }
   ],
   "source": [
    "f1 = 2.33\n",
    "print(f1)\n",
    "print(type(f1))\n",
    "print(sys.getsizeof(f1)) #size of float object in bytes\n",
    "print(f1,'Is integer ?',isinstance(f1,float))\n",
    "\n",
    "      "
   ]
  },
  {
   "cell_type": "code",
   "execution_count": 43,
   "id": "8bef533b-1188-4ba3-a43a-e875a41f34c5",
   "metadata": {},
   "outputs": [
    {
     "name": "stdout",
     "output_type": "stream",
     "text": [
      "(2+3j)\n",
      "<class 'complex'>\n",
      "32\n",
      "(2+3j) Is complex? True\n"
     ]
    }
   ],
   "source": [
    "c1 = 2 + 3j\n",
    "print(c1)\n",
    "print(type(c1))\n",
    "print(sys.getsizeof(c1))\n",
    "print(c1,'Is complex?',isinstance(c1,complex))"
   ]
  },
  {
   "cell_type": "code",
   "execution_count": 46,
   "id": "a2caf462-df38-427b-8179-da49a6fd56ce",
   "metadata": {},
   "outputs": [
    {
     "data": {
      "text/plain": [
       "28"
      ]
     },
     "execution_count": 46,
     "metadata": {},
     "output_type": "execute_result"
    }
   ],
   "source": [
    "sys.getsizeof(int())"
   ]
  },
  {
   "cell_type": "code",
   "execution_count": 47,
   "id": "e79b7724-b430-4d04-8526-46aa2843d254",
   "metadata": {},
   "outputs": [
    {
     "data": {
      "text/plain": [
       "24"
      ]
     },
     "execution_count": 47,
     "metadata": {},
     "output_type": "execute_result"
    }
   ],
   "source": [
    "sys.getsizeof(float())"
   ]
  },
  {
   "cell_type": "code",
   "execution_count": 49,
   "id": "3cc1e404-b116-4454-ac66-a966046fe534",
   "metadata": {},
   "outputs": [
    {
     "data": {
      "text/plain": [
       "32"
      ]
     },
     "execution_count": 49,
     "metadata": {},
     "output_type": "execute_result"
    }
   ],
   "source": [
    "sys.getsizeof(complex())"
   ]
  },
  {
   "cell_type": "code",
   "execution_count": 51,
   "id": "02e3d1b1-1f0d-44b8-a043-744511cfd7e0",
   "metadata": {},
   "outputs": [
    {
     "data": {
      "text/plain": [
       "41"
      ]
     },
     "execution_count": 51,
     "metadata": {},
     "output_type": "execute_result"
    }
   ],
   "source": [
    "sys.getsizeof(str())"
   ]
  },
  {
   "cell_type": "code",
   "execution_count": 52,
   "id": "26c24b35-f58d-4306-9f14-aae7c716d5d4",
   "metadata": {},
   "outputs": [
    {
     "data": {
      "text/plain": [
       "28"
      ]
     },
     "execution_count": 52,
     "metadata": {},
     "output_type": "execute_result"
    }
   ],
   "source": [
    "sys.getsizeof(bool())"
   ]
  },
  {
   "cell_type": "markdown",
   "id": "52ecdcd6-3bfa-489d-a1f7-53ecb11e98e1",
   "metadata": {},
   "source": [
    "Boolen"
   ]
  },
  {
   "cell_type": "code",
   "execution_count": 53,
   "id": "7ef507ea-05d2-4ca5-9bfb-dc29749687a8",
   "metadata": {},
   "outputs": [
    {
     "name": "stdout",
     "output_type": "stream",
     "text": [
      "<class 'bool'>\n",
      "<class 'bool'>\n"
     ]
    },
    {
     "data": {
      "text/plain": [
       "True"
      ]
     },
     "execution_count": 53,
     "metadata": {},
     "output_type": "execute_result"
    }
   ],
   "source": [
    "b1 = True\n",
    "b2 = False\n",
    "print(type(b1))\n",
    "print(type(b2))\n",
    "isinstance(b1,bool)\n"
   ]
  },
  {
   "cell_type": "code",
   "execution_count": 55,
   "id": "ce15ad6a-f257-47ee-a0aa-45e873e105cc",
   "metadata": {},
   "outputs": [
    {
     "data": {
      "text/plain": [
       "False"
      ]
     },
     "execution_count": 55,
     "metadata": {},
     "output_type": "execute_result"
    }
   ],
   "source": [
    "bool(0)"
   ]
  },
  {
   "cell_type": "code",
   "execution_count": 56,
   "id": "01dd1a0a-e335-41da-82a0-1e838066c313",
   "metadata": {},
   "outputs": [
    {
     "data": {
      "text/plain": [
       "True"
      ]
     },
     "execution_count": 56,
     "metadata": {},
     "output_type": "execute_result"
    }
   ],
   "source": [
    "bool(1)\n"
   ]
  },
  {
   "cell_type": "code",
   "execution_count": 57,
   "id": "54d181fe-9171-4ddb-bd3f-b4bc910a7278",
   "metadata": {},
   "outputs": [
    {
     "data": {
      "text/plain": [
       "True"
      ]
     },
     "execution_count": 57,
     "metadata": {},
     "output_type": "execute_result"
    }
   ],
   "source": [
    "bool(13) #every non zero value will give true valve"
   ]
  },
  {
   "cell_type": "code",
   "execution_count": 58,
   "id": "10e5a0ba-9f5b-4659-a354-5976251d9a13",
   "metadata": {},
   "outputs": [
    {
     "data": {
      "text/plain": [
       "True"
      ]
     },
     "execution_count": 58,
     "metadata": {},
     "output_type": "execute_result"
    }
   ],
   "source": [
    "bool('10')"
   ]
  },
  {
   "cell_type": "code",
   "execution_count": 59,
   "id": "9440650b-a5ef-4a5b-81c7-2e7782dcb237",
   "metadata": {},
   "outputs": [
    {
     "data": {
      "text/plain": [
       "True"
      ]
     },
     "execution_count": 59,
     "metadata": {},
     "output_type": "execute_result"
    }
   ],
   "source": [
    "bool('ten')"
   ]
  },
  {
   "cell_type": "code",
   "execution_count": 60,
   "id": "86ab320e-56d5-42b0-84bf-41a1ccb8aa48",
   "metadata": {},
   "outputs": [
    {
     "data": {
      "text/plain": [
       "False"
      ]
     },
     "execution_count": 60,
     "metadata": {},
     "output_type": "execute_result"
    }
   ],
   "source": [
    "bool()"
   ]
  },
  {
   "cell_type": "markdown",
   "id": "413428e5-8891-4f8c-894d-bf589dd06c2f",
   "metadata": {},
   "source": [
    "String creation"
   ]
  },
  {
   "cell_type": "code",
   "execution_count": 61,
   "id": "2f8233d0-fbe9-4367-b00b-fabc50f54376",
   "metadata": {},
   "outputs": [
    {
     "data": {
      "text/plain": [
       "'hello world'"
      ]
     },
     "execution_count": 61,
     "metadata": {},
     "output_type": "execute_result"
    }
   ],
   "source": [
    "str1 = \"hello world\"\n",
    "str1"
   ]
  },
  {
   "cell_type": "code",
   "execution_count": 63,
   "id": "0571e6b6-1d73-4595-8c22-56472871ccbe",
   "metadata": {},
   "outputs": [
    {
     "data": {
      "text/plain": [
       "' hello world'"
      ]
     },
     "execution_count": 63,
     "metadata": {},
     "output_type": "execute_result"
    }
   ],
   "source": [
    "s2 = ' hello world'\n",
    "s2"
   ]
  },
  {
   "cell_type": "code",
   "execution_count": 66,
   "id": "933105dc-7463-43ea-b8d9-88e1d1735c0e",
   "metadata": {},
   "outputs": [
    {
     "name": "stdout",
     "output_type": "stream",
     "text": [
      "hello \n",
      "\n",
      "        world\n"
     ]
    }
   ],
   "source": [
    "s3 = '''hello \n",
    "\n",
    "        world'''\n",
    "print(s3)"
   ]
  },
  {
   "cell_type": "code",
   "execution_count": 70,
   "id": "95467f7f-1172-44b3-aa3f-31f63d1e2070",
   "metadata": {},
   "outputs": [
    {
     "name": "stdout",
     "output_type": "stream",
     "text": [
      "wooo wooo wooo wooo wooo wooo \n"
     ]
    },
    {
     "data": {
      "text/plain": [
       "30"
      ]
     },
     "execution_count": 70,
     "metadata": {},
     "output_type": "execute_result"
    }
   ],
   "source": [
    "s3 = 'wooo '\n",
    "s3 = s3 * 6\n",
    "print(s3)\n",
    "len(s3)"
   ]
  },
  {
   "cell_type": "markdown",
   "id": "a66027ec-9bd6-4fce-9883-b719d8141fa5",
   "metadata": {},
   "source": [
    "String Indexing"
   ]
  },
  {
   "cell_type": "code",
   "execution_count": 71,
   "id": "930b7aca-b755-4317-bc1f-4c351cace5af",
   "metadata": {},
   "outputs": [
    {
     "data": {
      "text/plain": [
       "'python programming'"
      ]
     },
     "execution_count": 71,
     "metadata": {},
     "output_type": "execute_result"
    }
   ],
   "source": [
    "s1 = 'python programming'\n",
    "s1"
   ]
  },
  {
   "cell_type": "code",
   "execution_count": 73,
   "id": "f4a974b9-61f6-4eaa-952a-bf6846c664b2",
   "metadata": {},
   "outputs": [
    {
     "data": {
      "text/plain": [
       "'p'"
      ]
     },
     "execution_count": 73,
     "metadata": {},
     "output_type": "execute_result"
    }
   ],
   "source": [
    "s1[0]"
   ]
  },
  {
   "cell_type": "code",
   "execution_count": 75,
   "id": "2a357f69-b849-43f4-9b1a-bd7c9502dc7e",
   "metadata": {},
   "outputs": [
    {
     "data": {
      "text/plain": [
       "'g'"
      ]
     },
     "execution_count": 75,
     "metadata": {},
     "output_type": "execute_result"
    }
   ],
   "source": [
    "s1[len(s1)-1] #last letter of string"
   ]
  },
  {
   "cell_type": "code",
   "execution_count": 76,
   "id": "b478aaa0-c78f-4b11-868d-eb1393a1fc9d",
   "metadata": {},
   "outputs": [
    {
     "data": {
      "text/plain": [
       "'g'"
      ]
     },
     "execution_count": 76,
     "metadata": {},
     "output_type": "execute_result"
    }
   ],
   "source": [
    "s1[-1] #last letter of string using negative indexing"
   ]
  },
  {
   "cell_type": "code",
   "execution_count": 77,
   "id": "88c42a31-d210-41f4-ab5a-2d66cadc7370",
   "metadata": {},
   "outputs": [
    {
     "data": {
      "text/plain": [
       "'thon'"
      ]
     },
     "execution_count": 77,
     "metadata": {},
     "output_type": "execute_result"
    }
   ],
   "source": [
    "s1[2:6]"
   ]
  },
  {
   "cell_type": "code",
   "execution_count": 83,
   "id": "b440448e-786c-40b1-bc88-9448a86c45a4",
   "metadata": {},
   "outputs": [
    {
     "data": {
      "text/plain": [
       "'pora'"
      ]
     },
     "execution_count": 83,
     "metadata": {},
     "output_type": "execute_result"
    }
   ],
   "source": [
    "s1[0:15:4]"
   ]
  },
  {
   "cell_type": "code",
   "execution_count": 84,
   "id": "63615fae-e0df-4b02-859e-20f421890c48",
   "metadata": {},
   "outputs": [
    {
     "data": {
      "text/plain": [
       "'mming'"
      ]
     },
     "execution_count": 84,
     "metadata": {},
     "output_type": "execute_result"
    }
   ],
   "source": [
    "s1[-5:]"
   ]
  },
  {
   "cell_type": "code",
   "execution_count": 85,
   "id": "445feeb0-0c39-4384-aa3e-c81f72a8adc1",
   "metadata": {},
   "outputs": [
    {
     "ename": "TypeError",
     "evalue": "'str' object does not support item assignment",
     "output_type": "error",
     "traceback": [
      "\u001b[1;31m---------------------------------------------------------------------------\u001b[0m",
      "\u001b[1;31mTypeError\u001b[0m                                 Traceback (most recent call last)",
      "Cell \u001b[1;32mIn[85], line 1\u001b[0m\n\u001b[1;32m----> 1\u001b[0m s1[\u001b[38;5;241m0\u001b[39m:\u001b[38;5;241m5\u001b[39m] \u001b[38;5;241m=\u001b[39m \u001b[38;5;124m'\u001b[39m\u001b[38;5;124mcode\u001b[39m\u001b[38;5;124m'\u001b[39m\n",
      "\u001b[1;31mTypeError\u001b[0m: 'str' object does not support item assignment"
     ]
    }
   ],
   "source": [
    "s1[0:5] = 'code' #string is immutable"
   ]
  },
  {
   "cell_type": "code",
   "execution_count": 86,
   "id": "861b7f2c-cfaa-44a0-a54c-60c3f8e0b4d1",
   "metadata": {},
   "outputs": [
    {
     "ename": "NameError",
     "evalue": "name 's1' is not defined",
     "output_type": "error",
     "traceback": [
      "\u001b[1;31m---------------------------------------------------------------------------\u001b[0m",
      "\u001b[1;31mNameError\u001b[0m                                 Traceback (most recent call last)",
      "Cell \u001b[1;32mIn[86], line 2\u001b[0m\n\u001b[0;32m      1\u001b[0m \u001b[38;5;28;01mdel\u001b[39;00m s1\n\u001b[1;32m----> 2\u001b[0m s1\n",
      "\u001b[1;31mNameError\u001b[0m: name 's1' is not defined"
     ]
    }
   ],
   "source": [
    "del s1 #Deleting a string\n",
    "s1"
   ]
  },
  {
   "cell_type": "code",
   "execution_count": 87,
   "id": "75fcf705-1532-4d7e-b16d-34dcae806940",
   "metadata": {},
   "outputs": [
    {
     "data": {
      "text/plain": [
       "'ALEEM SHAIKH'"
      ]
     },
     "execution_count": 87,
     "metadata": {},
     "output_type": "execute_result"
    }
   ],
   "source": [
    "#Concatenation of string\n",
    "\n",
    "s1 = 'ALEEM'\n",
    "s2 = 'SHAIKH'\n",
    "s3 = ' '\n",
    "s4 = s1 + s3 + s2\n",
    "s4"
   ]
  },
  {
   "cell_type": "code",
   "execution_count": null,
   "id": "7de1d466-ba89-4923-9e03-a0c470420237",
   "metadata": {},
   "outputs": [],
   "source": []
  }
 ],
 "metadata": {
  "kernelspec": {
   "display_name": "Python [conda env:base] *",
   "language": "python",
   "name": "conda-base-py"
  },
  "language_info": {
   "codemirror_mode": {
    "name": "ipython",
    "version": 3
   },
   "file_extension": ".py",
   "mimetype": "text/x-python",
   "name": "python",
   "nbconvert_exporter": "python",
   "pygments_lexer": "ipython3",
   "version": "3.13.5"
  }
 },
 "nbformat": 4,
 "nbformat_minor": 5
}
