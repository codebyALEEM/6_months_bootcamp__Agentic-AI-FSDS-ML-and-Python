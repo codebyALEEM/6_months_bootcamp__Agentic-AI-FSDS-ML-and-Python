{
 "cells": [
  {
   "cell_type": "code",
   "execution_count": null,
   "id": "e9c3a16f-8734-4d84-8118-5804a5f348dd",
   "metadata": {},
   "outputs": [],
   "source": [
    " COMMENTS"
   ]
  },
  {
   "cell_type": "code",
   "execution_count": 3,
   "id": "b9a53d67-440b-408d-b1b8-90d1f9c88358",
   "metadata": {},
   "outputs": [],
   "source": [
    "#This is the first comment\n",
    "spam = 1 # and this is the second comment\n",
    "         # ... and now a third !\n",
    "text = \"# This is not a comment because it's inside quotes.\"\n"
   ]
  },
  {
   "cell_type": "markdown",
   "id": "96b74927-73d5-4738-9dd7-3f1d5ecbee04",
   "metadata": {},
   "source": [
    "Python as a Calculator"
   ]
  },
  {
   "cell_type": "code",
   "execution_count": 4,
   "id": "e0d983bd-df42-41c9-b2d4-5be5d9d85cef",
   "metadata": {},
   "outputs": [
    {
     "data": {
      "text/plain": [
       "4"
      ]
     },
     "execution_count": 4,
     "metadata": {},
     "output_type": "execute_result"
    }
   ],
   "source": [
    "2 + 2"
   ]
  },
  {
   "cell_type": "code",
   "execution_count": 5,
   "id": "149b3b54-c9d1-4203-8b17-8f713161c905",
   "metadata": {},
   "outputs": [
    {
     "data": {
      "text/plain": [
       "20"
      ]
     },
     "execution_count": 5,
     "metadata": {},
     "output_type": "execute_result"
    }
   ],
   "source": [
    "50 - 5 * 6"
   ]
  },
  {
   "cell_type": "code",
   "execution_count": 6,
   "id": "983f6b78-3d4f-4337-9d51-862a9ed4d795",
   "metadata": {},
   "outputs": [
    {
     "data": {
      "text/plain": [
       "5.0"
      ]
     },
     "execution_count": 6,
     "metadata": {},
     "output_type": "execute_result"
    }
   ],
   "source": [
    "(50 - 5 * 6) / 4"
   ]
  },
  {
   "cell_type": "code",
   "execution_count": 7,
   "id": "44ee38d3-476c-404f-b936-b5b926b97713",
   "metadata": {},
   "outputs": [
    {
     "data": {
      "text/plain": [
       "1.6"
      ]
     },
     "execution_count": 7,
     "metadata": {},
     "output_type": "execute_result"
    }
   ],
   "source": [
    "8 / 5 #Division always return a float value"
   ]
  },
  {
   "cell_type": "code",
   "execution_count": 8,
   "id": "6c9dc1ed-6cec-44cb-9f14-b02bc54829a7",
   "metadata": {},
   "outputs": [
    {
     "data": {
      "text/plain": [
       "5.666666666666667"
      ]
     },
     "execution_count": 8,
     "metadata": {},
     "output_type": "execute_result"
    }
   ],
   "source": [
    "17 / 3 #Classic division returns a float "
   ]
  },
  {
   "cell_type": "code",
   "execution_count": 10,
   "id": "4e2fe6ef-a08f-471a-bb93-77546e017d57",
   "metadata": {},
   "outputs": [
    {
     "data": {
      "text/plain": [
       "5"
      ]
     },
     "execution_count": 10,
     "metadata": {},
     "output_type": "execute_result"
    }
   ],
   "source": [
    "17 // 3 # floor division discards the fractional part"
   ]
  },
  {
   "cell_type": "code",
   "execution_count": 11,
   "id": "3ff6fdc8-e5d0-42fb-9133-513ab5501ed7",
   "metadata": {},
   "outputs": [
    {
     "data": {
      "text/plain": [
       "2"
      ]
     },
     "execution_count": 11,
     "metadata": {},
     "output_type": "execute_result"
    }
   ],
   "source": [
    "17 % 3 # the % (modulus) operator returns the remainder of the division "
   ]
  },
  {
   "cell_type": "code",
   "execution_count": 12,
   "id": "055b0ead-85a5-481f-bfe5-c2dd6ca8445a",
   "metadata": {},
   "outputs": [
    {
     "data": {
      "text/plain": [
       "17"
      ]
     },
     "execution_count": 12,
     "metadata": {},
     "output_type": "execute_result"
    }
   ],
   "source": [
    "5 * 3 + 2 # floored quotient * divisor + remainder "
   ]
  },
  {
   "cell_type": "code",
   "execution_count": 13,
   "id": "77af8319-c135-43d9-bcf4-401d5a9a4459",
   "metadata": {},
   "outputs": [
    {
     "data": {
      "text/plain": [
       "25"
      ]
     },
     "execution_count": 13,
     "metadata": {},
     "output_type": "execute_result"
    }
   ],
   "source": [
    "5 ** 2 # 5 squared"
   ]
  },
  {
   "cell_type": "code",
   "execution_count": 14,
   "id": "8de1e2f1-a935-46cf-8794-15f7779121cb",
   "metadata": {},
   "outputs": [
    {
     "data": {
      "text/plain": [
       "128"
      ]
     },
     "execution_count": 14,
     "metadata": {},
     "output_type": "execute_result"
    }
   ],
   "source": [
    "2 ** 7 # 2 to the power of 7"
   ]
  },
  {
   "cell_type": "code",
   "execution_count": 15,
   "id": "358ff989-6663-42b2-ac23-648c96b7ea4e",
   "metadata": {},
   "outputs": [
    {
     "data": {
      "text/plain": [
       "900"
      ]
     },
     "execution_count": 15,
     "metadata": {},
     "output_type": "execute_result"
    }
   ],
   "source": [
    "width = 20\n",
    "height = 5 * 9\n",
    "width * height"
   ]
  },
  {
   "cell_type": "code",
   "execution_count": 16,
   "id": "54869ef7-33b3-462b-875e-5adf02ffa093",
   "metadata": {},
   "outputs": [
    {
     "ename": "NameError",
     "evalue": "name 'n' is not defined",
     "output_type": "error",
     "traceback": [
      "\u001b[1;31m---------------------------------------------------------------------------\u001b[0m",
      "\u001b[1;31mNameError\u001b[0m                                 Traceback (most recent call last)",
      "Cell \u001b[1;32mIn[16], line 1\u001b[0m\n\u001b[1;32m----> 1\u001b[0m n\n",
      "\u001b[1;31mNameError\u001b[0m: name 'n' is not defined"
     ]
    }
   ],
   "source": [
    "n # try to access an undefined variable "
   ]
  },
  {
   "cell_type": "code",
   "execution_count": 17,
   "id": "fd20c062-21df-4213-a1db-68a2036ebe6c",
   "metadata": {},
   "outputs": [
    {
     "data": {
      "text/plain": [
       "14.0"
      ]
     },
     "execution_count": 17,
     "metadata": {},
     "output_type": "execute_result"
    }
   ],
   "source": [
    "4 * 3.75 - 1 #operator with type operand converts the integer to floating point "
   ]
  },
  {
   "cell_type": "code",
   "execution_count": 18,
   "id": "e612111e-717b-4867-96ae-b3c080f8b840",
   "metadata": {},
   "outputs": [
    {
     "data": {
      "text/plain": [
       "12.5625"
      ]
     },
     "execution_count": 18,
     "metadata": {},
     "output_type": "execute_result"
    }
   ],
   "source": [
    "tax = 12.5 / 100\n",
    "price = 100.50\n",
    "price * tax\n"
   ]
  },
  {
   "cell_type": "code",
   "execution_count": 19,
   "id": "51473478-752b-4c5d-b7ce-bccc1d958026",
   "metadata": {},
   "outputs": [
    {
     "data": {
      "text/plain": [
       "113.0625"
      ]
     },
     "execution_count": 19,
     "metadata": {},
     "output_type": "execute_result"
    }
   ],
   "source": [
    "price + _  # In python, last printed value is assigned to the variable _ (underscore)"
   ]
  },
  {
   "cell_type": "code",
   "execution_count": 21,
   "id": "82562151-7f2e-4a0f-aa1b-eb7afd4b13ab",
   "metadata": {},
   "outputs": [
    {
     "data": {
      "text/plain": [
       "113.1"
      ]
     },
     "execution_count": 21,
     "metadata": {},
     "output_type": "execute_result"
    }
   ],
   "source": [
    "round(_,1)"
   ]
  },
  {
   "cell_type": "code",
   "execution_count": 22,
   "id": "d42c9749-50c4-4a12-ba99-00132155fc9c",
   "metadata": {},
   "outputs": [
    {
     "data": {
      "text/plain": [
       "'spam eggs'"
      ]
     },
     "execution_count": 22,
     "metadata": {},
     "output_type": "execute_result"
    }
   ],
   "source": [
    "'spam eggs' #single quotes"
   ]
  },
  {
   "cell_type": "code",
   "execution_count": 23,
   "id": "85a2da0a-6de3-4b19-a190-8bf08bfd112f",
   "metadata": {},
   "outputs": [
    {
     "data": {
      "text/plain": [
       "'Paris rabbit got your back :)! Yay!'"
      ]
     },
     "execution_count": 23,
     "metadata": {},
     "output_type": "execute_result"
    }
   ],
   "source": [
    "\"Paris rabbit got your back :)! Yay!\" #double quotes "
   ]
  },
  {
   "cell_type": "code",
   "execution_count": 24,
   "id": "20d1df22-610b-415c-8a70-06dbe00c5fd2",
   "metadata": {},
   "outputs": [
    {
     "data": {
      "text/plain": [
       "'1956'"
      ]
     },
     "execution_count": 24,
     "metadata": {},
     "output_type": "execute_result"
    }
   ],
   "source": [
    "'1956' #digits and numbers enclosed in quotes are also strings"
   ]
  },
  {
   "cell_type": "code",
   "execution_count": 25,
   "id": "793e665a-e619-4d7d-8d9d-109d95565406",
   "metadata": {},
   "outputs": [
    {
     "data": {
      "text/plain": [
       "\"don't\""
      ]
     },
     "execution_count": 25,
     "metadata": {},
     "output_type": "execute_result"
    }
   ],
   "source": [
    "'don\\'t' #use \\' to escape the single quote..."
   ]
  },
  {
   "cell_type": "code",
   "execution_count": 26,
   "id": "7b6ef028-1b9a-4cb8-bc7e-7863b5b36feb",
   "metadata": {},
   "outputs": [
    {
     "data": {
      "text/plain": [
       "\"don't\""
      ]
     },
     "execution_count": 26,
     "metadata": {},
     "output_type": "execute_result"
    }
   ],
   "source": [
    "\"don't\" #... or use double quotes instead"
   ]
  },
  {
   "cell_type": "code",
   "execution_count": 27,
   "id": "95b54fd5-c5a4-4ff7-9da1-ab16b67c2a7d",
   "metadata": {},
   "outputs": [
    {
     "data": {
      "text/plain": [
       "'\"Yes\",they said.'"
      ]
     },
     "execution_count": 27,
     "metadata": {},
     "output_type": "execute_result"
    }
   ],
   "source": [
    "'\"Yes\",they said.'"
   ]
  },
  {
   "cell_type": "code",
   "execution_count": 29,
   "id": "2d4bc842-f923-47c2-944c-3fe13a95497d",
   "metadata": {},
   "outputs": [
    {
     "data": {
      "text/plain": [
       "'\"Yes\",they said.'"
      ]
     },
     "execution_count": 29,
     "metadata": {},
     "output_type": "execute_result"
    }
   ],
   "source": [
    "\"\\\"Yes\\\",they said.\""
   ]
  },
  {
   "cell_type": "code",
   "execution_count": 30,
   "id": "f9e17955-912b-48c5-a3ef-98b77798cdb5",
   "metadata": {},
   "outputs": [
    {
     "data": {
      "text/plain": [
       "'Isn\"t, they said.'"
      ]
     },
     "execution_count": 30,
     "metadata": {},
     "output_type": "execute_result"
    }
   ],
   "source": [
    "'Isn\"t, they said.'"
   ]
  },
  {
   "cell_type": "code",
   "execution_count": 31,
   "id": "58055124-b5ea-4e2d-b1f1-1b36a5bd015a",
   "metadata": {},
   "outputs": [
    {
     "data": {
      "text/plain": [
       "\"Isn't, they said.\""
      ]
     },
     "execution_count": 31,
     "metadata": {},
     "output_type": "execute_result"
    }
   ],
   "source": [
    "\"Isn't, they said.\""
   ]
  },
  {
   "cell_type": "code",
   "execution_count": 32,
   "id": "fcacca19-bc06-43e1-b1c0-f88c0f8604d9",
   "metadata": {},
   "outputs": [
    {
     "data": {
      "text/plain": [
       "'Isn\"t,they said.'"
      ]
     },
     "execution_count": 32,
     "metadata": {},
     "output_type": "execute_result"
    }
   ],
   "source": [
    "\"Isn\\\"t,they said.\""
   ]
  },
  {
   "cell_type": "code",
   "execution_count": 37,
   "id": "82ef16c6-3be6-4895-9033-26659012ea9f",
   "metadata": {},
   "outputs": [
    {
     "data": {
      "text/plain": [
       "'First line.\\nSecond line.'"
      ]
     },
     "execution_count": 37,
     "metadata": {},
     "output_type": "execute_result"
    }
   ],
   "source": [
    "s = 'First line.\\nSecond line.' # \\n means new line\n",
    "s   #without print() ,special characters are included in the string\n"
   ]
  },
  {
   "cell_type": "code",
   "execution_count": 36,
   "id": "c96b0299-72d2-4bac-88f5-c83135cf6704",
   "metadata": {},
   "outputs": [
    {
     "name": "stdout",
     "output_type": "stream",
     "text": [
      "First line.\n",
      "Second line.\n"
     ]
    }
   ],
   "source": [
    "print(s) #with print(), special characters are interrupted , so produces new line "
   ]
  },
  {
   "cell_type": "code",
   "execution_count": 38,
   "id": "2f9c8dd0-94da-419a-b1c0-43101fd50c23",
   "metadata": {},
   "outputs": [
    {
     "name": "stdout",
     "output_type": "stream",
     "text": [
      "C:\\some\n",
      "ame\n"
     ]
    }
   ],
   "source": [
    "print('C:\\some\\name') #here \\n means newline!"
   ]
  },
  {
   "cell_type": "code",
   "execution_count": 39,
   "id": "e4bb1bdf-55ca-4470-879d-b4892290636f",
   "metadata": {},
   "outputs": [
    {
     "name": "stdout",
     "output_type": "stream",
     "text": [
      "c:\\some\\name\n"
     ]
    }
   ],
   "source": [
    "print(r'c:\\some\\name') #note the r before the quote"
   ]
  },
  {
   "cell_type": "code",
   "execution_count": 44,
   "id": "4f1c9f1e-5a0b-4515-ad38-10aa4bb84411",
   "metadata": {},
   "outputs": [
    {
     "name": "stdout",
     "output_type": "stream",
     "text": [
      "      Usage: thingy [OPTION]\n",
      "           -h\n",
      "           -H hostname                Hostname to connect to\n",
      "           \n"
     ]
    }
   ],
   "source": [
    "#<<<<<>>>>>>>>>>>>>>>>>>\n",
    "print(\"\"\"\\\n",
    "      Usage: thingy [OPTION]\n",
    "           -h\n",
    "           -H hostname                Hostname to connect to\n",
    "           \"\"\")\n",
    "\n",
    "# by using \\ we can skip "
   ]
  },
  {
   "cell_type": "code",
   "execution_count": 45,
   "id": "7240f80b-d3ae-48c2-b6a2-3dcbce105599",
   "metadata": {},
   "outputs": [
    {
     "data": {
      "text/plain": [
       "'unununium'"
      ]
     },
     "execution_count": 45,
     "metadata": {},
     "output_type": "execute_result"
    }
   ],
   "source": [
    "# 3 times 'un' followed by 'ium'\n",
    "3 * 'un' + 'ium'"
   ]
  },
  {
   "cell_type": "code",
   "execution_count": 46,
   "id": "08ced610-9909-42f7-8a73-3d58e56d3623",
   "metadata": {},
   "outputs": [
    {
     "data": {
      "text/plain": [
       "'python'"
      ]
     },
     "execution_count": 46,
     "metadata": {},
     "output_type": "execute_result"
    }
   ],
   "source": [
    "'py' 'thon' #two string nxt to each other are automatically concateanated"
   ]
  },
  {
   "cell_type": "code",
   "execution_count": 47,
   "id": "46844d12-8f8c-470a-98ae-0309ba59c372",
   "metadata": {},
   "outputs": [
    {
     "data": {
      "text/plain": [
       "'Put several strings within paranthesis to have them joined together.'"
      ]
     },
     "execution_count": 47,
     "metadata": {},
     "output_type": "execute_result"
    }
   ],
   "source": [
    "text = ('Put several strings within paranthesis '\n",
    "        'to have them joined together.')\n",
    "text\n"
   ]
  },
  {
   "cell_type": "code",
   "execution_count": 48,
   "id": "44caf62f-d795-4a1a-9bb2-964c886c90e8",
   "metadata": {},
   "outputs": [
    {
     "ename": "SyntaxError",
     "evalue": "invalid syntax (2247375812.py, line 2)",
     "output_type": "error",
     "traceback": [
      "\u001b[1;36m  Cell \u001b[1;32mIn[48], line 2\u001b[1;36m\u001b[0m\n\u001b[1;33m    prefix 'thon'\u001b[0m\n\u001b[1;37m           ^\u001b[0m\n\u001b[1;31mSyntaxError\u001b[0m\u001b[1;31m:\u001b[0m invalid syntax\n"
     ]
    }
   ],
   "source": [
    "prefix = 'Py'\n",
    "prefix 'thon'"
   ]
  },
  {
   "cell_type": "code",
   "execution_count": 52,
   "id": "ef3e2897-011a-49f5-bf6b-fef2df54c3f7",
   "metadata": {},
   "outputs": [
    {
     "data": {
      "text/plain": [
       "'Python'"
      ]
     },
     "execution_count": 52,
     "metadata": {},
     "output_type": "execute_result"
    }
   ],
   "source": [
    "prefix = 'Py'\n",
    "prefix + 'thon'"
   ]
  },
  {
   "cell_type": "code",
   "execution_count": 56,
   "id": "228619f9-33b2-4fe4-b26a-3cafb352b402",
   "metadata": {},
   "outputs": [
    {
     "data": {
      "text/plain": [
       "'p'"
      ]
     },
     "execution_count": 56,
     "metadata": {},
     "output_type": "execute_result"
    }
   ],
   "source": [
    "word='python'\n",
    "word[0]  # character in position 0"
   ]
  },
  {
   "cell_type": "code",
   "execution_count": 55,
   "id": "792d1dc5-ee9f-4b7e-82b9-20fda1fd8fbc",
   "metadata": {},
   "outputs": [
    {
     "data": {
      "text/plain": [
       "'n'"
      ]
     },
     "execution_count": 55,
     "metadata": {},
     "output_type": "execute_result"
    }
   ],
   "source": [
    "word[5] #characyer in position 5"
   ]
  },
  {
   "cell_type": "code",
   "execution_count": 57,
   "id": "dafb6a78-2e9a-4ee9-9e5e-3460238e6e78",
   "metadata": {},
   "outputs": [
    {
     "data": {
      "text/plain": [
       "'n'"
      ]
     },
     "execution_count": 57,
     "metadata": {},
     "output_type": "execute_result"
    }
   ],
   "source": [
    "word[-1] #last character of the word"
   ]
  },
  {
   "cell_type": "code",
   "execution_count": 58,
   "id": "ffaaa816-e9c5-44e4-a63c-8492a01b86d6",
   "metadata": {},
   "outputs": [
    {
     "data": {
      "text/plain": [
       "'o'"
      ]
     },
     "execution_count": 58,
     "metadata": {},
     "output_type": "execute_result"
    }
   ],
   "source": [
    "word[-2]"
   ]
  },
  {
   "cell_type": "code",
   "execution_count": 59,
   "id": "a1a70adb-8d8b-4d95-8a45-8957c9fbdddf",
   "metadata": {},
   "outputs": [
    {
     "data": {
      "text/plain": [
       "'o'"
      ]
     },
     "execution_count": 59,
     "metadata": {},
     "output_type": "execute_result"
    }
   ],
   "source": [
    "word[-2]"
   ]
  },
  {
   "cell_type": "code",
   "execution_count": 60,
   "id": "cd010ee5-1ab5-460b-87a0-9988c8eff5b1",
   "metadata": {},
   "outputs": [
    {
     "data": {
      "text/plain": [
       "'th'"
      ]
     },
     "execution_count": 60,
     "metadata": {},
     "output_type": "execute_result"
    }
   ],
   "source": [
    "word[2:4] #characyer from 2 to 4"
   ]
  },
  {
   "cell_type": "code",
   "execution_count": 61,
   "id": "a48de1a2-c02b-4dbf-9dd9-1ec1b07d26f5",
   "metadata": {},
   "outputs": [
    {
     "data": {
      "text/plain": [
       "''"
      ]
     },
     "execution_count": 61,
     "metadata": {},
     "output_type": "execute_result"
    }
   ],
   "source": [
    "word[-1:-3]"
   ]
  },
  {
   "cell_type": "code",
   "execution_count": 63,
   "id": "fcbf7e7e-24f1-4806-ba52-926c179f43ca",
   "metadata": {},
   "outputs": [
    {
     "data": {
      "text/plain": [
       "'ho'"
      ]
     },
     "execution_count": 63,
     "metadata": {},
     "output_type": "execute_result"
    }
   ],
   "source": [
    "word[-3:-1]\n"
   ]
  },
  {
   "cell_type": "code",
   "execution_count": 64,
   "id": "904f6a6b-56eb-474d-9e1a-45964089efae",
   "metadata": {},
   "outputs": [
    {
     "data": {
      "text/plain": [
       "'ytho'"
      ]
     },
     "execution_count": 64,
     "metadata": {},
     "output_type": "execute_result"
    }
   ],
   "source": [
    "word[-5:-1]"
   ]
  },
  {
   "cell_type": "code",
   "execution_count": 66,
   "id": "fec08613-ce87-45c8-980d-0b532da78cad",
   "metadata": {},
   "outputs": [
    {
     "data": {
      "text/plain": [
       "'pyt'"
      ]
     },
     "execution_count": 66,
     "metadata": {},
     "output_type": "execute_result"
    }
   ],
   "source": [
    "word[:-3]"
   ]
  },
  {
   "cell_type": "code",
   "execution_count": 67,
   "id": "000703ce-8dc3-4069-99ab-bf51d753484e",
   "metadata": {},
   "outputs": [
    {
     "data": {
      "text/plain": [
       "'thon'"
      ]
     },
     "execution_count": 67,
     "metadata": {},
     "output_type": "execute_result"
    }
   ],
   "source": [
    "word[2:]"
   ]
  },
  {
   "cell_type": "code",
   "execution_count": 68,
   "id": "65d7c8b4-1cde-483b-85d8-05ac09a3c79e",
   "metadata": {},
   "outputs": [
    {
     "data": {
      "text/plain": [
       "'python'"
      ]
     },
     "execution_count": 68,
     "metadata": {},
     "output_type": "execute_result"
    }
   ],
   "source": [
    "word[:2] + word[2:]"
   ]
  },
  {
   "cell_type": "code",
   "execution_count": 69,
   "id": "1caf6170-7636-4656-9e9f-f4489f6128e1",
   "metadata": {},
   "outputs": [
    {
     "data": {
      "text/plain": [
       "'python'"
      ]
     },
     "execution_count": 69,
     "metadata": {},
     "output_type": "execute_result"
    }
   ],
   "source": [
    "word[:4]+word[4:]"
   ]
  },
  {
   "cell_type": "code",
   "execution_count": 70,
   "id": "ec9211a1-dc65-4c90-a94f-e90ede849828",
   "metadata": {},
   "outputs": [
    {
     "ename": "IndexError",
     "evalue": "string index out of range",
     "output_type": "error",
     "traceback": [
      "\u001b[1;31m---------------------------------------------------------------------------\u001b[0m",
      "\u001b[1;31mIndexError\u001b[0m                                Traceback (most recent call last)",
      "Cell \u001b[1;32mIn[70], line 1\u001b[0m\n\u001b[1;32m----> 1\u001b[0m word[\u001b[38;5;241m42\u001b[39m]\n",
      "\u001b[1;31mIndexError\u001b[0m: string index out of range"
     ]
    }
   ],
   "source": [
    "word[42] # Out of range error"
   ]
  },
  {
   "cell_type": "code",
   "execution_count": 71,
   "id": "3f7787ad-42ab-482c-8f65-e22faab4ed7f",
   "metadata": {},
   "outputs": [
    {
     "data": {
      "text/plain": [
       "6"
      ]
     },
     "execution_count": 71,
     "metadata": {},
     "output_type": "execute_result"
    }
   ],
   "source": [
    "len(word)"
   ]
  },
  {
   "cell_type": "code",
   "execution_count": 72,
   "id": "92a82694-d942-404f-9753-02972b24676c",
   "metadata": {},
   "outputs": [
    {
     "data": {
      "text/plain": [
       "'on'"
      ]
     },
     "execution_count": 72,
     "metadata": {},
     "output_type": "execute_result"
    }
   ],
   "source": [
    "word[4:42]\n"
   ]
  },
  {
   "cell_type": "code",
   "execution_count": 73,
   "id": "4e68819a-8a21-4825-8ba4-37d886e742e9",
   "metadata": {},
   "outputs": [
    {
     "data": {
      "text/plain": [
       "''"
      ]
     },
     "execution_count": 73,
     "metadata": {},
     "output_type": "execute_result"
    }
   ],
   "source": [
    "word[42:]"
   ]
  },
  {
   "cell_type": "code",
   "execution_count": 74,
   "id": "9de865d9-82de-4994-a3f6-8544b968ad27",
   "metadata": {},
   "outputs": [
    {
     "ename": "TypeError",
     "evalue": "'str' object does not support item assignment",
     "output_type": "error",
     "traceback": [
      "\u001b[1;31m---------------------------------------------------------------------------\u001b[0m",
      "\u001b[1;31mTypeError\u001b[0m                                 Traceback (most recent call last)",
      "Cell \u001b[1;32mIn[74], line 1\u001b[0m\n\u001b[1;32m----> 1\u001b[0m word[\u001b[38;5;241m0\u001b[39m]\u001b[38;5;241m=\u001b[39m\u001b[38;5;124m'\u001b[39m\u001b[38;5;124mj\u001b[39m\u001b[38;5;124m'\u001b[39m\n",
      "\u001b[1;31mTypeError\u001b[0m: 'str' object does not support item assignment"
     ]
    }
   ],
   "source": [
    "word[0]='j' #python string can't be change ,they are immutable "
   ]
  },
  {
   "cell_type": "code",
   "execution_count": 76,
   "id": "be937ab6-7095-4d5e-8d96-f80244faa35a",
   "metadata": {},
   "outputs": [
    {
     "ename": "NameError",
     "evalue": "name 'th' is not defined",
     "output_type": "error",
     "traceback": [
      "\u001b[1;31m---------------------------------------------------------------------------\u001b[0m",
      "\u001b[1;31mNameError\u001b[0m                                 Traceback (most recent call last)",
      "Cell \u001b[1;32mIn[76], line 1\u001b[0m\n\u001b[1;32m----> 1\u001b[0m word[:\u001b[38;5;241m2\u001b[39m]\u001b[38;5;241m=\u001b[39mth\n",
      "\u001b[1;31mNameError\u001b[0m: name 'th' is not defined"
     ]
    }
   ],
   "source": [
    "word[:2]= 'th'"
   ]
  },
  {
   "cell_type": "code",
   "execution_count": 78,
   "id": "633f856c-997c-4483-befc-57d2355c27a7",
   "metadata": {},
   "outputs": [
    {
     "data": {
      "text/plain": [
       "'pythonisabestprograminglanguageintheentireworld'"
      ]
     },
     "execution_count": 78,
     "metadata": {},
     "output_type": "execute_result"
    }
   ],
   "source": [
    "s='pythonisabestprograminglanguageintheentireworld'\n",
    "len(s)\n",
    "s[:47]"
   ]
  },
  {
   "cell_type": "code",
   "execution_count": 79,
   "id": "44f46d7f-749a-47c7-b36d-8bd2756a3726",
   "metadata": {},
   "outputs": [
    {
     "data": {
      "text/plain": [
       "[1, 4, 9, 16, 25]"
      ]
     },
     "execution_count": 79,
     "metadata": {},
     "output_type": "execute_result"
    }
   ],
   "source": [
    "squares= [1,4,9,16,25] #list\n",
    "squares"
   ]
  },
  {
   "cell_type": "code",
   "execution_count": 80,
   "id": "db8ae67c-81ee-4d14-a0e8-9abcc11a0baa",
   "metadata": {},
   "outputs": [
    {
     "data": {
      "text/plain": [
       "1"
      ]
     },
     "execution_count": 80,
     "metadata": {},
     "output_type": "execute_result"
    }
   ],
   "source": [
    "squares[0] #indexing return the item"
   ]
  },
  {
   "cell_type": "code",
   "execution_count": 81,
   "id": "f9ee6303-1512-49ae-8069-50d27d582f6f",
   "metadata": {},
   "outputs": [
    {
     "data": {
      "text/plain": [
       "25"
      ]
     },
     "execution_count": 81,
     "metadata": {},
     "output_type": "execute_result"
    }
   ],
   "source": [
    "squares[-1]\n"
   ]
  },
  {
   "cell_type": "code",
   "execution_count": 82,
   "id": "48ef6842-f129-4233-a49c-64d718d6c10c",
   "metadata": {},
   "outputs": [
    {
     "data": {
      "text/plain": [
       "[1, 4, 9]"
      ]
     },
     "execution_count": 82,
     "metadata": {},
     "output_type": "execute_result"
    }
   ],
   "source": [
    "squares[:3]"
   ]
  },
  {
   "cell_type": "code",
   "execution_count": 83,
   "id": "75778575-95e1-488f-a377-b0c56a2078ce",
   "metadata": {},
   "outputs": [
    {
     "data": {
      "text/plain": [
       "[16, 25]"
      ]
     },
     "execution_count": 83,
     "metadata": {},
     "output_type": "execute_result"
    }
   ],
   "source": [
    "squares[3:]"
   ]
  },
  {
   "cell_type": "code",
   "execution_count": 84,
   "id": "17a8aa27-c7e8-44e9-a9bb-5c0aa850d574",
   "metadata": {},
   "outputs": [
    {
     "data": {
      "text/plain": [
       "[1, 4, 9, 16, 25, 25, 26, 36, 38, 45]"
      ]
     },
     "execution_count": 84,
     "metadata": {},
     "output_type": "execute_result"
    }
   ],
   "source": [
    "squares + [25,26,36,38,45] #list also support operations like concatenation"
   ]
  },
  {
   "cell_type": "code",
   "execution_count": 86,
   "id": "2d565ec6-38d4-4172-8d54-04461e0b17d1",
   "metadata": {},
   "outputs": [
    {
     "data": {
      "text/plain": [
       "64"
      ]
     },
     "execution_count": 86,
     "metadata": {},
     "output_type": "execute_result"
    }
   ],
   "source": [
    "cubes = [1,8,27,65,125] #something wrong here\n",
    "4 ** 3 # cube of 4 is 64 not 65"
   ]
  },
  {
   "cell_type": "code",
   "execution_count": 89,
   "id": "c1c1aad0-6083-4e29-b396-476f8768e5c1",
   "metadata": {},
   "outputs": [
    {
     "data": {
      "text/plain": [
       "[1, 8, 27, 64, 125]"
      ]
     },
     "execution_count": 89,
     "metadata": {},
     "output_type": "execute_result"
    }
   ],
   "source": [
    "cubes[3]=64 #replaces the wrong value\n",
    "cubes"
   ]
  },
  {
   "cell_type": "code",
   "execution_count": 92,
   "id": "d3a25838-13fc-4b78-96a2-3b176c6ccc59",
   "metadata": {},
   "outputs": [
    {
     "data": {
      "text/plain": [
       "[1, 8, 27, 64, 125, 216, 216, 216, 343]"
      ]
     },
     "execution_count": 92,
     "metadata": {},
     "output_type": "execute_result"
    }
   ],
   "source": [
    "cubes.append(216) #added the cube of 6\n",
    "cubes.append(7 ** 3) #added the cube of 7\n",
    "cubes"
   ]
  },
  {
   "cell_type": "code",
   "execution_count": 97,
   "id": "7f314a37-5736-4063-b5c2-6fe37b220e30",
   "metadata": {},
   "outputs": [
    {
     "data": {
      "text/plain": [
       "True"
      ]
     },
     "execution_count": 97,
     "metadata": {},
     "output_type": "execute_result"
    }
   ],
   "source": [
    "rgb = ['red','green','blue']\n",
    "rgba = rgb\n",
    "id(rgb) == id(rgba) #they reference the same object"
   ]
  },
  {
   "cell_type": "code",
   "execution_count": 98,
   "id": "d3a1f2ab-5143-4396-853b-f096567fa095",
   "metadata": {},
   "outputs": [
    {
     "data": {
      "text/plain": [
       "['red', 'green', 'blue', 'alph']"
      ]
     },
     "execution_count": 98,
     "metadata": {},
     "output_type": "execute_result"
    }
   ],
   "source": [
    "rgba.append('alph')\n",
    "rgb"
   ]
  },
  {
   "cell_type": "code",
   "execution_count": 99,
   "id": "9ec4988a-c1b0-4edd-8ab1-51bbd47a8b60",
   "metadata": {},
   "outputs": [
    {
     "data": {
      "text/plain": [
       "['red', 'green', 'blue', 'alph']"
      ]
     },
     "execution_count": 99,
     "metadata": {},
     "output_type": "execute_result"
    }
   ],
   "source": [
    "correct_rgba = rgba[:] \n",
    "correct_rgba"
   ]
  },
  {
   "cell_type": "code",
   "execution_count": 100,
   "id": "0df3796e-4bb7-4c4a-b171-4fcbb277e06d",
   "metadata": {},
   "outputs": [
    {
     "data": {
      "text/plain": [
       "'alph'"
      ]
     },
     "execution_count": 100,
     "metadata": {},
     "output_type": "execute_result"
    }
   ],
   "source": [
    "correct_rgba[-1]"
   ]
  },
  {
   "cell_type": "code",
   "execution_count": 101,
   "id": "06ccb2c0-95a2-49d5-97af-b9cc5483d213",
   "metadata": {},
   "outputs": [
    {
     "data": {
      "text/plain": [
       "['red', 'green', 'blue', 'alph']"
      ]
     },
     "execution_count": 101,
     "metadata": {},
     "output_type": "execute_result"
    }
   ],
   "source": [
    "correct_rgba"
   ]
  },
  {
   "cell_type": "code",
   "execution_count": 103,
   "id": "991027d6-166b-4e5b-9573-4c5242e4a129",
   "metadata": {},
   "outputs": [
    {
     "data": {
      "text/plain": [
       "['red', 'green', 'blue', 'alph']"
      ]
     },
     "execution_count": 103,
     "metadata": {},
     "output_type": "execute_result"
    }
   ],
   "source": [
    "rgba"
   ]
  },
  {
   "cell_type": "code",
   "execution_count": 104,
   "id": "174d4706-85fe-46ef-90e1-661a98ffb707",
   "metadata": {},
   "outputs": [
    {
     "data": {
      "text/plain": [
       "['red', 'green', 'blue', 'alph']"
      ]
     },
     "execution_count": 104,
     "metadata": {},
     "output_type": "execute_result"
    }
   ],
   "source": [
    "rgb"
   ]
  },
  {
   "cell_type": "code",
   "execution_count": 105,
   "id": "5a987dca-76a7-4360-ab12-172b63f2f463",
   "metadata": {},
   "outputs": [
    {
     "data": {
      "text/plain": [
       "['a', 'b', 'c', 'd', 'e', 'f']"
      ]
     },
     "execution_count": 105,
     "metadata": {},
     "output_type": "execute_result"
    }
   ],
   "source": [
    "letters = ['a','b','c','d','e','f']\n",
    "letters"
   ]
  },
  {
   "cell_type": "code",
   "execution_count": 106,
   "id": "7e19a762-dfed-4709-b606-4e2fa6029f53",
   "metadata": {},
   "outputs": [
    {
     "data": {
      "text/plain": [
       "['a', 'b', 'C', 'D', 'E', 'f']"
      ]
     },
     "execution_count": 106,
     "metadata": {},
     "output_type": "execute_result"
    }
   ],
   "source": [
    "letters[2:5]=['C','D','E']\n",
    "letters"
   ]
  },
  {
   "cell_type": "code",
   "execution_count": 123,
   "id": "78c2520a-5a8f-4d84-ac93-89bc21afac4d",
   "metadata": {},
   "outputs": [
    {
     "data": {
      "text/plain": [
       "[]"
      ]
     },
     "execution_count": 123,
     "metadata": {},
     "output_type": "execute_result"
    }
   ],
   "source": [
    "letters[2:5] = []\n",
    "letters"
   ]
  },
  {
   "cell_type": "code",
   "execution_count": 127,
   "id": "46503f1c-0346-413e-b732-658405de3e51",
   "metadata": {},
   "outputs": [
    {
     "data": {
      "text/plain": [
       "[['a', 'b', 'c', 'd'], [1, 2, 3]]"
      ]
     },
     "execution_count": 127,
     "metadata": {},
     "output_type": "execute_result"
    }
   ],
   "source": [
    "a=['a','b','c','d']\n",
    "n=[1,2,3]\n",
    "x=[a,n]\n",
    "x"
   ]
  },
  {
   "cell_type": "code",
   "execution_count": 128,
   "id": "a8f7dc7c-f557-4170-bb86-5fa0b94b12f8",
   "metadata": {},
   "outputs": [
    {
     "data": {
      "text/plain": [
       "['a', 'b', 'c', 'd']"
      ]
     },
     "execution_count": 128,
     "metadata": {},
     "output_type": "execute_result"
    }
   ],
   "source": [
    "x[0]"
   ]
  },
  {
   "cell_type": "code",
   "execution_count": 129,
   "id": "a77c426d-c616-4bf1-b521-3f69e1a5cd0f",
   "metadata": {},
   "outputs": [
    {
     "data": {
      "text/plain": [
       "'b'"
      ]
     },
     "execution_count": 129,
     "metadata": {},
     "output_type": "execute_result"
    }
   ],
   "source": [
    "x[0][1]"
   ]
  },
  {
   "cell_type": "code",
   "execution_count": 130,
   "id": "ff14c4ac-f8b4-488b-9f2c-ca242c0c5d75",
   "metadata": {},
   "outputs": [
    {
     "data": {
      "text/plain": [
       "['b', 'c']"
      ]
     },
     "execution_count": 130,
     "metadata": {},
     "output_type": "execute_result"
    }
   ],
   "source": [
    "x[0][1:3]"
   ]
  },
  {
   "cell_type": "code",
   "execution_count": 131,
   "id": "97347bc6-e17e-489d-8cf0-19336fd0fdf3",
   "metadata": {},
   "outputs": [
    {
     "name": "stdout",
     "output_type": "stream",
     "text": [
      "0\n",
      "1\n",
      "1\n",
      "2\n",
      "3\n",
      "5\n",
      "8\n"
     ]
    }
   ],
   "source": [
    "# Fibonacci series:\n",
    "# the sum of two elements defines the next\n",
    "a,b = 0,1\n",
    "while a < 10:\n",
    "    print(a)\n",
    "    a,b = b,a+b"
   ]
  },
  {
   "cell_type": "code",
   "execution_count": 132,
   "id": "a48f97a5-65c0-4701-827b-89f7008e8c12",
   "metadata": {},
   "outputs": [
    {
     "name": "stdout",
     "output_type": "stream",
     "text": [
      "the value of i is 65536\n"
     ]
    }
   ],
   "source": [
    "i = 256*256\n",
    "print('the value of i is', i)"
   ]
  },
  {
   "cell_type": "code",
   "execution_count": 133,
   "id": "6c55fd1b-e258-43f8-a60b-0c76fff36669",
   "metadata": {},
   "outputs": [
    {
     "name": "stdout",
     "output_type": "stream",
     "text": [
      "0,1,1,2,3,5,8,13,21,34,55,89,144,233,377,610,987,"
     ]
    }
   ],
   "source": [
    "a,b=0,1\n",
    "while a < 1000:\n",
    "    print(a, end=',')\n",
    "    a,b = b,a+b"
   ]
  },
  {
   "cell_type": "code",
   "execution_count": null,
   "id": "40998a9c-8c9a-4da9-a830-746a58e48a39",
   "metadata": {},
   "outputs": [],
   "source": []
  }
 ],
 "metadata": {
  "kernelspec": {
   "display_name": "Python 3 (ipykernel)",
   "language": "python",
   "name": "python3"
  },
  "language_info": {
   "codemirror_mode": {
    "name": "ipython",
    "version": 3
   },
   "file_extension": ".py",
   "mimetype": "text/x-python",
   "name": "python",
   "nbconvert_exporter": "python",
   "pygments_lexer": "ipython3",
   "version": "3.13.5"
  }
 },
 "nbformat": 4,
 "nbformat_minor": 5
}
