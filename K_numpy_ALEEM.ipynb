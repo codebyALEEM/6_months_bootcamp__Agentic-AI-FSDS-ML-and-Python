{
 "cells": [
  {
   "cell_type": "markdown",
   "id": "5254dfb1-65e5-4cb2-9802-c509e5efbefc",
   "metadata": {},
   "source": [
    "1- Array Creation Functions"
   ]
  },
  {
   "cell_type": "code",
   "execution_count": 1,
   "id": "757d11d2-ebab-40dd-ba9a-c59ed2738d39",
   "metadata": {},
   "outputs": [],
   "source": [
    "import numpy as np"
   ]
  },
  {
   "cell_type": "code",
   "execution_count": 2,
   "id": "48de763b-11ed-45c7-abe1-7dc18d3dca75",
   "metadata": {},
   "outputs": [],
   "source": [
    "#creating array from list"
   ]
  },
  {
   "cell_type": "code",
   "execution_count": 3,
   "id": "de61192e-2fac-4056-91f1-65001eb2f0f3",
   "metadata": {},
   "outputs": [],
   "source": [
    "a=[1,2,3]"
   ]
  },
  {
   "cell_type": "code",
   "execution_count": 4,
   "id": "995771e8-d823-4a97-8a25-60bb337a15eb",
   "metadata": {},
   "outputs": [],
   "source": [
    "arr = np.array(a)"
   ]
  },
  {
   "cell_type": "code",
   "execution_count": 5,
   "id": "68c8304b-717d-479a-ae92-6786d7a71de3",
   "metadata": {},
   "outputs": [
    {
     "data": {
      "text/plain": [
       "array([1, 2, 3])"
      ]
     },
     "execution_count": 5,
     "metadata": {},
     "output_type": "execute_result"
    }
   ],
   "source": [
    "arr"
   ]
  },
  {
   "cell_type": "code",
   "execution_count": 6,
   "id": "c08119c9-8060-49af-9578-27a982042b28",
   "metadata": {},
   "outputs": [
    {
     "data": {
      "text/plain": [
       "list"
      ]
     },
     "execution_count": 6,
     "metadata": {},
     "output_type": "execute_result"
    }
   ],
   "source": [
    "type(a)"
   ]
  },
  {
   "cell_type": "code",
   "execution_count": 7,
   "id": "efba1560-ef9e-4e41-946b-ac3a0426463e",
   "metadata": {},
   "outputs": [
    {
     "data": {
      "text/plain": [
       "numpy.ndarray"
      ]
     },
     "execution_count": 7,
     "metadata": {},
     "output_type": "execute_result"
    }
   ],
   "source": [
    "type(arr)"
   ]
  },
  {
   "cell_type": "code",
   "execution_count": 8,
   "id": "e2cadd1a-f967-478c-a98c-e215ac1a90cd",
   "metadata": {},
   "outputs": [],
   "source": [
    "#creating an array with evenly spaced values"
   ]
  },
  {
   "cell_type": "code",
   "execution_count": 9,
   "id": "ccf69e6a-5fd3-46a6-a901-70e7ab630414",
   "metadata": {},
   "outputs": [
    {
     "data": {
      "text/plain": [
       "array([0, 2, 4, 6, 8])"
      ]
     },
     "execution_count": 9,
     "metadata": {},
     "output_type": "execute_result"
    }
   ],
   "source": [
    "b = np.arange(0,10,2) #values from 0 to 10 with step 2\n",
    "b"
   ]
  },
  {
   "cell_type": "code",
   "execution_count": 10,
   "id": "eb81c160-d769-485c-b57c-e55ae048cfa8",
   "metadata": {},
   "outputs": [],
   "source": [
    "f1 = np.arange(50,100,5)"
   ]
  },
  {
   "cell_type": "code",
   "execution_count": 11,
   "id": "97fcf11c-8c71-4528-88f8-9398448d133c",
   "metadata": {
    "jp-MarkdownHeadingCollapsed": true
   },
   "outputs": [
    {
     "data": {
      "text/plain": [
       "array([50, 55, 60, 65, 70, 75, 80, 85, 90, 95])"
      ]
     },
     "execution_count": 11,
     "metadata": {},
     "output_type": "execute_result"
    }
   ],
   "source": [
    "f1"
   ]
  },
  {
   "cell_type": "code",
   "execution_count": 12,
   "id": "dbcf35d5-ac87-40ec-8b9d-6c1b0dafe988",
   "metadata": {},
   "outputs": [],
   "source": [
    "#Create an array with evenly spaced values\n",
    "c = np.linspace(2,10,5)"
   ]
  },
  {
   "cell_type": "code",
   "execution_count": 13,
   "id": "499144a5-cf7e-4ea0-894b-0d2277b04f97",
   "metadata": {},
   "outputs": [
    {
     "data": {
      "text/plain": [
       "array([ 2.,  4.,  6.,  8., 10.])"
      ]
     },
     "execution_count": 13,
     "metadata": {},
     "output_type": "execute_result"
    }
   ],
   "source": [
    "c"
   ]
  },
  {
   "cell_type": "code",
   "execution_count": 14,
   "id": "48991921-6f93-444b-a1df-2ac4374d625a",
   "metadata": {},
   "outputs": [],
   "source": [
    "c = np.linspace(0,10,3)"
   ]
  },
  {
   "cell_type": "code",
   "execution_count": 15,
   "id": "290232d5-e301-4699-be2b-1555f6dc971a",
   "metadata": {},
   "outputs": [
    {
     "data": {
      "text/plain": [
       "array([ 0.,  5., 10.])"
      ]
     },
     "execution_count": 15,
     "metadata": {},
     "output_type": "execute_result"
    }
   ],
   "source": [
    "c"
   ]
  },
  {
   "cell_type": "code",
   "execution_count": 16,
   "id": "23f66489-b963-4842-9b9b-023f5ef15554",
   "metadata": {},
   "outputs": [],
   "source": [
    "# creating an array filled with zeros\n",
    "z1 = np.zeros((8,3)) #default it will print float values"
   ]
  },
  {
   "cell_type": "code",
   "execution_count": 17,
   "id": "92cc02e4-34ce-43f3-8d1c-dc5c29a9b37f",
   "metadata": {},
   "outputs": [
    {
     "data": {
      "text/plain": [
       "array([[0., 0., 0.],\n",
       "       [0., 0., 0.],\n",
       "       [0., 0., 0.],\n",
       "       [0., 0., 0.],\n",
       "       [0., 0., 0.],\n",
       "       [0., 0., 0.],\n",
       "       [0., 0., 0.],\n",
       "       [0., 0., 0.]])"
      ]
     },
     "execution_count": 17,
     "metadata": {},
     "output_type": "execute_result"
    }
   ],
   "source": [
    "z1"
   ]
  },
  {
   "cell_type": "code",
   "execution_count": 18,
   "id": "5046bb5d-e05c-4ebe-a58a-b35da6c8795b",
   "metadata": {},
   "outputs": [
    {
     "data": {
      "text/plain": [
       "array([[0, 0, 0, 0, 0, 0, 0, 0, 0, 0],\n",
       "       [0, 0, 0, 0, 0, 0, 0, 0, 0, 0],\n",
       "       [0, 0, 0, 0, 0, 0, 0, 0, 0, 0],\n",
       "       [0, 0, 0, 0, 0, 0, 0, 0, 0, 0],\n",
       "       [0, 0, 0, 0, 0, 0, 0, 0, 0, 0],\n",
       "       [0, 0, 0, 0, 0, 0, 0, 0, 0, 0],\n",
       "       [0, 0, 0, 0, 0, 0, 0, 0, 0, 0],\n",
       "       [0, 0, 0, 0, 0, 0, 0, 0, 0, 0],\n",
       "       [0, 0, 0, 0, 0, 0, 0, 0, 0, 0]])"
      ]
     },
     "execution_count": 18,
     "metadata": {},
     "output_type": "execute_result"
    }
   ],
   "source": [
    "z2 = np.zeros((9,10),dtype=int) #hyperparameter tunning \n",
    "z2"
   ]
  },
  {
   "cell_type": "code",
   "execution_count": 19,
   "id": "51707860-7f68-4e6a-8d4f-80daa5077b82",
   "metadata": {},
   "outputs": [],
   "source": [
    "o1 = np.ones((5,15)) #By default it will print float values "
   ]
  },
  {
   "cell_type": "code",
   "execution_count": 20,
   "id": "dca72d80-c04b-42b7-a219-a4a3aea0a725",
   "metadata": {},
   "outputs": [
    {
     "data": {
      "text/plain": [
       "array([[1., 1., 1., 1., 1., 1., 1., 1., 1., 1., 1., 1., 1., 1., 1.],\n",
       "       [1., 1., 1., 1., 1., 1., 1., 1., 1., 1., 1., 1., 1., 1., 1.],\n",
       "       [1., 1., 1., 1., 1., 1., 1., 1., 1., 1., 1., 1., 1., 1., 1.],\n",
       "       [1., 1., 1., 1., 1., 1., 1., 1., 1., 1., 1., 1., 1., 1., 1.],\n",
       "       [1., 1., 1., 1., 1., 1., 1., 1., 1., 1., 1., 1., 1., 1., 1.]])"
      ]
     },
     "execution_count": 20,
     "metadata": {},
     "output_type": "execute_result"
    }
   ],
   "source": [
    "o1"
   ]
  },
  {
   "cell_type": "code",
   "execution_count": 21,
   "id": "c2f2a668-8c27-4075-b3b0-e7fccc2e2d14",
   "metadata": {},
   "outputs": [
    {
     "data": {
      "text/plain": [
       "array([[1, 1, 1, 1, 1, 1, 1, 1, 1, 1],\n",
       "       [1, 1, 1, 1, 1, 1, 1, 1, 1, 1],\n",
       "       [1, 1, 1, 1, 1, 1, 1, 1, 1, 1],\n",
       "       [1, 1, 1, 1, 1, 1, 1, 1, 1, 1],\n",
       "       [1, 1, 1, 1, 1, 1, 1, 1, 1, 1],\n",
       "       [1, 1, 1, 1, 1, 1, 1, 1, 1, 1],\n",
       "       [1, 1, 1, 1, 1, 1, 1, 1, 1, 1],\n",
       "       [1, 1, 1, 1, 1, 1, 1, 1, 1, 1],\n",
       "       [1, 1, 1, 1, 1, 1, 1, 1, 1, 1],\n",
       "       [1, 1, 1, 1, 1, 1, 1, 1, 1, 1]])"
      ]
     },
     "execution_count": 21,
     "metadata": {},
     "output_type": "execute_result"
    }
   ],
   "source": [
    "o2 = np.ones((10,10),dtype=int) #hyperparameter tunning as the values are changed to integer from float\n",
    "o2"
   ]
  },
  {
   "cell_type": "code",
   "execution_count": 22,
   "id": "4eaeb8da-c8b2-403e-8b04-b491294013b0",
   "metadata": {},
   "outputs": [
    {
     "data": {
      "text/plain": [
       "array([[1., 0.],\n",
       "       [0., 1.]])"
      ]
     },
     "execution_count": 22,
     "metadata": {},
     "output_type": "execute_result"
    }
   ],
   "source": [
    "#create an identity matrix\n",
    "i1 = np.eye(2) #2*2 identity matrix \n",
    "i1"
   ]
  },
  {
   "cell_type": "code",
   "execution_count": 23,
   "id": "c3414d1e-8a2d-4a7e-8726-684fb132647f",
   "metadata": {},
   "outputs": [
    {
     "data": {
      "text/plain": [
       "array([[1., 0., 0., 0., 0.],\n",
       "       [0., 1., 0., 0., 0.],\n",
       "       [0., 0., 1., 0., 0.],\n",
       "       [0., 0., 0., 1., 0.],\n",
       "       [0., 0., 0., 0., 1.]])"
      ]
     },
     "execution_count": 23,
     "metadata": {},
     "output_type": "execute_result"
    }
   ],
   "source": [
    "i2 = np.eye(5)\n",
    "i2"
   ]
  },
  {
   "cell_type": "code",
   "execution_count": 24,
   "id": "2424cd3f-8976-42a8-b97d-0911617e0ad0",
   "metadata": {},
   "outputs": [
    {
     "data": {
      "text/plain": [
       "array([[1., 0., 0.],\n",
       "       [0., 1., 0.],\n",
       "       [0., 0., 1.]])"
      ]
     },
     "execution_count": 24,
     "metadata": {},
     "output_type": "execute_result"
    }
   ],
   "source": [
    "i3 = np.eye(3)\n",
    "i3"
   ]
  },
  {
   "cell_type": "code",
   "execution_count": 25,
   "id": "358fac43-9376-45b3-81e3-56be5a43a3d4",
   "metadata": {},
   "outputs": [
    {
     "name": "stdout",
     "output_type": "stream",
     "text": [
      "Array i4 =\n",
      " [[1. 0. 0. 0.]\n",
      " [0. 1. 0. 0.]\n",
      " [0. 0. 1. 0.]\n",
      " [0. 0. 0. 1.]]\n"
     ]
    }
   ],
   "source": [
    "i4 = np.eye(4)\n",
    "print('Array i4 =\\n',i4)"
   ]
  },
  {
   "cell_type": "markdown",
   "id": "3fb76278-9c9a-4ab0-ba34-a700aef1509a",
   "metadata": {},
   "source": [
    "2-Array Manipulation Function"
   ]
  },
  {
   "cell_type": "code",
   "execution_count": 26,
   "id": "8fcb51f8-2987-445a-8118-8a1ac450e1a7",
   "metadata": {},
   "outputs": [],
   "source": [
    "#Reshape an array"
   ]
  },
  {
   "cell_type": "code",
   "execution_count": 27,
   "id": "194a071b-acf4-4ca6-87be-ea707a895778",
   "metadata": {},
   "outputs": [
    {
     "data": {
      "text/plain": [
       "array([[1, 2, 3]])"
      ]
     },
     "execution_count": 27,
     "metadata": {},
     "output_type": "execute_result"
    }
   ],
   "source": [
    "c1 = np.array([1,2,3])\n",
    "r1 = np.reshape(c1,(1,3))\n",
    "r1"
   ]
  },
  {
   "cell_type": "code",
   "execution_count": 28,
   "id": "3d81a26a-90b9-402c-82d9-1d812bd1de9b",
   "metadata": {},
   "outputs": [
    {
     "data": {
      "text/plain": [
       "array([[1],\n",
       "       [2],\n",
       "       [3]])"
      ]
     },
     "execution_count": 28,
     "metadata": {},
     "output_type": "execute_result"
    }
   ],
   "source": [
    "r2 = np.reshape(c1,(3,1))\n",
    "r2"
   ]
  },
  {
   "cell_type": "code",
   "execution_count": 29,
   "id": "c5093b2f-9145-432b-9e7e-20c926747445",
   "metadata": {},
   "outputs": [
    {
     "data": {
      "text/plain": [
       "array([[0, 1],\n",
       "       [2, 3],\n",
       "       [4, 5],\n",
       "       [6, 7],\n",
       "       [8, 9]])"
      ]
     },
     "execution_count": 29,
     "metadata": {},
     "output_type": "execute_result"
    }
   ],
   "source": [
    "v1 =np.array([0,1,2,3,4,5,6,7,8,9])\n",
    "r3 = np.reshape(v1,(5,2))\n",
    "r3"
   ]
  },
  {
   "cell_type": "code",
   "execution_count": 30,
   "id": "805176a0-82b4-45d1-aed1-b32209d78830",
   "metadata": {},
   "outputs": [
    {
     "data": {
      "text/plain": [
       "array([[0, 1, 2, 3, 4],\n",
       "       [5, 6, 7, 8, 9]])"
      ]
     },
     "execution_count": 30,
     "metadata": {},
     "output_type": "execute_result"
    }
   ],
   "source": [
    "r4 = np.reshape(v1,(2,5))\n",
    "r4"
   ]
  },
  {
   "cell_type": "code",
   "execution_count": 31,
   "id": "1ce13512-f59f-4562-9ddd-c437394f3a0a",
   "metadata": {},
   "outputs": [],
   "source": [
    "#flatten an array"
   ]
  },
  {
   "cell_type": "code",
   "execution_count": 32,
   "id": "a9444ce9-e90b-4961-8518-c9bff5578296",
   "metadata": {},
   "outputs": [
    {
     "data": {
      "text/plain": [
       "array([[1, 2, 3],\n",
       "       [4, 5, 6]])"
      ]
     },
     "execution_count": 32,
     "metadata": {},
     "output_type": "execute_result"
    }
   ],
   "source": [
    "a5 = np.array([[1,2,3],[4,5,6]])\n",
    "a5"
   ]
  },
  {
   "cell_type": "code",
   "execution_count": 33,
   "id": "84ce713d-f287-4409-92f4-68b4a312a197",
   "metadata": {},
   "outputs": [
    {
     "data": {
      "text/plain": [
       "array([1, 2, 3])"
      ]
     },
     "execution_count": 33,
     "metadata": {},
     "output_type": "execute_result"
    }
   ],
   "source": [
    "a6 = np.array([1,2,3])\n",
    "a6"
   ]
  },
  {
   "cell_type": "code",
   "execution_count": 34,
   "id": "1346a2b6-d501-4ff9-99cb-b6a78ae68a4f",
   "metadata": {},
   "outputs": [
    {
     "data": {
      "text/plain": [
       "array([[1, 2, 3],\n",
       "       [4, 5, 6],\n",
       "       [7, 8, 9]])"
      ]
     },
     "execution_count": 34,
     "metadata": {},
     "output_type": "execute_result"
    }
   ],
   "source": [
    "a7 = np.array([[1,2,3],[4,5,6],[7,8,9]])\n",
    "a7"
   ]
  },
  {
   "cell_type": "code",
   "execution_count": 35,
   "id": "c43302a5-1058-40ff-af06-2e3c5dcbab3d",
   "metadata": {},
   "outputs": [
    {
     "data": {
      "text/plain": [
       "array([1, 2, 3, 4, 5, 6])"
      ]
     },
     "execution_count": 35,
     "metadata": {},
     "output_type": "execute_result"
    }
   ],
   "source": [
    "flat_a5 = np.ravel(a5)\n",
    "flat_a5"
   ]
  },
  {
   "cell_type": "code",
   "execution_count": 36,
   "id": "e0b5b2f6-d1c0-4d54-b3a0-f5f1d60d1106",
   "metadata": {},
   "outputs": [
    {
     "data": {
      "text/plain": [
       "array([1, 2, 3])"
      ]
     },
     "execution_count": 36,
     "metadata": {},
     "output_type": "execute_result"
    }
   ],
   "source": [
    "flat_a6 = np.ravel(a6)\n",
    "flat_a6"
   ]
  },
  {
   "cell_type": "code",
   "execution_count": 37,
   "id": "6a9e472f-61cb-4a28-b9fc-4580f4766b57",
   "metadata": {},
   "outputs": [
    {
     "data": {
      "text/plain": [
       "array([1, 2, 3, 4, 5, 6, 7, 8, 9])"
      ]
     },
     "execution_count": 37,
     "metadata": {},
     "output_type": "execute_result"
    }
   ],
   "source": [
    "flat_a7 = np.ravel(a7)\n",
    "flat_a7"
   ]
  },
  {
   "cell_type": "code",
   "execution_count": 38,
   "id": "498fd50a-8142-47fa-936c-aabe428ca2f6",
   "metadata": {},
   "outputs": [
    {
     "name": "stdout",
     "output_type": "stream",
     "text": [
      "[[1 2]\n",
      " [3 4]]\n",
      "[[1 3]\n",
      " [2 4]]\n"
     ]
    }
   ],
   "source": [
    "#Transpose an array\n",
    "#In transpose () rows will convert in columns\n",
    "ar1 = np.array([[1,2],[3,4]])\n",
    "trans_ar1 = np.transpose(ar1)\n",
    "print(ar1)\n",
    "print(trans_ar1)"
   ]
  },
  {
   "cell_type": "code",
   "execution_count": 39,
   "id": "fdb24a3f-6541-42b8-8ee0-2767ad8bda28",
   "metadata": {},
   "outputs": [
    {
     "name": "stdout",
     "output_type": "stream",
     "text": [
      "[[1 2 3]\n",
      " [4 5 6]]\n",
      "[[1 4]\n",
      " [2 5]\n",
      " [3 6]]\n"
     ]
    }
   ],
   "source": [
    "ar2 = np.array([[1,2,3],[4,5,6]])\n",
    "trans_ar2 = np.transpose(ar2)\n",
    "print(ar2)\n",
    "print(trans_ar2)"
   ]
  },
  {
   "cell_type": "code",
   "execution_count": 40,
   "id": "b5470e1f-88ba-4dd8-b73c-92f7dae77296",
   "metadata": {},
   "outputs": [
    {
     "name": "stdout",
     "output_type": "stream",
     "text": [
      "[[ 1  2  3  4]\n",
      " [ 5  6  7  8]\n",
      " [ 9 10 11 12]]\n",
      "[[ 1  5  9]\n",
      " [ 2  6 10]\n",
      " [ 3  7 11]\n",
      " [ 4  8 12]]\n"
     ]
    }
   ],
   "source": [
    "ar3 = np.array([[1,2,3,4],[5,6,7,8],[9,10,11,12]])\n",
    "trans_ar3 = np.transpose(ar3)\n",
    "print(ar3)\n",
    "print(trans_ar3)"
   ]
  },
  {
   "cell_type": "code",
   "execution_count": 41,
   "id": "716d8af2-d820-428a-a35e-19c5ef033784",
   "metadata": {},
   "outputs": [
    {
     "name": "stdout",
     "output_type": "stream",
     "text": [
      "[[1 2]\n",
      " [3 4]]\n"
     ]
    }
   ],
   "source": [
    "#stack arrays vertically\n",
    "a_1 = np.array([1,2])\n",
    "a_2 = np.array([3,4])\n",
    "a_12 = np.vstack([a_1,a_2])\n",
    "print(a_12)"
   ]
  },
  {
   "cell_type": "code",
   "execution_count": 42,
   "id": "8a406512-5610-4e20-b7e0-698f8c11d68c",
   "metadata": {},
   "outputs": [
    {
     "data": {
      "text/plain": [
       "array([[1, 2],\n",
       "       [3, 4],\n",
       "       [5, 6]])"
      ]
     },
     "execution_count": 42,
     "metadata": {},
     "output_type": "execute_result"
    }
   ],
   "source": [
    "b_1 = np.array([[1,2],[3,4]])\n",
    "b_2 = np.array([5,6])\n",
    "b_12 =np.vstack([b_1,b_2])\n",
    "b_12"
   ]
  },
  {
   "cell_type": "code",
   "execution_count": 43,
   "id": "8e3a7a5d-69e0-4466-8abe-6ebbed53d0af",
   "metadata": {},
   "outputs": [
    {
     "data": {
      "text/plain": [
       "array([1, 2, 3, 4])"
      ]
     },
     "execution_count": 43,
     "metadata": {},
     "output_type": "execute_result"
    }
   ],
   "source": [
    "b_13 = np.hstack(b_1)\n",
    "b_13"
   ]
  },
  {
   "cell_type": "markdown",
   "id": "67219f7a-db41-43b5-848c-b0b4cdd8a67d",
   "metadata": {},
   "source": [
    "3-Mathematical Functions"
   ]
  },
  {
   "cell_type": "code",
   "execution_count": 44,
   "id": "43b5c7d0-8446-4ce3-ae15-5a5b03ac6fde",
   "metadata": {},
   "outputs": [
    {
     "data": {
      "text/plain": [
       "array([3, 4, 5])"
      ]
     },
     "execution_count": 44,
     "metadata": {},
     "output_type": "execute_result"
    }
   ],
   "source": [
    "#Addition inn array\n",
    "ab1 = np.array([1,2,3])\n",
    "added = np.add(ab1,2)\n",
    "added"
   ]
  },
  {
   "cell_type": "code",
   "execution_count": 45,
   "id": "8afdf237-161a-45e8-866f-092cd8e8d5c2",
   "metadata": {},
   "outputs": [
    {
     "data": {
      "text/plain": [
       "array([[ 5,  6,  7,  8],\n",
       "       [ 9, 10, 11, 12],\n",
       "       [13, 14, 15, 16]])"
      ]
     },
     "execution_count": 45,
     "metadata": {},
     "output_type": "execute_result"
    }
   ],
   "source": [
    "ab2 = np.array([[1,2,3,4],[5,6,7,8],[9,10,11,12]])\n",
    "add2 = np.add(ab2,4)\n",
    "add2"
   ]
  },
  {
   "cell_type": "code",
   "execution_count": 46,
   "id": "3b1206c7-3ed0-4345-8e3b-5da77e59ab8a",
   "metadata": {},
   "outputs": [
    {
     "data": {
      "text/plain": [
       "array([[  1,   4,   9,  16],\n",
       "       [ 25,  36,  49,  64],\n",
       "       [ 81, 100, 121, 144]])"
      ]
     },
     "execution_count": 46,
     "metadata": {},
     "output_type": "execute_result"
    }
   ],
   "source": [
    "#square each element\n",
    "sq_ab2 = np.power(ab2,2)\n",
    "sq_ab2"
   ]
  },
  {
   "cell_type": "code",
   "execution_count": 47,
   "id": "7bb46b5b-6746-4b93-9fa1-9a81279e0de8",
   "metadata": {},
   "outputs": [
    {
     "data": {
      "text/plain": [
       "array([[     1,     32,    243,   1024],\n",
       "       [  3125,   7776,  16807,  32768],\n",
       "       [ 59049, 100000, 161051, 248832]])"
      ]
     },
     "execution_count": 47,
     "metadata": {},
     "output_type": "execute_result"
    }
   ],
   "source": [
    "pr_ab2 = np.power(ab2,5)\n",
    "pr_ab2"
   ]
  },
  {
   "cell_type": "code",
   "execution_count": 48,
   "id": "b67a0cb5-1986-4813-a2ea-9d8e5e735892",
   "metadata": {},
   "outputs": [
    {
     "data": {
      "text/plain": [
       "array([[1.        , 1.41421356, 1.73205081, 2.        ],\n",
       "       [2.23606798, 2.44948974, 2.64575131, 2.82842712],\n",
       "       [3.        , 3.16227766, 3.31662479, 3.46410162]])"
      ]
     },
     "execution_count": 48,
     "metadata": {},
     "output_type": "execute_result"
    }
   ],
   "source": [
    "sr_ab2 = np.sqrt(ab2)\n",
    "sr_ab2"
   ]
  },
  {
   "cell_type": "code",
   "execution_count": 49,
   "id": "c3d6e105-eebe-41f8-ba3f-6930bb8baf5b",
   "metadata": {},
   "outputs": [],
   "source": [
    "sq_3 = np.array([[4,9,16],[25,36,49]])\n",
    "sqrt_sq3 = np.sqrt(sq_3)"
   ]
  },
  {
   "cell_type": "code",
   "execution_count": 50,
   "id": "3e6fb0ba-95ef-4b1d-b8c7-6399f3784eec",
   "metadata": {},
   "outputs": [
    {
     "data": {
      "text/plain": [
       "array([[2., 3., 4.],\n",
       "       [5., 6., 7.]])"
      ]
     },
     "execution_count": 50,
     "metadata": {},
     "output_type": "execute_result"
    }
   ],
   "source": [
    "sqrt_sq3"
   ]
  },
  {
   "cell_type": "code",
   "execution_count": 51,
   "id": "46267c69-b683-4c42-8bd9-17a04f75cf28",
   "metadata": {},
   "outputs": [
    {
     "name": "stdout",
     "output_type": "stream",
     "text": [
      "[[ 4  9 16]\n",
      " [25 36 49]]\n",
      "[[2. 3. 4.]\n",
      " [5. 6. 7.]]\n"
     ]
    }
   ],
   "source": [
    "print(sq_3)\n",
    "print(sqrt_sq3)"
   ]
  },
  {
   "cell_type": "code",
   "execution_count": 52,
   "id": "43952b8f-a218-46d7-b8b0-ceaaf73a50c7",
   "metadata": {},
   "outputs": [
    {
     "name": "stdout",
     "output_type": "stream",
     "text": [
      "[1 2 3]\n",
      "[[ 4  9 16]\n",
      " [25 36 49]]\n"
     ]
    }
   ],
   "source": [
    "print(ab1)\n",
    "print(sq_3)"
   ]
  },
  {
   "cell_type": "code",
   "execution_count": 53,
   "id": "dfbcde4e-c6f1-4c7d-a4e8-3127fbd478d3",
   "metadata": {},
   "outputs": [],
   "source": [
    "#dot_p = np.dot(ab1,sq_3)"
   ]
  },
  {
   "cell_type": "code",
   "execution_count": 54,
   "id": "1b3f639c-a99e-40ed-ac01-43df8b039b6d",
   "metadata": {},
   "outputs": [],
   "source": [
    "abc = np.array([4,5,6])"
   ]
  },
  {
   "cell_type": "code",
   "execution_count": 55,
   "id": "3e16b29e-d823-42d2-a99e-05d0e5abde44",
   "metadata": {},
   "outputs": [
    {
     "name": "stdout",
     "output_type": "stream",
     "text": [
      "32\n"
     ]
    }
   ],
   "source": [
    "dot_p = np.dot(ab1,abc)\n",
    "print(dot_p)"
   ]
  },
  {
   "cell_type": "markdown",
   "id": "7a57fe09-be72-4599-bc82-1f2ba4ecc5dd",
   "metadata": {},
   "source": [
    "4-Statistical functions"
   ]
  },
  {
   "cell_type": "code",
   "execution_count": 56,
   "id": "9138beaf-b8f7-4504-87d4-80c44e6f8091",
   "metadata": {},
   "outputs": [],
   "source": [
    "s = np.array([4,5,6,7])\n",
    "mean = np.mean(s)"
   ]
  },
  {
   "cell_type": "code",
   "execution_count": 57,
   "id": "3aca3bfd-e2a4-459b-a860-3d75078c1d3a",
   "metadata": {},
   "outputs": [
    {
     "name": "stdout",
     "output_type": "stream",
     "text": [
      "5.5\n"
     ]
    }
   ],
   "source": [
    "print(mean)"
   ]
  },
  {
   "cell_type": "code",
   "execution_count": 58,
   "id": "0d4f85dc-be3d-447a-9fb9-9f22b751d0ce",
   "metadata": {},
   "outputs": [
    {
     "name": "stdout",
     "output_type": "stream",
     "text": [
      "1.118033988749895\n"
     ]
    }
   ],
   "source": [
    "#standard deviation of an array\n",
    "std_dev = np.std(s)\n",
    "print(std_dev)"
   ]
  },
  {
   "cell_type": "code",
   "execution_count": 59,
   "id": "d385ab07-32f5-467f-9b13-6d1bb5c6f48d",
   "metadata": {},
   "outputs": [
    {
     "name": "stdout",
     "output_type": "stream",
     "text": [
      "4\n"
     ]
    }
   ],
   "source": [
    "#minimum element of an array\n",
    "print(np.min(s))"
   ]
  },
  {
   "cell_type": "code",
   "execution_count": 60,
   "id": "d0fdf871-c8dc-4715-9851-8d5e772079c9",
   "metadata": {},
   "outputs": [
    {
     "name": "stdout",
     "output_type": "stream",
     "text": [
      "7\n"
     ]
    }
   ],
   "source": [
    "#maximum element of an array\n",
    "max1 = np.max(s)\n",
    "print(max1)"
   ]
  },
  {
   "cell_type": "markdown",
   "id": "05b849bb-6d5a-4760-a139-78cd58ffc1d7",
   "metadata": {},
   "source": [
    "5-Linear Algebra Function"
   ]
  },
  {
   "cell_type": "code",
   "execution_count": 65,
   "id": "70ed0c21-ed75-4f9e-9881-cb3722ef7d65",
   "metadata": {},
   "outputs": [
    {
     "data": {
      "text/plain": [
       "array([[1, 2],\n",
       "       [3, 4]])"
      ]
     },
     "execution_count": 65,
     "metadata": {},
     "output_type": "execute_result"
    }
   ],
   "source": [
    "#create a matrix\n",
    "matrix = np.array([[1,2],[3,4]])\n",
    "matrix"
   ]
  },
  {
   "cell_type": "code",
   "execution_count": 67,
   "id": "7d05d5e8-8895-42d7-9000-0dce65f6901f",
   "metadata": {},
   "outputs": [
    {
     "data": {
      "text/plain": [
       "np.float64(-2.0000000000000004)"
      ]
     },
     "execution_count": 67,
     "metadata": {},
     "output_type": "execute_result"
    }
   ],
   "source": [
    "#Determinant of matrix\n",
    "determinant = np.linalg.det(matrix)\n",
    "determinant"
   ]
  },
  {
   "cell_type": "code",
   "execution_count": 69,
   "id": "7cc656e3-ab99-4d4c-8884-718b6aa0e634",
   "metadata": {},
   "outputs": [
    {
     "data": {
      "text/plain": [
       "array([[-2. ,  1. ],\n",
       "       [ 1.5, -0.5]])"
      ]
     },
     "execution_count": 69,
     "metadata": {},
     "output_type": "execute_result"
    }
   ],
   "source": [
    "#inverse of a matrix\n",
    "inverse = np.linalg.inv(matrix)\n",
    "inverse"
   ]
  },
  {
   "cell_type": "code",
   "execution_count": 70,
   "id": "64e8909d-5cb4-48f5-b60c-981eeed492a7",
   "metadata": {},
   "outputs": [
    {
     "name": "stdout",
     "output_type": "stream",
     "text": [
      "[[1 2]\n",
      " [3 4]]\n",
      "-2.0000000000000004\n",
      "[[-2.   1. ]\n",
      " [ 1.5 -0.5]]\n"
     ]
    }
   ],
   "source": [
    "print(matrix)\n",
    "print(determinant)\n",
    "print(inverse)"
   ]
  },
  {
   "cell_type": "code",
   "execution_count": 71,
   "id": "4c53767e-8dcf-45d5-a4ab-914001f139d0",
   "metadata": {},
   "outputs": [
    {
     "name": "stdout",
     "output_type": "stream",
     "text": [
      "[[2 4]\n",
      " [6 8]]\n",
      "-8.000000000000002\n",
      "[[-1.    0.5 ]\n",
      " [ 0.75 -0.25]]\n"
     ]
    }
   ],
   "source": [
    "matrix1 = np.array([[2,4],[6,8]])\n",
    "print(matrix1)\n",
    "determinant1 = np.linalg.det(matrix1)\n",
    "print(determinant1)\n",
    "inverse1 = np.linalg.inv(matrix1)\n",
    "print(inverse1)"
   ]
  },
  {
   "cell_type": "markdown",
   "id": "426bed3a-4072-4144-8988-cbcd712ada5b",
   "metadata": {},
   "source": [
    "6-Random sampling functions"
   ]
  },
  {
   "cell_type": "code",
   "execution_count": 72,
   "id": "b2f74acc-3296-4b2c-8242-511c271673cc",
   "metadata": {},
   "outputs": [
    {
     "data": {
      "text/plain": [
       "array([0.63087666, 0.24220944, 0.64037545])"
      ]
     },
     "execution_count": 72,
     "metadata": {},
     "output_type": "execute_result"
    }
   ],
   "source": [
    "#Generate random  values between 0 and 1\n",
    "random_vals = np.random.rand(3)\n",
    "random_vals"
   ]
  },
  {
   "cell_type": "code",
   "execution_count": 114,
   "id": "80f6f149-f750-4a91-8ffb-03def709934b",
   "metadata": {},
   "outputs": [
    {
     "data": {
      "text/plain": [
       "array([0.5488135 , 0.71518937, 0.60276338])"
      ]
     },
     "execution_count": 114,
     "metadata": {},
     "output_type": "execute_result"
    }
   ],
   "source": [
    "#set seed for reproductivity\n",
    "np.random.seed(0)\n",
    "\n",
    "#Generate random values between 0 and 1\n",
    "random_vals = np.random.rand(3) #Array of 3 random values between 0 and 1\n",
    "random_vals"
   ]
  },
  {
   "cell_type": "code",
   "execution_count": 115,
   "id": "3baae2d7-40aa-442d-93c8-bee73ae71f26",
   "metadata": {},
   "outputs": [
    {
     "data": {
      "text/plain": [
       "3"
      ]
     },
     "execution_count": 115,
     "metadata": {},
     "output_type": "execute_result"
    }
   ],
   "source": [
    "#generates random integers\n",
    "rand_int = np.random.randint(0,10)\n",
    "rand_int"
   ]
  },
  {
   "cell_type": "code",
   "execution_count": 116,
   "id": "0160b10f-3d2a-4f2b-8702-b047be809f51",
   "metadata": {},
   "outputs": [
    {
     "data": {
      "text/plain": [
       "array([49, 19, 29, 31, 46], dtype=int32)"
      ]
     },
     "execution_count": 116,
     "metadata": {},
     "output_type": "execute_result"
    }
   ],
   "source": [
    "rand_int1 = np.random.randint(10,50,5)\n",
    "rand_int1"
   ]
  },
  {
   "cell_type": "code",
   "execution_count": 117,
   "id": "d2f18867-41fe-4c3d-bb51-9971577f2b6b",
   "metadata": {},
   "outputs": [
    {
     "data": {
      "text/plain": [
       "array([33, 16, 34, 34, 22], dtype=int32)"
      ]
     },
     "execution_count": 117,
     "metadata": {},
     "output_type": "execute_result"
    }
   ],
   "source": [
    "rand_int2 = np.random.randint(10,50,size = 5)\n",
    "rand_int2"
   ]
  },
  {
   "cell_type": "code",
   "execution_count": 118,
   "id": "3f5e49a1-08b2-4ede-a59a-ada04fb101fe",
   "metadata": {},
   "outputs": [
    {
     "name": "stdout",
     "output_type": "stream",
     "text": [
      "[33 16 34 34 22]\n"
     ]
    }
   ],
   "source": [
    "print(rand_int2)"
   ]
  },
  {
   "cell_type": "code",
   "execution_count": 119,
   "id": "2732a586-f0e6-4779-b7fd-1b9199b48923",
   "metadata": {},
   "outputs": [
    {
     "data": {
      "text/plain": [
       "array([10, 13, 13, 49, 19], dtype=int32)"
      ]
     },
     "execution_count": 119,
     "metadata": {},
     "output_type": "execute_result"
    }
   ],
   "source": [
    "np.random.seed(0)\n",
    "rand_int3 = np.random.randint(10,50,5)\n",
    "rand_int3"
   ]
  },
  {
   "cell_type": "code",
   "execution_count": 120,
   "id": "8adda9f8-61c7-43db-9994-3c505311b717",
   "metadata": {},
   "outputs": [
    {
     "name": "stdout",
     "output_type": "stream",
     "text": [
      "[10 13 13 49 19]\n"
     ]
    }
   ],
   "source": [
    "print(rand_int3)"
   ]
  },
  {
   "cell_type": "code",
   "execution_count": 121,
   "id": "b53dedaf-5793-40fc-a592-d0644d355fba",
   "metadata": {},
   "outputs": [
    {
     "data": {
      "text/plain": [
       "array([10, 13, 13, 49, 19], dtype=int32)"
      ]
     },
     "execution_count": 121,
     "metadata": {},
     "output_type": "execute_result"
    }
   ],
   "source": [
    "rand_int3"
   ]
  },
  {
   "cell_type": "markdown",
   "id": "f1ce6df4-3ce4-43ac-8f41-c7436f868c68",
   "metadata": {},
   "source": [
    "7-Boolen & Logical functions"
   ]
  },
  {
   "cell_type": "code",
   "execution_count": 124,
   "id": "6ca74a58-5028-41d3-af11-8c845a8a3e69",
   "metadata": {},
   "outputs": [
    {
     "name": "stdout",
     "output_type": "stream",
     "text": [
      "False\n"
     ]
    }
   ],
   "source": [
    "#check if all elements are True\n",
    "logical1 = np.array([True,False,True])\n",
    "logical_t = np.all(logical1)\n",
    "print(logical_t)"
   ]
  },
  {
   "cell_type": "code",
   "execution_count": 126,
   "id": "31e8cffb-c41a-4305-8cd2-0bf4237371f0",
   "metadata": {},
   "outputs": [
    {
     "name": "stdout",
     "output_type": "stream",
     "text": [
      "True\n"
     ]
    }
   ],
   "source": [
    "logical2 = np.array([True,True,True])\n",
    "logical_t2 = np.all(logical2)\n",
    "print(logical_t2)"
   ]
  },
  {
   "cell_type": "code",
   "execution_count": 127,
   "id": "f34bcead-e9f8-40b6-a265-74ab0aee340e",
   "metadata": {},
   "outputs": [
    {
     "name": "stdout",
     "output_type": "stream",
     "text": [
      "True\n"
     ]
    }
   ],
   "source": [
    "logical3 = np.array([True,False,False])\n",
    "logical_t3 = np.any(logical3)\n",
    "print(logical_t3)"
   ]
  },
  {
   "cell_type": "code",
   "execution_count": 128,
   "id": "493780d3-8694-4c31-9dda-c26e1527e97b",
   "metadata": {},
   "outputs": [
    {
     "name": "stdout",
     "output_type": "stream",
     "text": [
      "False\n"
     ]
    }
   ],
   "source": [
    "logical4 = np.array([False,False])\n",
    "logical_t4 = np.any(logical4)\n",
    "print(logical_t4)"
   ]
  },
  {
   "cell_type": "markdown",
   "id": "915d260a-3f60-4a5f-87ee-adbb7ca8477d",
   "metadata": {},
   "source": [
    "8-Set operation"
   ]
  },
  {
   "cell_type": "code",
   "execution_count": 129,
   "id": "681400c2-2492-4f94-aecf-a4a15abadebc",
   "metadata": {},
   "outputs": [
    {
     "name": "stdout",
     "output_type": "stream",
     "text": [
      "[3 4]\n"
     ]
    }
   ],
   "source": [
    "# Intersection of two array\n",
    "set_a = np.array([1,2,3,4])\n",
    "set_b = np.array([3,4,5,6])\n",
    "Intersect = np.intersect1d(set_a,set_b)\n",
    "print(Intersect)"
   ]
  },
  {
   "cell_type": "code",
   "execution_count": 130,
   "id": "2745b645-d315-447f-ab5c-99fe3b440008",
   "metadata": {},
   "outputs": [
    {
     "name": "stdout",
     "output_type": "stream",
     "text": [
      "[4 5 6]\n"
     ]
    }
   ],
   "source": [
    "set_x = np.array([[1,2,3],[4,5,6]])\n",
    "set_y = np.array([[4,5,6],[7,8,9]])\n",
    "inter1= np.intersect1d(set_x,set_y)\n",
    "print(inter1)"
   ]
  },
  {
   "cell_type": "code",
   "execution_count": 131,
   "id": "a6c26c44-4656-44a9-9117-b19795d24cb7",
   "metadata": {},
   "outputs": [
    {
     "name": "stdout",
     "output_type": "stream",
     "text": [
      "[[1 2 3]\n",
      " [4 5 6]]\n"
     ]
    }
   ],
   "source": [
    "print(set_x)"
   ]
  },
  {
   "cell_type": "code",
   "execution_count": 132,
   "id": "229b9831-db45-4a0d-a4d4-3067e0f340a3",
   "metadata": {},
   "outputs": [
    {
     "name": "stdout",
     "output_type": "stream",
     "text": [
      "[[4 5 6]\n",
      " [7 8 9]]\n"
     ]
    }
   ],
   "source": [
    "print(set_y)"
   ]
  },
  {
   "cell_type": "code",
   "execution_count": 133,
   "id": "450f98cb-c19e-466f-aee3-dbde3660f7ad",
   "metadata": {},
   "outputs": [
    {
     "data": {
      "text/plain": [
       "array([1, 2, 3, 4, 5, 6, 7, 8, 9])"
      ]
     },
     "execution_count": 133,
     "metadata": {},
     "output_type": "execute_result"
    }
   ],
   "source": [
    "#Union of two array\n",
    "union = np.union1d(set_x,set_y)\n",
    "union"
   ]
  },
  {
   "cell_type": "markdown",
   "id": "c0588d6f-755f-435e-a4c9-61a056b4aafb",
   "metadata": {},
   "source": [
    "Array Attribute Function"
   ]
  },
  {
   "cell_type": "code",
   "execution_count": 136,
   "id": "3cf4491c-44dc-4230-82ef-0825fa2483c8",
   "metadata": {},
   "outputs": [
    {
     "name": "stdout",
     "output_type": "stream",
     "text": [
      "[1 2 3]\n",
      "(3,)\n",
      "3\n",
      "1\n",
      "int64\n"
     ]
    }
   ],
   "source": [
    "a10 = np.array([1,2,3])\n",
    "shape = a10.shape\n",
    "size = a10.size\n",
    "dimension = a10.ndim\n",
    "dtype = a10.dtype\n",
    "print(a10)\n",
    "print(shape)\n",
    "print(size)\n",
    "print(dimension)\n",
    "print(dtype)"
   ]
  },
  {
   "cell_type": "code",
   "execution_count": 137,
   "id": "156b2a8e-0432-4ceb-95a4-89d250e15a30",
   "metadata": {},
   "outputs": [
    {
     "data": {
      "text/plain": [
       "array([1, 2, 3])"
      ]
     },
     "execution_count": 137,
     "metadata": {},
     "output_type": "execute_result"
    }
   ],
   "source": [
    "#create a copy of an array\n",
    "c1 = np.array([1,2,3])\n",
    "copied = np.copy(c1)\n",
    "copied"
   ]
  },
  {
   "cell_type": "code",
   "execution_count": 138,
   "id": "f9d04616-c5ef-4bf9-ad33-c94f17c491cb",
   "metadata": {},
   "outputs": [
    {
     "data": {
      "text/plain": [
       "24"
      ]
     },
     "execution_count": 138,
     "metadata": {},
     "output_type": "execute_result"
    }
   ],
   "source": [
    "#size of an array in bytes\n",
    "c1_size_byte = c1.nbytes\n",
    "c1_size_byte"
   ]
  },
  {
   "cell_type": "code",
   "execution_count": 139,
   "id": "d0e271d4-cf32-4b1f-b7cf-87acb08b0caa",
   "metadata": {},
   "outputs": [
    {
     "data": {
      "text/plain": [
       "False"
      ]
     },
     "execution_count": 139,
     "metadata": {},
     "output_type": "execute_result"
    }
   ],
   "source": [
    "#checks if two array shared memory\n",
    "sh1 = np.shares_memory(c1,copied)\n",
    "sh1"
   ]
  }
 ],
 "metadata": {
  "kernelspec": {
   "display_name": "Python [conda env:base] *",
   "language": "python",
   "name": "conda-base-py"
  },
  "language_info": {
   "codemirror_mode": {
    "name": "ipython",
    "version": 3
   },
   "file_extension": ".py",
   "mimetype": "text/x-python",
   "name": "python",
   "nbconvert_exporter": "python",
   "pygments_lexer": "ipython3",
   "version": "3.13.5"
  }
 },
 "nbformat": 4,
 "nbformat_minor": 5
}
