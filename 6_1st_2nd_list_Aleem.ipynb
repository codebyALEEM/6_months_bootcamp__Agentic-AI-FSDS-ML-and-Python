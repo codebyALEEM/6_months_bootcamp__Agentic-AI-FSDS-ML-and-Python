{
 "cells": [
  {
   "cell_type": "markdown",
   "id": "0f9818b3-5d60-4247-935f-df4567a098a9",
   "metadata": {},
   "source": [
    "LIST"
   ]
  },
  {
   "cell_type": "markdown",
   "id": "2c50ab35-f6b3-4020-9eab-4719829efbe4",
   "metadata": {},
   "source": [
    "1-List is an ordered squence of items\n",
    "2-we can have different data types under a list \n",
    "  e.g-we can have integer, float , string,complex and boolen in same list\n",
    "3-List is mutable \n",
    "4-Duplicates are allowed"
   ]
  },
  {
   "cell_type": "code",
   "execution_count": 370,
   "id": "0f93c558-9fb7-4346-94c1-b5a8e61edbcb",
   "metadata": {},
   "outputs": [],
   "source": [
    "l = [] #Empty list"
   ]
  },
  {
   "cell_type": "code",
   "execution_count": 371,
   "id": "7494074d-9896-45d6-aa82-adb42f7a3b7c",
   "metadata": {},
   "outputs": [
    {
     "name": "stdout",
     "output_type": "stream",
     "text": [
      "<class 'list'>\n"
     ]
    }
   ],
   "source": [
    "print(type(l))"
   ]
  },
  {
   "cell_type": "code",
   "execution_count": 372,
   "id": "0e0def76-2402-4038-a226-ae81dd47c2b3",
   "metadata": {},
   "outputs": [],
   "source": [
    "l1 = [1,2,3] #List of integer"
   ]
  },
  {
   "cell_type": "code",
   "execution_count": 373,
   "id": "085f36dc-bb56-4701-abc4-a73f12674d00",
   "metadata": {},
   "outputs": [],
   "source": [
    "l2 = [2.3,2.5,6.5] #list of float"
   ]
  },
  {
   "cell_type": "code",
   "execution_count": 374,
   "id": "9d13632a-40a8-43e6-b912-980099d8130b",
   "metadata": {},
   "outputs": [],
   "source": [
    "l3 = ['python','programming','language'] #list of string"
   ]
  },
  {
   "cell_type": "code",
   "execution_count": 375,
   "id": "22df1532-50fd-4e32-99c5-398ec6ebfd91",
   "metadata": {},
   "outputs": [],
   "source": [
    "l4 = [1+6j,5+8j,5j] #list of complex"
   ]
  },
  {
   "cell_type": "code",
   "execution_count": 376,
   "id": "02a388d1-86e1-444f-bc64-2f6aa67919a5",
   "metadata": {},
   "outputs": [],
   "source": [
    "l5 = [True,False] #list of bool"
   ]
  },
  {
   "cell_type": "code",
   "execution_count": 377,
   "id": "318946e0-f5c3-44f8-a1b2-5389b93b2b00",
   "metadata": {},
   "outputs": [
    {
     "data": {
      "text/plain": [
       "list"
      ]
     },
     "execution_count": 377,
     "metadata": {},
     "output_type": "execute_result"
    }
   ],
   "source": [
    "type(l5)"
   ]
  },
  {
   "cell_type": "code",
   "execution_count": 378,
   "id": "920bc0e2-2b31-4490-a3cb-e506bb9e469a",
   "metadata": {},
   "outputs": [],
   "source": [
    "l6 = [1,2,3,['a','b','c'],[1.2,2.5]] #Nested list"
   ]
  },
  {
   "cell_type": "code",
   "execution_count": 379,
   "id": "63b3507e-568a-43fc-95a5-65470d119044",
   "metadata": {},
   "outputs": [],
   "source": [
    "l7 = [1,2.5,'list',5+9j,True] #mixed datatype list"
   ]
  },
  {
   "cell_type": "code",
   "execution_count": 380,
   "id": "6e15964c-188b-407c-bb50-f94460319fd9",
   "metadata": {},
   "outputs": [
    {
     "name": "stdout",
     "output_type": "stream",
     "text": [
      "[]\n",
      "[1, 2, 3]\n",
      "[2.3, 2.5, 6.5]\n",
      "['python', 'programming', 'language']\n",
      "[(1+6j), (5+8j), 5j]\n",
      "[True, False]\n",
      "[1, 2, 3, ['a', 'b', 'c'], [1.2, 2.5]]\n",
      "[1, 2.5, 'list', (5+9j), True]\n"
     ]
    }
   ],
   "source": [
    "print(l)\n",
    "print(l1)\n",
    "print(l2)\n",
    "print(l3)\n",
    "print(l4)\n",
    "print(l5)\n",
    "print(l6)\n",
    "print(l7)\n"
   ]
  },
  {
   "cell_type": "code",
   "execution_count": 381,
   "id": "ea5b4003-372f-49f4-ba22-1d4b832608d0",
   "metadata": {},
   "outputs": [
    {
     "data": {
      "text/plain": [
       "5"
      ]
     },
     "execution_count": 381,
     "metadata": {},
     "output_type": "execute_result"
    }
   ],
   "source": [
    "#len function\n",
    "len(l7)"
   ]
  },
  {
   "cell_type": "code",
   "execution_count": 382,
   "id": "539f6d59-785e-4e70-a438-89afbe221e26",
   "metadata": {},
   "outputs": [
    {
     "data": {
      "text/plain": [
       "[1, 2.5, 'list', (5+9j), True]"
      ]
     },
     "execution_count": 382,
     "metadata": {},
     "output_type": "execute_result"
    }
   ],
   "source": [
    "l7"
   ]
  },
  {
   "cell_type": "code",
   "execution_count": 383,
   "id": "61970db0-649c-4964-885c-52f4e6f9a891",
   "metadata": {},
   "outputs": [
    {
     "data": {
      "text/plain": [
       "1"
      ]
     },
     "execution_count": 383,
     "metadata": {},
     "output_type": "execute_result"
    }
   ],
   "source": [
    "l7[0] #first element"
   ]
  },
  {
   "cell_type": "code",
   "execution_count": 384,
   "id": "8c31a1e6-46e6-46b8-a1f8-d95cee503980",
   "metadata": {},
   "outputs": [
    {
     "data": {
      "text/plain": [
       "[1, 2.5, 'list', (5+9j), True]"
      ]
     },
     "execution_count": 384,
     "metadata": {},
     "output_type": "execute_result"
    }
   ],
   "source": [
    "l7[:] #all elements"
   ]
  },
  {
   "cell_type": "code",
   "execution_count": 385,
   "id": "04662bbb-d65e-4a4c-a796-b1198334a3e0",
   "metadata": {},
   "outputs": [
    {
     "data": {
      "text/plain": [
       "['list', (5+9j), True]"
      ]
     },
     "execution_count": 385,
     "metadata": {},
     "output_type": "execute_result"
    }
   ],
   "source": [
    "l7[2:5]"
   ]
  },
  {
   "cell_type": "code",
   "execution_count": 386,
   "id": "17a8028d-8658-45c0-a606-4f432784a911",
   "metadata": {},
   "outputs": [
    {
     "data": {
      "text/plain": [
       "True"
      ]
     },
     "execution_count": 386,
     "metadata": {},
     "output_type": "execute_result"
    }
   ],
   "source": [
    "l7[-1]"
   ]
  },
  {
   "cell_type": "code",
   "execution_count": 387,
   "id": "44c056b3-deb2-43b0-a272-74cbc8b4d9b0",
   "metadata": {},
   "outputs": [
    {
     "data": {
      "text/plain": [
       "[2.5, 'list', (5+9j), True]"
      ]
     },
     "execution_count": 387,
     "metadata": {},
     "output_type": "execute_result"
    }
   ],
   "source": [
    "l7[-4:]"
   ]
  },
  {
   "cell_type": "code",
   "execution_count": 388,
   "id": "88acb533-7f35-4aa4-b337-25a430035284",
   "metadata": {},
   "outputs": [
    {
     "data": {
      "text/plain": [
       "[2.5, 'list', (5+9j)]"
      ]
     },
     "execution_count": 388,
     "metadata": {},
     "output_type": "execute_result"
    }
   ],
   "source": [
    "l7[-4:-1]"
   ]
  },
  {
   "cell_type": "code",
   "execution_count": 389,
   "id": "743bc6e5-3eb4-44e1-9019-90c260607af3",
   "metadata": {},
   "outputs": [
    {
     "data": {
      "text/plain": [
       "['one', 'two', 'three', 'four', 'five', 'six', 'seven', 'eight', 'nine', 'ten']"
      ]
     },
     "execution_count": 389,
     "metadata": {},
     "output_type": "execute_result"
    }
   ],
   "source": [
    "mylist=['one','two','three','four','five','six','seven','eight','nine','ten']\n",
    "mylist"
   ]
  },
  {
   "cell_type": "code",
   "execution_count": 390,
   "id": "d60c9717-32c4-4b72-93b5-6a8da3a587eb",
   "metadata": {},
   "outputs": [
    {
     "data": {
      "text/plain": [
       "'one'"
      ]
     },
     "execution_count": 390,
     "metadata": {},
     "output_type": "execute_result"
    }
   ],
   "source": [
    "mylist[0] #Returns first element"
   ]
  },
  {
   "cell_type": "code",
   "execution_count": 391,
   "id": "8902f588-d94b-421d-9874-b02054b31f4d",
   "metadata": {},
   "outputs": [
    {
     "data": {
      "text/plain": [
       "'two'"
      ]
     },
     "execution_count": 391,
     "metadata": {},
     "output_type": "execute_result"
    }
   ],
   "source": [
    "mylist[1] #retirns second elements"
   ]
  },
  {
   "cell_type": "code",
   "execution_count": 392,
   "id": "43096628-2f3a-464b-a148-4ffae269d115",
   "metadata": {},
   "outputs": [
    {
     "data": {
      "text/plain": [
       "['one', 'two', 'three']"
      ]
     },
     "execution_count": 392,
     "metadata": {},
     "output_type": "execute_result"
    }
   ],
   "source": [
    "mylist[0:3] #returns first three elements"
   ]
  },
  {
   "cell_type": "code",
   "execution_count": 393,
   "id": "71e5d29f-cc12-4165-ae18-d70c7a9ed5c7",
   "metadata": {},
   "outputs": [
    {
     "data": {
      "text/plain": [
       "['one', 'two', 'three']"
      ]
     },
     "execution_count": 393,
     "metadata": {},
     "output_type": "execute_result"
    }
   ],
   "source": [
    "mylist[:3] #returns first three elements"
   ]
  },
  {
   "cell_type": "code",
   "execution_count": 394,
   "id": "5c0d61d0-dadd-4d62-aa26-14c1a2386909",
   "metadata": {},
   "outputs": [
    {
     "data": {
      "text/plain": [
       "'ten'"
      ]
     },
     "execution_count": 394,
     "metadata": {},
     "output_type": "execute_result"
    }
   ],
   "source": [
    "#Negative indexing\n",
    "mylist[-1] #returns last element"
   ]
  },
  {
   "cell_type": "code",
   "execution_count": 395,
   "id": "c9363067-a697-48b8-a8d3-8ea0c8589aa5",
   "metadata": {},
   "outputs": [
    {
     "data": {
      "text/plain": [
       "'nine'"
      ]
     },
     "execution_count": 395,
     "metadata": {},
     "output_type": "execute_result"
    }
   ],
   "source": [
    "mylist[-2] #second last element"
   ]
  },
  {
   "cell_type": "code",
   "execution_count": 396,
   "id": "5986e169-329f-4aa5-a62a-044ca92ca8cf",
   "metadata": {},
   "outputs": [
    {
     "data": {
      "text/plain": [
       "['eight', 'nine', 'ten']"
      ]
     },
     "execution_count": 396,
     "metadata": {},
     "output_type": "execute_result"
    }
   ],
   "source": [
    "mylist[-3:] #returns last three elements"
   ]
  },
  {
   "cell_type": "code",
   "execution_count": 397,
   "id": "da81188b-8378-4075-b0a4-0465838d96a3",
   "metadata": {},
   "outputs": [
    {
     "data": {
      "text/plain": [
       "['six', 'seven', 'eight']"
      ]
     },
     "execution_count": 397,
     "metadata": {},
     "output_type": "execute_result"
    }
   ],
   "source": [
    "mylist[-5:-2]"
   ]
  },
  {
   "cell_type": "code",
   "execution_count": 398,
   "id": "9522d548-f953-407b-bef2-939823740325",
   "metadata": {},
   "outputs": [
    {
     "data": {
      "text/plain": [
       "['one', 'two', 'three', 'four', 'five', 'six', 'seven', 'eight', 'nine', 'ten']"
      ]
     },
     "execution_count": 398,
     "metadata": {},
     "output_type": "execute_result"
    }
   ],
   "source": [
    "mylist[:] #returns whole list"
   ]
  },
  {
   "cell_type": "code",
   "execution_count": 399,
   "id": "cc79a685-b9f0-4e85-8173-b6c66dac1dea",
   "metadata": {},
   "outputs": [
    {
     "data": {
      "text/plain": [
       "'ten'"
      ]
     },
     "execution_count": 399,
     "metadata": {},
     "output_type": "execute_result"
    }
   ],
   "source": [
    "#accessing last element \n",
    "mylist[len(mylist)-1]"
   ]
  },
  {
   "cell_type": "code",
   "execution_count": 400,
   "id": "3fbfd01a-d2d5-4ff5-8f25-a3b338ab222e",
   "metadata": {},
   "outputs": [],
   "source": [
    "mylist.append('eleven')"
   ]
  },
  {
   "cell_type": "code",
   "execution_count": 401,
   "id": "4bae3b63-e027-4d2d-b256-79327b263740",
   "metadata": {},
   "outputs": [
    {
     "data": {
      "text/plain": [
       "['one',\n",
       " 'two',\n",
       " 'three',\n",
       " 'four',\n",
       " 'five',\n",
       " 'six',\n",
       " 'seven',\n",
       " 'eight',\n",
       " 'nine',\n",
       " 'ten',\n",
       " 'eleven']"
      ]
     },
     "execution_count": 401,
     "metadata": {},
     "output_type": "execute_result"
    }
   ],
   "source": [
    "mylist"
   ]
  },
  {
   "cell_type": "code",
   "execution_count": 402,
   "id": "19175fde-09a6-4561-82ee-ea6a268aa125",
   "metadata": {},
   "outputs": [],
   "source": [
    "mylist.insert(-1,'twelve')"
   ]
  },
  {
   "cell_type": "code",
   "execution_count": 403,
   "id": "e939cddb-f98a-4e93-a49a-f90e67e33b6d",
   "metadata": {},
   "outputs": [
    {
     "data": {
      "text/plain": [
       "['one',\n",
       " 'two',\n",
       " 'three',\n",
       " 'four',\n",
       " 'five',\n",
       " 'six',\n",
       " 'seven',\n",
       " 'eight',\n",
       " 'nine',\n",
       " 'ten',\n",
       " 'twelve',\n",
       " 'eleven']"
      ]
     },
     "execution_count": 403,
     "metadata": {},
     "output_type": "execute_result"
    }
   ],
   "source": [
    "mylist"
   ]
  },
  {
   "cell_type": "code",
   "execution_count": 404,
   "id": "1657cd54-ad34-4aeb-a6df-05c6141220d4",
   "metadata": {},
   "outputs": [],
   "source": [
    " mylist.insert(0,'numbers')"
   ]
  },
  {
   "cell_type": "code",
   "execution_count": 405,
   "id": "bfa73122-145e-4020-9b69-a3c06a9c37a1",
   "metadata": {},
   "outputs": [
    {
     "data": {
      "text/plain": [
       "['numbers',\n",
       " 'one',\n",
       " 'two',\n",
       " 'three',\n",
       " 'four',\n",
       " 'five',\n",
       " 'six',\n",
       " 'seven',\n",
       " 'eight',\n",
       " 'nine',\n",
       " 'ten',\n",
       " 'twelve',\n",
       " 'eleven']"
      ]
     },
     "execution_count": 405,
     "metadata": {},
     "output_type": "execute_result"
    }
   ],
   "source": [
    "mylist"
   ]
  },
  {
   "cell_type": "code",
   "execution_count": 406,
   "id": "8a085e28-529a-4b1b-b3e5-ce3daa412f4b",
   "metadata": {},
   "outputs": [],
   "source": [
    "mylist.remove('twelve')"
   ]
  },
  {
   "cell_type": "code",
   "execution_count": 407,
   "id": "c9306da7-1f55-47ab-ab3c-6327c2953221",
   "metadata": {},
   "outputs": [
    {
     "data": {
      "text/plain": [
       "['numbers',\n",
       " 'one',\n",
       " 'two',\n",
       " 'three',\n",
       " 'four',\n",
       " 'five',\n",
       " 'six',\n",
       " 'seven',\n",
       " 'eight',\n",
       " 'nine',\n",
       " 'ten',\n",
       " 'eleven']"
      ]
     },
     "execution_count": 407,
     "metadata": {},
     "output_type": "execute_result"
    }
   ],
   "source": [
    "mylist"
   ]
  },
  {
   "cell_type": "code",
   "execution_count": 408,
   "id": "724288f5-935c-4777-b94c-30938235c5f9",
   "metadata": {},
   "outputs": [],
   "source": [
    "mylist.remove('eleven')"
   ]
  },
  {
   "cell_type": "code",
   "execution_count": 409,
   "id": "7637f5e8-e358-4551-a233-90146409ad23",
   "metadata": {},
   "outputs": [
    {
     "data": {
      "text/plain": [
       "['numbers',\n",
       " 'one',\n",
       " 'two',\n",
       " 'three',\n",
       " 'four',\n",
       " 'five',\n",
       " 'six',\n",
       " 'seven',\n",
       " 'eight',\n",
       " 'nine',\n",
       " 'ten']"
      ]
     },
     "execution_count": 409,
     "metadata": {},
     "output_type": "execute_result"
    }
   ],
   "source": [
    "mylist"
   ]
  },
  {
   "cell_type": "code",
   "execution_count": 410,
   "id": "ba48c22f-32fd-43eb-8341-8795407988ee",
   "metadata": {},
   "outputs": [
    {
     "data": {
      "text/plain": [
       "'ten'"
      ]
     },
     "execution_count": 410,
     "metadata": {},
     "output_type": "execute_result"
    }
   ],
   "source": [
    "mylist.pop() #by default last element"
   ]
  },
  {
   "cell_type": "code",
   "execution_count": 411,
   "id": "2e3dc813-e2d1-44d7-a00b-3ae83b574eff",
   "metadata": {},
   "outputs": [
    {
     "data": {
      "text/plain": [
       "'numbers'"
      ]
     },
     "execution_count": 411,
     "metadata": {},
     "output_type": "execute_result"
    }
   ],
   "source": [
    "mylist.pop(0) "
   ]
  },
  {
   "cell_type": "code",
   "execution_count": 412,
   "id": "eb184478-1e79-4637-bed9-2d3769921ebe",
   "metadata": {},
   "outputs": [
    {
     "name": "stdout",
     "output_type": "stream",
     "text": [
      "['one', 'two', 'three', 'four', 'five', 'six', 'seven', 'eight', 'nine']\n"
     ]
    }
   ],
   "source": [
    "print(mylist)"
   ]
  },
  {
   "cell_type": "code",
   "execution_count": 413,
   "id": "245c7896-6062-4e15-b701-46cd19fe025b",
   "metadata": {},
   "outputs": [
    {
     "name": "stdout",
     "output_type": "stream",
     "text": [
      "Last after Append= ['one', 'two', 'three', 'four', 'five', 'six', 'seven', 'eight', 'nine', 'ten']\n"
     ]
    }
   ],
   "source": [
    "mylist.append('ten')\n",
    "print('Last after Append=',mylist)"
   ]
  },
  {
   "cell_type": "code",
   "execution_count": 414,
   "id": "c2880efc-b582-476b-87e4-42a130e2aa79",
   "metadata": {},
   "outputs": [
    {
     "name": "stdout",
     "output_type": "stream",
     "text": [
      "List after insert= ['one', 'two', 'three', 'four', 'five', 'python', 'six', 'seven', 'eight', 'nine', 'ten']\n"
     ]
    }
   ],
   "source": [
    "mylist.insert(5,'python')\n",
    "print('List after insert=',mylist)"
   ]
  },
  {
   "cell_type": "code",
   "execution_count": 415,
   "id": "c3427823-a7b7-4ae5-ac83-342887d66844",
   "metadata": {},
   "outputs": [
    {
     "name": "stdout",
     "output_type": "stream",
     "text": [
      "List after remove function= ['one', 'two', 'three', 'four', 'five', 'python', 'seven', 'eight', 'nine', 'ten']\n"
     ]
    }
   ],
   "source": [
    "mylist.remove('six')\n",
    "print('List after remove function=',mylist)"
   ]
  },
  {
   "cell_type": "code",
   "execution_count": 416,
   "id": "72a8934a-8103-4460-9459-f1c34f92e670",
   "metadata": {},
   "outputs": [
    {
     "name": "stdout",
     "output_type": "stream",
     "text": [
      "List after pop= ['one', 'two', 'three', 'four', 'five', 'python', 'seven', 'eight', 'nine']\n"
     ]
    }
   ],
   "source": [
    "mylist.pop()\n",
    "print('List after pop=',mylist)"
   ]
  },
  {
   "cell_type": "code",
   "execution_count": 417,
   "id": "3d979464-caca-4710-b669-3729b0d7081f",
   "metadata": {},
   "outputs": [
    {
     "data": {
      "text/plain": [
       "1"
      ]
     },
     "execution_count": 417,
     "metadata": {},
     "output_type": "execute_result"
    }
   ],
   "source": [
    "mylist.count('three')"
   ]
  },
  {
   "cell_type": "code",
   "execution_count": 418,
   "id": "21bf077d-5e7a-444b-bf02-03bab9c876d1",
   "metadata": {},
   "outputs": [
    {
     "data": {
      "text/plain": [
       "['nine', 'eight', 'seven', 'python', 'five', 'four', 'three', 'two', 'one']"
      ]
     },
     "execution_count": 418,
     "metadata": {},
     "output_type": "execute_result"
    }
   ],
   "source": [
    "mylist.reverse()\n",
    "mylist"
   ]
  },
  {
   "cell_type": "code",
   "execution_count": 419,
   "id": "b5fed035-b16b-4878-9ae9-2237f1f24733",
   "metadata": {},
   "outputs": [
    {
     "data": {
      "text/plain": [
       "['nine', 'eight', 'seven', 'python', 'five', 'four', 'three', 'two', 'one']"
      ]
     },
     "execution_count": 419,
     "metadata": {},
     "output_type": "execute_result"
    }
   ],
   "source": [
    "mylist.copy()"
   ]
  },
  {
   "cell_type": "code",
   "execution_count": 420,
   "id": "bd19eb93-ffad-4a53-9c15-0912edbb4cb1",
   "metadata": {},
   "outputs": [],
   "source": [
    "mylist.sort()"
   ]
  },
  {
   "cell_type": "code",
   "execution_count": 421,
   "id": "28a23f4e-74c3-4ecb-b602-bbf87917aada",
   "metadata": {},
   "outputs": [
    {
     "data": {
      "text/plain": [
       "['eight', 'five', 'four', 'nine', 'one', 'python', 'seven', 'three', 'two']"
      ]
     },
     "execution_count": 421,
     "metadata": {},
     "output_type": "execute_result"
    }
   ],
   "source": [
    "mylist"
   ]
  },
  {
   "cell_type": "code",
   "execution_count": 422,
   "id": "81b3713d-607e-461a-bb5d-6565fae65ae6",
   "metadata": {},
   "outputs": [],
   "source": [
    "mylist.sort(key=len)"
   ]
  },
  {
   "cell_type": "code",
   "execution_count": 423,
   "id": "0c708c44-eade-409f-bd9a-f461cdafafd0",
   "metadata": {},
   "outputs": [
    {
     "data": {
      "text/plain": [
       "['one', 'two', 'five', 'four', 'nine', 'eight', 'seven', 'three', 'python']"
      ]
     },
     "execution_count": 423,
     "metadata": {},
     "output_type": "execute_result"
    }
   ],
   "source": [
    "mylist"
   ]
  },
  {
   "cell_type": "code",
   "execution_count": 424,
   "id": "69cc914f-7201-442a-ae58-0edab5aba63b",
   "metadata": {},
   "outputs": [],
   "source": [
    "mylist.sort(key=len,reverse=True) #decending"
   ]
  },
  {
   "cell_type": "code",
   "execution_count": 425,
   "id": "124dd1a6-c133-4ca1-a5fa-cff09e6a0c6f",
   "metadata": {},
   "outputs": [
    {
     "data": {
      "text/plain": [
       "['python', 'eight', 'seven', 'three', 'five', 'four', 'nine', 'one', 'two']"
      ]
     },
     "execution_count": 425,
     "metadata": {},
     "output_type": "execute_result"
    }
   ],
   "source": [
    "mylist"
   ]
  },
  {
   "cell_type": "code",
   "execution_count": 426,
   "id": "86a00fa0-7a7e-402a-b0fd-3adadad5e955",
   "metadata": {},
   "outputs": [],
   "source": [
    "lst=[1,2,3]"
   ]
  },
  {
   "cell_type": "code",
   "execution_count": 427,
   "id": "257b4d14-9327-41b1-8e63-b0cbdbf98470",
   "metadata": {},
   "outputs": [],
   "source": [
    "mylist.extend(lst)"
   ]
  },
  {
   "cell_type": "code",
   "execution_count": 428,
   "id": "2f432cd4-db40-44a9-95af-7e3c7a215e6d",
   "metadata": {},
   "outputs": [
    {
     "data": {
      "text/plain": [
       "['python',\n",
       " 'eight',\n",
       " 'seven',\n",
       " 'three',\n",
       " 'five',\n",
       " 'four',\n",
       " 'nine',\n",
       " 'one',\n",
       " 'two',\n",
       " 1,\n",
       " 2,\n",
       " 3]"
      ]
     },
     "execution_count": 428,
     "metadata": {},
     "output_type": "execute_result"
    }
   ],
   "source": [
    "mylist"
   ]
  },
  {
   "cell_type": "code",
   "execution_count": 429,
   "id": "49a30b72-0aca-4324-917a-be35a659f95d",
   "metadata": {},
   "outputs": [],
   "source": [
    "lst.clear()"
   ]
  },
  {
   "cell_type": "code",
   "execution_count": 430,
   "id": "d7876d80-bf1c-41f3-b75f-ad7c5975bbec",
   "metadata": {},
   "outputs": [
    {
     "data": {
      "text/plain": [
       "[]"
      ]
     },
     "execution_count": 430,
     "metadata": {},
     "output_type": "execute_result"
    }
   ],
   "source": [
    "lst"
   ]
  },
  {
   "cell_type": "code",
   "execution_count": 431,
   "id": "6baa1d41-a1f2-4d13-b263-3f4ccd582059",
   "metadata": {},
   "outputs": [],
   "source": [
    "del lst"
   ]
  },
  {
   "cell_type": "code",
   "execution_count": 432,
   "id": "927fc5be-78e1-42ee-84f8-907c9ad1bcdc",
   "metadata": {},
   "outputs": [
    {
     "ename": "NameError",
     "evalue": "name 'lst' is not defined",
     "output_type": "error",
     "traceback": [
      "\u001b[1;31m---------------------------------------------------------------------------\u001b[0m",
      "\u001b[1;31mNameError\u001b[0m                                 Traceback (most recent call last)",
      "Cell \u001b[1;32mIn[432], line 1\u001b[0m\n\u001b[1;32m----> 1\u001b[0m lst\n",
      "\u001b[1;31mNameError\u001b[0m: name 'lst' is not defined"
     ]
    }
   ],
   "source": [
    "lst"
   ]
  },
  {
   "cell_type": "code",
   "execution_count": null,
   "id": "9f39ad1a-b96b-4dee-9309-a2e665079cd5",
   "metadata": {},
   "outputs": [],
   "source": [
    "mylist.index('python')\n"
   ]
  },
  {
   "cell_type": "code",
   "execution_count": null,
   "id": "fd9959bf-e5f3-4e35-857d-a8acb74a45cb",
   "metadata": {},
   "outputs": [],
   "source": [
    "mylist"
   ]
  },
  {
   "cell_type": "code",
   "execution_count": null,
   "id": "68220207-e524-4724-b2f3-ecb9af0c1ed4",
   "metadata": {},
   "outputs": [],
   "source": [
    "#if we want to search value betweeen particular range then we can sue....\n",
    "mylist.index('five',0,6)"
   ]
  },
  {
   "cell_type": "code",
   "execution_count": null,
   "id": "59022a18-a651-4ca2-8c88-f2ca5647fd27",
   "metadata": {},
   "outputs": [],
   "source": [
    "mylist"
   ]
  },
  {
   "cell_type": "code",
   "execution_count": null,
   "id": "a873d38d-591e-4e11-a2b6-1d1f515d70b8",
   "metadata": {},
   "outputs": [],
   "source": [
    "mylist1 = mylist"
   ]
  },
  {
   "cell_type": "code",
   "execution_count": null,
   "id": "3f748d06-361e-4d75-9af1-54cb0a509b87",
   "metadata": {},
   "outputs": [],
   "source": [
    "mylist1"
   ]
  },
  {
   "cell_type": "code",
   "execution_count": null,
   "id": "dcdef64f-e541-4f62-821e-71d1f09e249f",
   "metadata": {},
   "outputs": [],
   "source": [
    "id(mylist),id(mylist1)"
   ]
  },
  {
   "cell_type": "code",
   "execution_count": null,
   "id": "d1105032-54d3-4df4-a2b3-8aa66939da98",
   "metadata": {},
   "outputs": [],
   "source": [
    "mylist2=mylist.copy()"
   ]
  },
  {
   "cell_type": "code",
   "execution_count": null,
   "id": "d4c69b84-735d-4c45-9b66-12f559b282f5",
   "metadata": {},
   "outputs": [],
   "source": [
    "id(mylist2)"
   ]
  },
  {
   "cell_type": "code",
   "execution_count": null,
   "id": "e5f92629-51ee-4028-8a0a-6e2fef89cb6a",
   "metadata": {},
   "outputs": [],
   "source": [
    "print(mylist[0])\n",
    "print(mylist1[0])\n",
    "print(mylist2[0])"
   ]
  },
  {
   "cell_type": "code",
   "execution_count": null,
   "id": "4239ac5e-1a3d-4ab1-aa42-7e7782b01616",
   "metadata": {},
   "outputs": [],
   "source": [
    "mylist.pop()"
   ]
  },
  {
   "cell_type": "code",
   "execution_count": null,
   "id": "9fc62141-3e2b-4f6a-8a7f-7aeac2c3efd4",
   "metadata": {},
   "outputs": [],
   "source": [
    "print(mylist)\n",
    "print(mylist1)\n",
    "print(mylist2)"
   ]
  },
  {
   "cell_type": "markdown",
   "id": "b2b254a0-d2d2-4889-bbf3-4e01225e24b0",
   "metadata": {},
   "source": [
    "Here,\n",
    "-Id of mylist and mylist1 are same so if we perform any operation on any of   the list then the both the list will be changed.\n",
    "-As mylist2 is having different id it will remain the same "
   ]
  },
  {
   "cell_type": "code",
   "execution_count": null,
   "id": "a3997821-59f2-4a7c-b329-e68d4c1a8e4c",
   "metadata": {},
   "outputs": [],
   "source": [
    "pl=[1,2,3,4]\n",
    "pl2=[5,6,7,8]"
   ]
  },
  {
   "cell_type": "code",
   "execution_count": null,
   "id": "8c6f658d-480a-4c31-90f0-fd6d7f69d809",
   "metadata": {},
   "outputs": [],
   "source": [
    "pl3= pl + pl2\n",
    "pl3"
   ]
  },
  {
   "cell_type": "code",
   "execution_count": null,
   "id": "8dc17090-b92f-405a-a4c3-b36340b9e7d4",
   "metadata": {},
   "outputs": [],
   "source": [
    "1 in pl3"
   ]
  },
  {
   "cell_type": "code",
   "execution_count": null,
   "id": "8381be38-8eaa-4656-a0d0-ce18021e1840",
   "metadata": {},
   "outputs": [],
   "source": [
    "'one' in pl3"
   ]
  },
  {
   "cell_type": "markdown",
   "id": "55104b54-7939-4738-855b-f73209afc4bf",
   "metadata": {},
   "source": [
    "Loop in list"
   ]
  },
  {
   "cell_type": "code",
   "execution_count": null,
   "id": "784d4ebc-1150-4f86-a009-fc223e34f454",
   "metadata": {},
   "outputs": [],
   "source": [
    "if 'three' in pl3:\n",
    "    print(\"three is present\")\n",
    "else:\n",
    "    print('three is not present')"
   ]
  },
  {
   "cell_type": "code",
   "execution_count": null,
   "id": "c4c52492-4c23-4d4a-ad3f-75ae3e9a5d57",
   "metadata": {},
   "outputs": [],
   "source": [
    "if 5 in pl3:\n",
    "    print('5 is present in pl3')\n",
    "else:\n",
    "    print('5 is not present in pl3')"
   ]
  },
  {
   "cell_type": "code",
   "execution_count": 435,
   "id": "5b706cf5-f6e1-4b39-9512-ed7ea8c0ff02",
   "metadata": {},
   "outputs": [
    {
     "data": {
      "text/plain": [
       "[1, 2, 3, 4, 5, 6, 7, 8]"
      ]
     },
     "execution_count": 435,
     "metadata": {},
     "output_type": "execute_result"
    }
   ],
   "source": [
    "pl3[::-1]# reverse the list"
   ]
  },
  {
   "cell_type": "code",
   "execution_count": 437,
   "id": "c95669cc-97ac-4515-bfe1-ab560972a200",
   "metadata": {},
   "outputs": [
    {
     "name": "stdout",
     "output_type": "stream",
     "text": [
      "8\n",
      "7\n",
      "6\n",
      "5\n",
      "4\n",
      "3\n",
      "2\n",
      "1\n"
     ]
    }
   ],
   "source": [
    "for i in pl3:\n",
    "    print(i)"
   ]
  },
  {
   "cell_type": "code",
   "execution_count": 438,
   "id": "810aa1ee-df3f-4b14-98fd-7846e5486e92",
   "metadata": {},
   "outputs": [
    {
     "name": "stdout",
     "output_type": "stream",
     "text": [
      "python\n",
      "eight\n",
      "seven\n",
      "three\n",
      "five\n",
      "four\n",
      "nine\n",
      "one\n",
      "two\n",
      "1\n",
      "2\n",
      "3\n"
     ]
    }
   ],
   "source": [
    "for i in mylist:\n",
    "    print(i)"
   ]
  },
  {
   "cell_type": "code",
   "execution_count": 439,
   "id": "be9d918d-0361-4c72-a78b-a56511f6a4a3",
   "metadata": {},
   "outputs": [
    {
     "name": "stdout",
     "output_type": "stream",
     "text": [
      "(0, 'python')\n",
      "(1, 'eight')\n",
      "(2, 'seven')\n",
      "(3, 'three')\n",
      "(4, 'five')\n",
      "(5, 'four')\n",
      "(6, 'nine')\n",
      "(7, 'one')\n",
      "(8, 'two')\n",
      "(9, 1)\n",
      "(10, 2)\n",
      "(11, 3)\n"
     ]
    }
   ],
   "source": [
    "for i in enumerate(mylist):\n",
    "    print(i)"
   ]
  },
  {
   "cell_type": "markdown",
   "id": "885a4e54-62f8-4b4c-87d1-88ddabb45e1b",
   "metadata": {},
   "source": [
    "All / Any\n",
    "\n",
    "all() method returns:\n",
    "-True:If all elements in a list are true\n",
    "-False:If any elememt in a list is false \n",
    "\n",
    "the any() function returs True if any element in the list is True\n",
    "if not any () returns false."
   ]
  },
  {
   "cell_type": "code",
   "execution_count": 440,
   "id": "ccccae5d-3d2d-4556-9121-b0775c150a82",
   "metadata": {},
   "outputs": [],
   "source": [
    "lis0 = [1,2,3,4,5,0]"
   ]
  },
  {
   "cell_type": "code",
   "execution_count": 441,
   "id": "4effcc08-a5a5-4bef-9abe-5d04f5aed798",
   "metadata": {},
   "outputs": [
    {
     "data": {
      "text/plain": [
       "False"
      ]
     },
     "execution_count": 441,
     "metadata": {},
     "output_type": "execute_result"
    }
   ],
   "source": [
    "all(lis0)"
   ]
  },
  {
   "cell_type": "code",
   "execution_count": 442,
   "id": "ccab0957-40fa-4dc3-afea-256583bee2d7",
   "metadata": {},
   "outputs": [
    {
     "data": {
      "text/plain": [
       "True"
      ]
     },
     "execution_count": 442,
     "metadata": {},
     "output_type": "execute_result"
    }
   ],
   "source": [
    "any(lis0)"
   ]
  },
  {
   "cell_type": "code",
   "execution_count": 443,
   "id": "8cfa2984-68b7-4c42-8bbf-17cee931f9fa",
   "metadata": {},
   "outputs": [],
   "source": [
    "lis10 = [1,2,True,False]"
   ]
  },
  {
   "cell_type": "code",
   "execution_count": 444,
   "id": "ff89c720-5b83-410f-957b-97d0a630c3b9",
   "metadata": {},
   "outputs": [
    {
     "data": {
      "text/plain": [
       "False"
      ]
     },
     "execution_count": 444,
     "metadata": {},
     "output_type": "execute_result"
    }
   ],
   "source": [
    "all(lis10)"
   ]
  },
  {
   "cell_type": "code",
   "execution_count": 445,
   "id": "fc096c68-6d50-4dd4-ace0-e4455b309241",
   "metadata": {},
   "outputs": [
    {
     "data": {
      "text/plain": [
       "True"
      ]
     },
     "execution_count": 445,
     "metadata": {},
     "output_type": "execute_result"
    }
   ],
   "source": [
    "any(lis10)"
   ]
  },
  {
   "cell_type": "code",
   "execution_count": 446,
   "id": "dc3433b7-656a-444e-b31b-b034f077c849",
   "metadata": {},
   "outputs": [],
   "source": [
    "lis20 = [1,2,3,True]"
   ]
  },
  {
   "cell_type": "code",
   "execution_count": 447,
   "id": "c7c3b1a9-1b2b-4e1a-8c84-68cbcede6de1",
   "metadata": {},
   "outputs": [
    {
     "data": {
      "text/plain": [
       "True"
      ]
     },
     "execution_count": 447,
     "metadata": {},
     "output_type": "execute_result"
    }
   ],
   "source": [
    "all(lis20)"
   ]
  },
  {
   "cell_type": "code",
   "execution_count": 448,
   "id": "b3f8b257-177d-4368-a6f7-90ce63e4790d",
   "metadata": {},
   "outputs": [
    {
     "data": {
      "text/plain": [
       "True"
      ]
     },
     "execution_count": 448,
     "metadata": {},
     "output_type": "execute_result"
    }
   ],
   "source": [
    "any(lis20)"
   ]
  },
  {
   "cell_type": "code",
   "execution_count": null,
   "id": "abd616b0-a59a-4d68-a99b-b8426f8b3c4f",
   "metadata": {},
   "outputs": [],
   "source": [
    "lis30 = [0,False"
   ]
  }
 ],
 "metadata": {
  "kernelspec": {
   "display_name": "Python [conda env:base] *",
   "language": "python",
   "name": "conda-base-py"
  },
  "language_info": {
   "codemirror_mode": {
    "name": "ipython",
    "version": 3
   },
   "file_extension": ".py",
   "mimetype": "text/x-python",
   "name": "python",
   "nbconvert_exporter": "python",
   "pygments_lexer": "ipython3",
   "version": "3.13.5"
  }
 },
 "nbformat": 4,
 "nbformat_minor": 5
}
