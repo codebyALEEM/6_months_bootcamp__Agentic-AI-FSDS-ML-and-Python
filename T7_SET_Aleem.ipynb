{
 "cells": [
  {
   "cell_type": "markdown",
   "id": "46db95b4-66e6-409f-8714-dadd9990189d",
   "metadata": {},
   "source": [
    "SET "
   ]
  },
  {
   "cell_type": "code",
   "execution_count": 60,
   "id": "92f83b4f-079b-4143-88e4-c8e848c4f14b",
   "metadata": {},
   "outputs": [],
   "source": [
    "s = {1,2,3} #python set"
   ]
  },
  {
   "cell_type": "code",
   "execution_count": 61,
   "id": "6db1221b-301b-486b-8da3-e5b0c2fb5f4c",
   "metadata": {},
   "outputs": [
    {
     "data": {
      "text/plain": [
       "set"
      ]
     },
     "execution_count": 61,
     "metadata": {},
     "output_type": "execute_result"
    }
   ],
   "source": [
    "type(s)"
   ]
  },
  {
   "cell_type": "code",
   "execution_count": 62,
   "id": "05d66b45-663a-48cd-bd49-6c5bc25e48c7",
   "metadata": {},
   "outputs": [],
   "source": [
    "s1 ={} #this not a empty set in python"
   ]
  },
  {
   "cell_type": "code",
   "execution_count": 63,
   "id": "1b9ff355-bf9d-401f-9651-88a9f2bf374f",
   "metadata": {},
   "outputs": [
    {
     "data": {
      "text/plain": [
       "dict"
      ]
     },
     "execution_count": 63,
     "metadata": {},
     "output_type": "execute_result"
    }
   ],
   "source": [
    "type(s1)"
   ]
  },
  {
   "cell_type": "code",
   "execution_count": 64,
   "id": "e06818b4-e014-4d59-a707-c0dc6c009b32",
   "metadata": {},
   "outputs": [],
   "source": [
    "s2 = set() #In this way empty set is defined in python"
   ]
  },
  {
   "cell_type": "code",
   "execution_count": 65,
   "id": "2c170c0c-3546-4e9c-ab54-fa482d0b7955",
   "metadata": {},
   "outputs": [
    {
     "data": {
      "text/plain": [
       "set"
      ]
     },
     "execution_count": 65,
     "metadata": {},
     "output_type": "execute_result"
    }
   ],
   "source": [
    "type(s2)"
   ]
  },
  {
   "cell_type": "code",
   "execution_count": 66,
   "id": "6e31cd8f-016d-437e-9047-d2c9f9c5eb7b",
   "metadata": {},
   "outputs": [],
   "source": [
    "s3 = {1,2,3,4} #set with integer value"
   ]
  },
  {
   "cell_type": "code",
   "execution_count": 67,
   "id": "c469542a-7292-4b44-92cc-05ff0ecce7c6",
   "metadata": {},
   "outputs": [],
   "source": [
    "s4 = {2.3,5.8,4.5,9.1} #set with float value"
   ]
  },
  {
   "cell_type": "code",
   "execution_count": 68,
   "id": "302f2c46-1ea9-4766-a108-78c4f3e0f22d",
   "metadata": {},
   "outputs": [],
   "source": [
    "s5 = {'one','five','eight','numbers'} #set with string values"
   ]
  },
  {
   "cell_type": "code",
   "execution_count": 69,
   "id": "86e15c83-2f5f-4404-90a6-a73bc7145988",
   "metadata": {},
   "outputs": [],
   "source": [
    "s6 = {True,False} #set with bool values"
   ]
  },
  {
   "cell_type": "code",
   "execution_count": 70,
   "id": "fb0f812d-ffe0-426f-b493-bb105138006f",
   "metadata": {},
   "outputs": [],
   "source": [
    "s7 = {2+8j,5+16j,10+26j} #set with complex values"
   ]
  },
  {
   "cell_type": "code",
   "execution_count": 71,
   "id": "a42933d3-8e28-4c3b-9e4f-f4bdeca36182",
   "metadata": {},
   "outputs": [],
   "source": [
    "s8 = {5,1.3,2+8j,'python',True} #set with mix datatype"
   ]
  },
  {
   "cell_type": "code",
   "execution_count": 72,
   "id": "75e105a0-60a1-4c8d-a3e4-576fe7a4fa73",
   "metadata": {},
   "outputs": [
    {
     "name": "stdout",
     "output_type": "stream",
     "text": [
      "{1, 2, 3}\n",
      "set()\n",
      "{1, 2, 3, 4}\n",
      "{9.1, 2.3, 4.5, 5.8}\n",
      "{'eight', 'one', 'numbers', 'five'}\n",
      "{False, True}\n",
      "{(10+26j), (2+8j), (5+16j)}\n"
     ]
    }
   ],
   "source": [
    "print(s)\n",
    "print(s2)\n",
    "print(s3)\n",
    "print(s4)\n",
    "print(s5)\n",
    "print(s6)\n",
    "print(s7)"
   ]
  },
  {
   "cell_type": "code",
   "execution_count": 73,
   "id": "a9447384-e17d-43af-a45f-c23bcab0ff24",
   "metadata": {},
   "outputs": [],
   "source": [
    "se1 = {25,46,89,115,1,6,450}"
   ]
  },
  {
   "cell_type": "code",
   "execution_count": 74,
   "id": "c108d67b-b071-411c-915a-4a262659da03",
   "metadata": {},
   "outputs": [
    {
     "data": {
      "text/plain": [
       "{1, 6, 25, 46, 89, 115, 450}"
      ]
     },
     "execution_count": 74,
     "metadata": {},
     "output_type": "execute_result"
    }
   ],
   "source": [
    "se1"
   ]
  },
  {
   "cell_type": "code",
   "execution_count": 75,
   "id": "7e2a6be1-7544-4f03-8fc0-304ee24042b7",
   "metadata": {},
   "outputs": [
    {
     "name": "stdout",
     "output_type": "stream",
     "text": [
      "{1, 450, 115, 6, 25, 89, 46}\n"
     ]
    }
   ],
   "source": [
    "print(se1)\n"
   ]
  },
  {
   "cell_type": "code",
   "execution_count": 76,
   "id": "17322560-bd0d-4533-a4c6-15f10b320f1a",
   "metadata": {},
   "outputs": [
    {
     "name": "stdout",
     "output_type": "stream",
     "text": [
      "{1, 450, 115, 6, 25, 89, 46}\n"
     ]
    }
   ],
   "source": [
    "print(se1)"
   ]
  },
  {
   "cell_type": "code",
   "execution_count": 77,
   "id": "0064b6bc-a8ad-4a56-b728-6158824a0f4c",
   "metadata": {},
   "outputs": [],
   "source": [
    "se1.add(12) # add an element to set"
   ]
  },
  {
   "cell_type": "code",
   "execution_count": 78,
   "id": "ca96f826-4b58-4e25-8896-b484230d607a",
   "metadata": {},
   "outputs": [
    {
     "data": {
      "text/plain": [
       "{1, 6, 12, 25, 46, 89, 115, 450}"
      ]
     },
     "execution_count": 78,
     "metadata": {},
     "output_type": "execute_result"
    }
   ],
   "source": [
    "se1"
   ]
  },
  {
   "cell_type": "code",
   "execution_count": 79,
   "id": "3d0e398b-be3b-4651-b159-0209cea39885",
   "metadata": {},
   "outputs": [],
   "source": [
    "se1.add(25) #if an element is alreadyb present then it will not affect as duplicates are nit allowed in python"
   ]
  },
  {
   "cell_type": "code",
   "execution_count": 80,
   "id": "6ad7a30d-78a8-4930-b3d9-e598d64c9a69",
   "metadata": {},
   "outputs": [
    {
     "data": {
      "text/plain": [
       "{1, 6, 12, 25, 46, 89, 115, 450}"
      ]
     },
     "execution_count": 80,
     "metadata": {},
     "output_type": "execute_result"
    }
   ],
   "source": [
    "se1"
   ]
  },
  {
   "cell_type": "code",
   "execution_count": 81,
   "id": "d132a86b-c1a6-4528-865a-75f7a0e4621d",
   "metadata": {},
   "outputs": [
    {
     "data": {
      "text/plain": [
       "{1, 6, 12, 25, 46, 89, 115, 450}"
      ]
     },
     "execution_count": 81,
     "metadata": {},
     "output_type": "execute_result"
    }
   ],
   "source": [
    "se1.copy() #return an shallow copy of set"
   ]
  },
  {
   "cell_type": "code",
   "execution_count": 82,
   "id": "f8881fea-b8fb-4360-8157-33d0f8104db0",
   "metadata": {},
   "outputs": [
    {
     "data": {
      "text/plain": [
       "{1, 6, 12, 25, 46, 89, 115, 450}"
      ]
     },
     "execution_count": 82,
     "metadata": {},
     "output_type": "execute_result"
    }
   ],
   "source": [
    "se1"
   ]
  },
  {
   "cell_type": "code",
   "execution_count": 83,
   "id": "5369df49-d2a8-4af3-9995-49fba34417a8",
   "metadata": {},
   "outputs": [
    {
     "data": {
      "text/plain": [
       "1"
      ]
     },
     "execution_count": 83,
     "metadata": {},
     "output_type": "execute_result"
    }
   ],
   "source": [
    "se1.pop() #remove random elements and return"
   ]
  },
  {
   "cell_type": "code",
   "execution_count": 84,
   "id": "fc51ce4f-1e52-4304-bc9e-ab574fd8f689",
   "metadata": {},
   "outputs": [
    {
     "data": {
      "text/plain": [
       "450"
      ]
     },
     "execution_count": 84,
     "metadata": {},
     "output_type": "execute_result"
    }
   ],
   "source": [
    "se1.pop()"
   ]
  },
  {
   "cell_type": "code",
   "execution_count": 85,
   "id": "80f0abda-1c34-4b45-8c08-3664c9f22dea",
   "metadata": {},
   "outputs": [
    {
     "data": {
      "text/plain": [
       "{6, 12, 25, 46, 89, 115}"
      ]
     },
     "execution_count": 85,
     "metadata": {},
     "output_type": "execute_result"
    }
   ],
   "source": [
    "se1"
   ]
  },
  {
   "cell_type": "code",
   "execution_count": 86,
   "id": "df493e61-a080-4746-9d9f-aa5df5926c4e",
   "metadata": {},
   "outputs": [],
   "source": [
    "se1.remove(46) #remove element of the set"
   ]
  },
  {
   "cell_type": "code",
   "execution_count": 87,
   "id": "c1a4b7ad-25a9-47cd-9797-0d433c99d001",
   "metadata": {},
   "outputs": [
    {
     "data": {
      "text/plain": [
       "{6, 12, 25, 89, 115}"
      ]
     },
     "execution_count": 87,
     "metadata": {},
     "output_type": "execute_result"
    }
   ],
   "source": [
    "se1"
   ]
  },
  {
   "cell_type": "code",
   "execution_count": 88,
   "id": "3a56aea8-680c-424b-980b-c60900e033bf",
   "metadata": {},
   "outputs": [
    {
     "ename": "KeyError",
     "evalue": "56",
     "output_type": "error",
     "traceback": [
      "\u001b[1;31m---------------------------------------------------------------------------\u001b[0m",
      "\u001b[1;31mKeyError\u001b[0m                                  Traceback (most recent call last)",
      "Cell \u001b[1;32mIn[88], line 1\u001b[0m\n\u001b[1;32m----> 1\u001b[0m se1\u001b[38;5;241m.\u001b[39mremove(\u001b[38;5;241m56\u001b[39m)\n",
      "\u001b[1;31mKeyError\u001b[0m: 56"
     ]
    }
   ],
   "source": [
    "se1.remove(56) # if it is not the member of the set thenit will create an error"
   ]
  },
  {
   "cell_type": "code",
   "execution_count": 89,
   "id": "fe6823c5-fc42-4255-a8c8-284e36094d7e",
   "metadata": {},
   "outputs": [
    {
     "data": {
      "text/plain": [
       "{6, 12, 25, 89, 115}"
      ]
     },
     "execution_count": 89,
     "metadata": {},
     "output_type": "execute_result"
    }
   ],
   "source": [
    "se1"
   ]
  },
  {
   "cell_type": "code",
   "execution_count": 90,
   "id": "161bbe86-8c61-423e-8c5c-a9cb66a593dc",
   "metadata": {},
   "outputs": [],
   "source": [
    "se1.discard(12) #it will remove an element from the set"
   ]
  },
  {
   "cell_type": "code",
   "execution_count": 91,
   "id": "23b20aa0-511e-468b-8c9b-0d3e6ab3347a",
   "metadata": {},
   "outputs": [
    {
     "data": {
      "text/plain": [
       "{6, 25, 89, 115}"
      ]
     },
     "execution_count": 91,
     "metadata": {},
     "output_type": "execute_result"
    }
   ],
   "source": [
    "se1"
   ]
  },
  {
   "cell_type": "code",
   "execution_count": 92,
   "id": "3af90a57-ed8b-46b2-bb3c-c762b514625f",
   "metadata": {},
   "outputs": [],
   "source": [
    "se1.discard(91) #if element is not present then also it will not give an error"
   ]
  },
  {
   "cell_type": "code",
   "execution_count": 93,
   "id": "1fb9d138-188c-4ce2-a499-caacff21e5c2",
   "metadata": {},
   "outputs": [
    {
     "data": {
      "text/plain": [
       "{6, 25, 89, 115}"
      ]
     },
     "execution_count": 93,
     "metadata": {},
     "output_type": "execute_result"
    }
   ],
   "source": [
    "se1"
   ]
  },
  {
   "cell_type": "code",
   "execution_count": 94,
   "id": "68e05890-c897-4597-b329-7129ea40d08f",
   "metadata": {},
   "outputs": [],
   "source": [
    "a = {1,2,3,4,5}\n",
    "b = {4,5,6,7,8}"
   ]
  },
  {
   "cell_type": "code",
   "execution_count": 95,
   "id": "3e70a49a-b834-47fc-a139-e1f15f30d15b",
   "metadata": {},
   "outputs": [
    {
     "data": {
      "text/plain": [
       "{1, 2, 3, 4, 5, 6, 7, 8}"
      ]
     },
     "execution_count": 95,
     "metadata": {},
     "output_type": "execute_result"
    }
   ],
   "source": [
    "a.union(b) #combine set a and set b"
   ]
  },
  {
   "cell_type": "code",
   "execution_count": 96,
   "id": "b9392a70-7685-4174-9a5f-345b2b2c16da",
   "metadata": {},
   "outputs": [
    {
     "data": {
      "text/plain": [
       "{1, 2, 3, 4, 5, 6, 7, 8}"
      ]
     },
     "execution_count": 96,
     "metadata": {},
     "output_type": "execute_result"
    }
   ],
   "source": [
    "a | b # a pipe b also give union "
   ]
  },
  {
   "cell_type": "code",
   "execution_count": 97,
   "id": "2896782f-4242-4d70-a556-3620877b1d68",
   "metadata": {},
   "outputs": [
    {
     "data": {
      "text/plain": [
       "{4, 5}"
      ]
     },
     "execution_count": 97,
     "metadata": {},
     "output_type": "execute_result"
    }
   ],
   "source": [
    "a.intersection(b) #returns common elements of "
   ]
  },
  {
   "cell_type": "code",
   "execution_count": 98,
   "id": "e855ec72-8a8f-4ecc-a99a-66aa07faaa73",
   "metadata": {},
   "outputs": [
    {
     "data": {
      "text/plain": [
       "{4, 5}"
      ]
     },
     "execution_count": 98,
     "metadata": {},
     "output_type": "execute_result"
    }
   ],
   "source": [
    "a & b # a and b gives intersection"
   ]
  },
  {
   "cell_type": "code",
   "execution_count": 99,
   "id": "731a7926-6d01-48e5-84fe-37f75da95ad6",
   "metadata": {},
   "outputs": [
    {
     "data": {
      "text/plain": [
       "{1, 2, 3}"
      ]
     },
     "execution_count": 99,
     "metadata": {},
     "output_type": "execute_result"
    }
   ],
   "source": [
    "a.difference(b) #remove all the elments from a which are present in b"
   ]
  },
  {
   "cell_type": "code",
   "execution_count": 100,
   "id": "7b76fd73-45b3-42f5-be76-36bae5bae560",
   "metadata": {},
   "outputs": [
    {
     "data": {
      "text/plain": [
       "{1, 2, 3}"
      ]
     },
     "execution_count": 100,
     "metadata": {},
     "output_type": "execute_result"
    }
   ],
   "source": [
    "a - b #Another method for difference"
   ]
  },
  {
   "cell_type": "code",
   "execution_count": 101,
   "id": "57aa2bbc-724e-4508-b203-61e3fab9c622",
   "metadata": {},
   "outputs": [],
   "source": [
    "a.difference_update(b) #remove all the elements present in other set"
   ]
  },
  {
   "cell_type": "code",
   "execution_count": 102,
   "id": "d38d7045-d65d-4af7-8f8e-0a6ecdb1ec0a",
   "metadata": {},
   "outputs": [
    {
     "data": {
      "text/plain": [
       "{1, 2, 3}"
      ]
     },
     "execution_count": 102,
     "metadata": {},
     "output_type": "execute_result"
    }
   ],
   "source": [
    "a"
   ]
  },
  {
   "cell_type": "code",
   "execution_count": 105,
   "id": "ddf1d3ab-13f4-4018-87b2-f85457d3c003",
   "metadata": {},
   "outputs": [
    {
     "name": "stdout",
     "output_type": "stream",
     "text": [
      "{1, 2, 3}\n",
      "{4, 5, 6, 7, 8}\n"
     ]
    }
   ],
   "source": [
    "print(a)\n",
    "print(b)"
   ]
  },
  {
   "cell_type": "code",
   "execution_count": 107,
   "id": "1d9c15d1-3c00-4ba6-a597-275d4596ab0c",
   "metadata": {},
   "outputs": [],
   "source": [
    "a.add(4)"
   ]
  },
  {
   "cell_type": "code",
   "execution_count": 109,
   "id": "3edaf63d-d099-4f27-acc0-5e6121b18163",
   "metadata": {},
   "outputs": [],
   "source": [
    "a.add(5)"
   ]
  },
  {
   "cell_type": "code",
   "execution_count": 110,
   "id": "0e6a50e2-1992-4d35-8b04-ec2fad27ccf1",
   "metadata": {},
   "outputs": [
    {
     "name": "stdout",
     "output_type": "stream",
     "text": [
      "{1, 2, 3, 4, 5}\n",
      "{4, 5, 6, 7, 8}\n"
     ]
    }
   ],
   "source": [
    "print(a)\n",
    "print(b)"
   ]
  },
  {
   "cell_type": "code",
   "execution_count": 112,
   "id": "8145d536-d1d9-41f9-a672-5febfdab68c1",
   "metadata": {},
   "outputs": [
    {
     "data": {
      "text/plain": [
       "{1, 2, 3, 6, 7, 8}"
      ]
     },
     "execution_count": 112,
     "metadata": {},
     "output_type": "execute_result"
    }
   ],
   "source": [
    "a.symmetric_difference(b) #remove all the comman elements and return the both set in one"
   ]
  },
  {
   "cell_type": "code",
   "execution_count": 114,
   "id": "bd0bbb43-d4de-4c80-aa35-daaf2c74c95b",
   "metadata": {},
   "outputs": [
    {
     "data": {
      "text/plain": [
       "{1, 2, 3, 6, 7, 8}"
      ]
     },
     "execution_count": 114,
     "metadata": {},
     "output_type": "execute_result"
    }
   ],
   "source": [
    "a ^ b #Another method for symmetric difference"
   ]
  },
  {
   "cell_type": "code",
   "execution_count": 125,
   "id": "eb94c3f9-0da9-4fbf-829c-002f09b93de8",
   "metadata": {},
   "outputs": [],
   "source": [
    "a = {1,2,3,4,5}\n",
    "b = {4,5,6,7,8}"
   ]
  },
  {
   "cell_type": "code",
   "execution_count": 128,
   "id": "b4227325-7f6b-4152-96c6-bfcdbc45cc97",
   "metadata": {},
   "outputs": [],
   "source": [
    "a.symmetric_difference_update(b)"
   ]
  },
  {
   "cell_type": "code",
   "execution_count": 129,
   "id": "6783e7eb-b21a-4821-9fa0-11cc751eba70",
   "metadata": {},
   "outputs": [
    {
     "data": {
      "text/plain": [
       "{1, 2, 3, 4, 5, 6, 7, 8}"
      ]
     },
     "execution_count": 129,
     "metadata": {},
     "output_type": "execute_result"
    }
   ],
   "source": [
    "a"
   ]
  }
 ],
 "metadata": {
  "kernelspec": {
   "display_name": "Python [conda env:base] *",
   "language": "python",
   "name": "conda-base-py"
  },
  "language_info": {
   "codemirror_mode": {
    "name": "ipython",
    "version": 3
   },
   "file_extension": ".py",
   "mimetype": "text/x-python",
   "name": "python",
   "nbconvert_exporter": "python",
   "pygments_lexer": "ipython3",
   "version": "3.13.5"
  }
 },
 "nbformat": 4,
 "nbformat_minor": 5
}
