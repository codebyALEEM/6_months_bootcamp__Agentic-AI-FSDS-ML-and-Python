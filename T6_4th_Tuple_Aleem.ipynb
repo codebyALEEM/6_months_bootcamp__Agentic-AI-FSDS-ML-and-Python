{
 "cells": [
  {
   "cell_type": "markdown",
   "id": "3836cb7c-7957-4f97-9b97-352f479b7695",
   "metadata": {},
   "source": [
    "TUPLE Creation"
   ]
  },
  {
   "cell_type": "code",
   "execution_count": 53,
   "id": "76ec6e75-3909-451d-8255-78d18d1d5622",
   "metadata": {},
   "outputs": [],
   "source": [
    "tup1=() #Emoty tuple"
   ]
  },
  {
   "cell_type": "code",
   "execution_count": 54,
   "id": "dfef6b85-066a-417e-b90f-f445c20cfb53",
   "metadata": {},
   "outputs": [],
   "source": [
    "tup2=(10,20,30) #tuple of integers"
   ]
  },
  {
   "cell_type": "code",
   "execution_count": 55,
   "id": "744ffd85-f4d9-4f7b-8453-5049dcca8f64",
   "metadata": {},
   "outputs": [],
   "source": [
    "tup3=(2.3,5.6,7.8) #tuple of float"
   ]
  },
  {
   "cell_type": "code",
   "execution_count": 56,
   "id": "39a1f070-ebdd-407c-a665-b67a88cdc464",
   "metadata": {},
   "outputs": [],
   "source": [
    "tup4=('one','two','three') #tuple of string"
   ]
  },
  {
   "cell_type": "code",
   "execution_count": 57,
   "id": "6039bd98-0ba2-446d-879d-73a12524a64a",
   "metadata": {},
   "outputs": [],
   "source": [
    "tup5=(25,'python',(2,6),(2.3,5.9)) #nested tuple"
   ]
  },
  {
   "cell_type": "code",
   "execution_count": 58,
   "id": "fd862576-5e22-4ae8-8ec0-2a74c59c9b58",
   "metadata": {},
   "outputs": [],
   "source": [
    "tup6=(1,2.6,'python',1+5J,True) #tuple of mixed datatype"
   ]
  },
  {
   "cell_type": "code",
   "execution_count": 59,
   "id": "5ca961e4-632d-4eed-9465-a96521534977",
   "metadata": {},
   "outputs": [],
   "source": [
    "tup7=('python',72,[1,2],[4.8,8.9,65],{1,5,9},(1,'one'))"
   ]
  },
  {
   "cell_type": "code",
   "execution_count": 60,
   "id": "59d75934-8e64-4acf-82a0-f3cde9ec5ab4",
   "metadata": {},
   "outputs": [
    {
     "data": {
      "text/plain": [
       "6"
      ]
     },
     "execution_count": 60,
     "metadata": {},
     "output_type": "execute_result"
    }
   ],
   "source": [
    "len(tup7)"
   ]
  },
  {
   "cell_type": "markdown",
   "id": "18fb5456-c7d7-40df-9fee-ad603b93fa0b",
   "metadata": {},
   "source": [
    "TUPLE Indexing"
   ]
  },
  {
   "cell_type": "code",
   "execution_count": 61,
   "id": "1acb9489-4b00-4418-a3cb-52d26b197754",
   "metadata": {},
   "outputs": [
    {
     "data": {
      "text/plain": [
       "10"
      ]
     },
     "execution_count": 61,
     "metadata": {},
     "output_type": "execute_result"
    }
   ],
   "source": [
    "tup2[0]"
   ]
  },
  {
   "cell_type": "code",
   "execution_count": 62,
   "id": "1809f0e1-be1b-40ac-871c-28cac48d6b6a",
   "metadata": {},
   "outputs": [
    {
     "data": {
      "text/plain": [
       "'one'"
      ]
     },
     "execution_count": 62,
     "metadata": {},
     "output_type": "execute_result"
    }
   ],
   "source": [
    "tup4[0]"
   ]
  },
  {
   "cell_type": "code",
   "execution_count": 63,
   "id": "a6c9015d-34a2-448e-915e-e57630ce3cd6",
   "metadata": {},
   "outputs": [
    {
     "data": {
      "text/plain": [
       "'o'"
      ]
     },
     "execution_count": 63,
     "metadata": {},
     "output_type": "execute_result"
    }
   ],
   "source": [
    "tup4[0][0]"
   ]
  },
  {
   "cell_type": "code",
   "execution_count": 64,
   "id": "0f64a3d9-feac-43d2-8833-4c45031c2af7",
   "metadata": {},
   "outputs": [
    {
     "data": {
      "text/plain": [
       "1"
      ]
     },
     "execution_count": 64,
     "metadata": {},
     "output_type": "execute_result"
    }
   ],
   "source": [
    "tup7[2][0]"
   ]
  },
  {
   "cell_type": "code",
   "execution_count": 65,
   "id": "a5e04dba-e449-457c-817c-46e03f6002b7",
   "metadata": {},
   "outputs": [
    {
     "data": {
      "text/plain": [
       "'three'"
      ]
     },
     "execution_count": 65,
     "metadata": {},
     "output_type": "execute_result"
    }
   ],
   "source": [
    "tup4[-1]"
   ]
  },
  {
   "cell_type": "code",
   "execution_count": 66,
   "id": "2c6ae798-8ea4-4a7b-a864-fd76110cbcd5",
   "metadata": {},
   "outputs": [
    {
     "data": {
      "text/plain": [
       "'e'"
      ]
     },
     "execution_count": 66,
     "metadata": {},
     "output_type": "execute_result"
    }
   ],
   "source": [
    "tup4[-1][-1]"
   ]
  },
  {
   "cell_type": "markdown",
   "id": "b3f0b810-5e18-4270-beaa-638f86017572",
   "metadata": {},
   "source": [
    "TUPLE Slicing"
   ]
  },
  {
   "cell_type": "code",
   "execution_count": 67,
   "id": "bd027d1c-8e9e-43f6-a500-9f4ff501ee43",
   "metadata": {},
   "outputs": [
    {
     "data": {
      "text/plain": [
       "('python', 72, [1, 2], [4.8, 8.9, 65], {1, 5, 9}, (1, 'one'))"
      ]
     },
     "execution_count": 67,
     "metadata": {},
     "output_type": "execute_result"
    }
   ],
   "source": [
    "tup7[:]"
   ]
  },
  {
   "cell_type": "code",
   "execution_count": 68,
   "id": "f7af8e25-4e22-4037-bb5c-3f2b63789fe2",
   "metadata": {},
   "outputs": [
    {
     "data": {
      "text/plain": [
       "('python', 72, [1, 2])"
      ]
     },
     "execution_count": 68,
     "metadata": {},
     "output_type": "execute_result"
    }
   ],
   "source": [
    "tup7[:3]"
   ]
  },
  {
   "cell_type": "code",
   "execution_count": 69,
   "id": "5b469cd0-d6f8-4c23-ba6e-0764057448c7",
   "metadata": {},
   "outputs": [
    {
     "data": {
      "text/plain": [
       "('python', 72, [1, 2], [4.8, 8.9, 65], {1, 5, 9}, (1, 'one'))"
      ]
     },
     "execution_count": 69,
     "metadata": {},
     "output_type": "execute_result"
    }
   ],
   "source": [
    "tup7[0:]"
   ]
  },
  {
   "cell_type": "code",
   "execution_count": 70,
   "id": "849a7dac-66d9-4e17-b6f3-ec503daea29a",
   "metadata": {},
   "outputs": [
    {
     "data": {
      "text/plain": [
       "('python', 72, [1, 2], [4.8, 8.9, 65], {1, 5, 9}, (1, 'one'))"
      ]
     },
     "execution_count": 70,
     "metadata": {},
     "output_type": "execute_result"
    }
   ],
   "source": [
    "tup7[:6]"
   ]
  },
  {
   "cell_type": "code",
   "execution_count": 71,
   "id": "d8640e07-888e-49a8-9941-b690ba55b20a",
   "metadata": {},
   "outputs": [
    {
     "data": {
      "text/plain": [
       "([1, 2], [4.8, 8.9, 65], {1, 5, 9})"
      ]
     },
     "execution_count": 71,
     "metadata": {},
     "output_type": "execute_result"
    }
   ],
   "source": [
    "tup7[2:5]"
   ]
  },
  {
   "cell_type": "code",
   "execution_count": 72,
   "id": "94608a69-dac8-43f5-84c4-82fe8ed729d9",
   "metadata": {},
   "outputs": [
    {
     "data": {
      "text/plain": [
       "(1, 'one')"
      ]
     },
     "execution_count": 72,
     "metadata": {},
     "output_type": "execute_result"
    }
   ],
   "source": [
    "tup7[-1] #nrgative indexing"
   ]
  },
  {
   "cell_type": "code",
   "execution_count": 73,
   "id": "5328abed-1347-4dd8-a090-cebdca63213a",
   "metadata": {},
   "outputs": [
    {
     "data": {
      "text/plain": [
       "([4.8, 8.9, 65], {1, 5, 9}, (1, 'one'))"
      ]
     },
     "execution_count": 73,
     "metadata": {},
     "output_type": "execute_result"
    }
   ],
   "source": [
    "tup7[-3:]"
   ]
  },
  {
   "cell_type": "code",
   "execution_count": 74,
   "id": "e8142c1b-c3a8-4f37-b49d-7908190ddc67",
   "metadata": {},
   "outputs": [
    {
     "data": {
      "text/plain": [
       "([1, 2], [4.8, 8.9, 65])"
      ]
     },
     "execution_count": 74,
     "metadata": {},
     "output_type": "execute_result"
    }
   ],
   "source": [
    "tup7[-4:-2]"
   ]
  },
  {
   "cell_type": "markdown",
   "id": "e5b2ef50-2832-453e-a5fa-7b3c5381be6d",
   "metadata": {},
   "source": [
    "REMOVE and Change item"
   ]
  },
  {
   "cell_type": "code",
   "execution_count": 75,
   "id": "87f015ff-0eae-4377-afb1-492b0092c125",
   "metadata": {},
   "outputs": [],
   "source": [
    "mytup=('one','two','three','four','five','six','seven','eight')"
   ]
  },
  {
   "cell_type": "code",
   "execution_count": 76,
   "id": "6298343d-794a-43fe-9f62-d4a3c20491d4",
   "metadata": {},
   "outputs": [
    {
     "ename": "TypeError",
     "evalue": "'tuple' object doesn't support item deletion",
     "output_type": "error",
     "traceback": [
      "\u001b[1;31m---------------------------------------------------------------------------\u001b[0m",
      "\u001b[1;31mTypeError\u001b[0m                                 Traceback (most recent call last)",
      "Cell \u001b[1;32mIn[76], line 1\u001b[0m\n\u001b[1;32m----> 1\u001b[0m \u001b[38;5;28;01mdel\u001b[39;00m mytup[\u001b[38;5;241m0\u001b[39m]\n",
      "\u001b[1;31mTypeError\u001b[0m: 'tuple' object doesn't support item deletion"
     ]
    }
   ],
   "source": [
    "del mytup[0] #tuple is immutable which means it can't delete tuple item"
   ]
  },
  {
   "cell_type": "code",
   "execution_count": null,
   "id": "2c30a4ca-394d-459e-ae47-6817139a2dd6",
   "metadata": {},
   "outputs": [],
   "source": [
    "mytup[0]=1 #we can't change tuple item (immutable)"
   ]
  },
  {
   "cell_type": "code",
   "execution_count": null,
   "id": "13ead770-555e-4433-bff3-b052fc21af44",
   "metadata": {},
   "outputs": [],
   "source": [
    "del mytup #deleting entire tuple item is possible"
   ]
  },
  {
   "cell_type": "markdown",
   "id": "72129bce-8d42-4a04-984c-fc85e9c28568",
   "metadata": {},
   "source": [
    "LOOP through a tuple"
   ]
  },
  {
   "cell_type": "code",
   "execution_count": null,
   "id": "744aff1f-eabc-4ea1-b035-e66e6827dc3a",
   "metadata": {},
   "outputs": [],
   "source": [
    "mytup=('one','two','three','four','five','six','seven','eight')"
   ]
  },
  {
   "cell_type": "code",
   "execution_count": 78,
   "id": "b8c06915-23ba-4be7-9416-1bd68ffa948c",
   "metadata": {},
   "outputs": [
    {
     "name": "stdout",
     "output_type": "stream",
     "text": [
      "one\n",
      "two\n",
      "three\n",
      "four\n",
      "five\n",
      "six\n",
      "seven\n",
      "eight\n"
     ]
    }
   ],
   "source": [
    "for i in mytup:\n",
    "    print(i)"
   ]
  },
  {
   "cell_type": "code",
   "execution_count": 80,
   "id": "29aaf19b-b52f-4170-9b67-ec2abce65c7f",
   "metadata": {},
   "outputs": [
    {
     "name": "stdout",
     "output_type": "stream",
     "text": [
      "(0, 'one')\n",
      "(1, 'two')\n",
      "(2, 'three')\n",
      "(3, 'four')\n",
      "(4, 'five')\n",
      "(5, 'six')\n",
      "(6, 'seven')\n",
      "(7, 'eight')\n"
     ]
    }
   ],
   "source": [
    "for i in enumerate(mytup):\n",
    "    print(i)"
   ]
  },
  {
   "cell_type": "markdown",
   "id": "5610f6c7-dfb3-4bbf-b639-7b32dbc1ed8f",
   "metadata": {},
   "source": [
    "TUPLE membership"
   ]
  },
  {
   "cell_type": "code",
   "execution_count": 81,
   "id": "2f402b5b-5132-49fc-acf4-8d7824730a77",
   "metadata": {},
   "outputs": [
    {
     "data": {
      "text/plain": [
       "('one', 'two', 'three', 'four', 'five', 'six', 'seven', 'eight')"
      ]
     },
     "execution_count": 81,
     "metadata": {},
     "output_type": "execute_result"
    }
   ],
   "source": [
    "mytup"
   ]
  },
  {
   "cell_type": "code",
   "execution_count": 82,
   "id": "03d2eaef-3815-40d2-bf0e-14417fb60b54",
   "metadata": {},
   "outputs": [
    {
     "data": {
      "text/plain": [
       "True"
      ]
     },
     "execution_count": 82,
     "metadata": {},
     "output_type": "execute_result"
    }
   ],
   "source": [
    "'one' in mytup "
   ]
  },
  {
   "cell_type": "code",
   "execution_count": 83,
   "id": "a5d606b6-3d7f-43d1-9cd0-58e3478417be",
   "metadata": {},
   "outputs": [
    {
     "data": {
      "text/plain": [
       "False"
      ]
     },
     "execution_count": 83,
     "metadata": {},
     "output_type": "execute_result"
    }
   ],
   "source": [
    "1 in mytup"
   ]
  },
  {
   "cell_type": "code",
   "execution_count": 84,
   "id": "195d80b6-e519-4cf7-854f-d0d9b1cf1cd6",
   "metadata": {},
   "outputs": [
    {
     "data": {
      "text/plain": [
       "True"
      ]
     },
     "execution_count": 84,
     "metadata": {},
     "output_type": "execute_result"
    }
   ],
   "source": [
    "'six' in mytup"
   ]
  },
  {
   "cell_type": "code",
   "execution_count": 87,
   "id": "27ef13a4-4ffd-466b-b059-e12975f4b1d7",
   "metadata": {},
   "outputs": [
    {
     "name": "stdout",
     "output_type": "stream",
     "text": [
      "one is present\n"
     ]
    }
   ],
   "source": [
    "if 'two' in mytup:\n",
    "    print('one is present')\n",
    "else:\n",
    "    print('one is not present')"
   ]
  },
  {
   "cell_type": "code",
   "execution_count": 89,
   "id": "f3d94234-f424-4e6a-806a-4b3ad0d9ad73",
   "metadata": {},
   "outputs": [
    {
     "name": "stdout",
     "output_type": "stream",
     "text": [
      "ten is not present\n"
     ]
    }
   ],
   "source": [
    "if 'ten' in mytup:\n",
    "    print('ten is present')\n",
    "else:\n",
    "    print('ten is not present')"
   ]
  },
  {
   "cell_type": "markdown",
   "id": "012c8268-463c-4ed0-9466-e76857bf869d",
   "metadata": {},
   "source": [
    "INDEX position"
   ]
  },
  {
   "cell_type": "code",
   "execution_count": 90,
   "id": "0805f4df-d1b0-4214-9945-cce0c1e3b89f",
   "metadata": {},
   "outputs": [
    {
     "data": {
      "text/plain": [
       "('one', 'two', 'three', 'four', 'five', 'six', 'seven', 'eight')"
      ]
     },
     "execution_count": 90,
     "metadata": {},
     "output_type": "execute_result"
    }
   ],
   "source": [
    "mytup"
   ]
  },
  {
   "cell_type": "code",
   "execution_count": 91,
   "id": "a2f95f95-8b26-4e21-b01b-3f9f630267ed",
   "metadata": {},
   "outputs": [
    {
     "data": {
      "text/plain": [
       "2"
      ]
     },
     "execution_count": 91,
     "metadata": {},
     "output_type": "execute_result"
    }
   ],
   "source": [
    "mytup.index('three')"
   ]
  },
  {
   "cell_type": "code",
   "execution_count": 93,
   "id": "26f50bbe-e41a-4058-bf4f-1afeac790ec8",
   "metadata": {},
   "outputs": [
    {
     "data": {
      "text/plain": [
       "6"
      ]
     },
     "execution_count": 93,
     "metadata": {},
     "output_type": "execute_result"
    }
   ],
   "source": [
    "mytup.index('seven',0,-1)"
   ]
  },
  {
   "cell_type": "code",
   "execution_count": 95,
   "id": "8d6494b7-7dbe-4046-ae96-be36718378fe",
   "metadata": {},
   "outputs": [
    {
     "data": {
      "text/plain": [
       "6"
      ]
     },
     "execution_count": 95,
     "metadata": {},
     "output_type": "execute_result"
    }
   ],
   "source": [
    "mytup.index('seven',3,7)"
   ]
  },
  {
   "cell_type": "code",
   "execution_count": 96,
   "id": "93fe96aa-7b3b-402f-9dda-c312ee5f2bfc",
   "metadata": {},
   "outputs": [
    {
     "data": {
      "text/plain": [
       "1"
      ]
     },
     "execution_count": 96,
     "metadata": {},
     "output_type": "execute_result"
    }
   ],
   "source": [
    "mytup.count('one')"
   ]
  },
  {
   "cell_type": "code",
   "execution_count": 97,
   "id": "a8d4c13d-625a-4fe5-a8fd-2ead053180d4",
   "metadata": {},
   "outputs": [],
   "source": [
    "mytup1=(1,2,3,1,8,1)"
   ]
  },
  {
   "cell_type": "code",
   "execution_count": 98,
   "id": "c58a716c-4deb-40f8-9a3b-fb383af5f7fd",
   "metadata": {},
   "outputs": [
    {
     "data": {
      "text/plain": [
       "3"
      ]
     },
     "execution_count": 98,
     "metadata": {},
     "output_type": "execute_result"
    }
   ],
   "source": [
    "mytup1.count(1)"
   ]
  },
  {
   "cell_type": "markdown",
   "id": "9112b443-3c81-42d1-b42a-c85b69b90c9c",
   "metadata": {},
   "source": [
    "SORTING"
   ]
  },
  {
   "cell_type": "code",
   "execution_count": 100,
   "id": "81d1b865-7e39-4578-905f-40d481efd5c3",
   "metadata": {},
   "outputs": [
    {
     "data": {
      "text/plain": [
       "(1, 2, 3, 1, 8, 1)"
      ]
     },
     "execution_count": 100,
     "metadata": {},
     "output_type": "execute_result"
    }
   ],
   "source": [
    "mytup1"
   ]
  },
  {
   "cell_type": "code",
   "execution_count": 101,
   "id": "86cd880d-4d01-4469-bb8a-5188274965bd",
   "metadata": {},
   "outputs": [
    {
     "data": {
      "text/plain": [
       "[1, 1, 1, 2, 3, 8]"
      ]
     },
     "execution_count": 101,
     "metadata": {},
     "output_type": "execute_result"
    }
   ],
   "source": [
    "sorted(mytup1) #returns a new sorted list and doesnt change the original value"
   ]
  },
  {
   "cell_type": "code",
   "execution_count": 102,
   "id": "40736ef3-c582-44f6-a6ac-352d34d32bef",
   "metadata": {},
   "outputs": [
    {
     "data": {
      "text/plain": [
       "[8, 3, 2, 1, 1, 1]"
      ]
     },
     "execution_count": 102,
     "metadata": {},
     "output_type": "execute_result"
    }
   ],
   "source": [
    "sorted(mytup1,reverse=True)  #soeted in descending order "
   ]
  },
  {
   "cell_type": "code",
   "execution_count": 103,
   "id": "d31c5be4-d476-4302-9883-5074a8aac221",
   "metadata": {},
   "outputs": [],
   "source": [
    "s1=('one','two','three')"
   ]
  },
  {
   "cell_type": "code",
   "execution_count": 104,
   "id": "39fe25b0-4d27-4437-81e6-6534a3c057ef",
   "metadata": {},
   "outputs": [
    {
     "data": {
      "text/plain": [
       "['one', 'three', 'two']"
      ]
     },
     "execution_count": 104,
     "metadata": {},
     "output_type": "execute_result"
    }
   ],
   "source": [
    "sorted(s1)"
   ]
  },
  {
   "cell_type": "code",
   "execution_count": 105,
   "id": "8dd5932c-dce7-4824-9a6c-6cef71dcda46",
   "metadata": {},
   "outputs": [],
   "source": [
    "s2=(1,2,3,'one','two')"
   ]
  },
  {
   "cell_type": "code",
   "execution_count": 107,
   "id": "fc3614e8-14ca-4ba0-9051-e6575d81bb63",
   "metadata": {},
   "outputs": [
    {
     "ename": "TypeError",
     "evalue": "'<' not supported between instances of 'str' and 'int'",
     "output_type": "error",
     "traceback": [
      "\u001b[1;31m---------------------------------------------------------------------------\u001b[0m",
      "\u001b[1;31mTypeError\u001b[0m                                 Traceback (most recent call last)",
      "Cell \u001b[1;32mIn[107], line 1\u001b[0m\n\u001b[1;32m----> 1\u001b[0m \u001b[38;5;28msorted\u001b[39m(s2)\n",
      "\u001b[1;31mTypeError\u001b[0m: '<' not supported between instances of 'str' and 'int'"
     ]
    }
   ],
   "source": [
    "sorted(s2) #sorting can not be done on different data types"
   ]
  },
  {
   "cell_type": "code",
   "execution_count": 108,
   "id": "549d829b-f502-46dc-9948-038e0fab6d98",
   "metadata": {},
   "outputs": [
    {
     "data": {
      "text/plain": [
       "['two', 'three', 'one']"
      ]
     },
     "execution_count": 108,
     "metadata": {},
     "output_type": "execute_result"
    }
   ],
   "source": [
    "sorted(s1,reverse=True)"
   ]
  },
  {
   "cell_type": "code",
   "execution_count": 109,
   "id": "b5e446a5-c530-432d-94c5-adcf6e18e595",
   "metadata": {},
   "outputs": [],
   "source": [
    "s3=('apple','cmf','electronic','blackberry','duplicate')"
   ]
  },
  {
   "cell_type": "code",
   "execution_count": 110,
   "id": "5591aef7-d25b-4cc4-8afa-c463e7a896e3",
   "metadata": {},
   "outputs": [
    {
     "data": {
      "text/plain": [
       "tuple"
      ]
     },
     "execution_count": 110,
     "metadata": {},
     "output_type": "execute_result"
    }
   ],
   "source": [
    "type(s3)"
   ]
  },
  {
   "cell_type": "code",
   "execution_count": 111,
   "id": "3bbce2e5-a204-42c0-83a6-802643358ec7",
   "metadata": {},
   "outputs": [
    {
     "data": {
      "text/plain": [
       "5"
      ]
     },
     "execution_count": 111,
     "metadata": {},
     "output_type": "execute_result"
    }
   ],
   "source": [
    "len(s3)"
   ]
  },
  {
   "cell_type": "code",
   "execution_count": 112,
   "id": "c03b5077-f4bd-4578-a1e7-a951252f9a2e",
   "metadata": {},
   "outputs": [
    {
     "data": {
      "text/plain": [
       "['apple', 'blackberry', 'cmf', 'duplicate', 'electronic']"
      ]
     },
     "execution_count": 112,
     "metadata": {},
     "output_type": "execute_result"
    }
   ],
   "source": [
    "sorted(s3)"
   ]
  },
  {
   "cell_type": "code",
   "execution_count": 113,
   "id": "f94ec287-52b0-4592-ab4e-cb20d9727052",
   "metadata": {},
   "outputs": [
    {
     "data": {
      "text/plain": [
       "['electronic', 'duplicate', 'cmf', 'blackberry', 'apple']"
      ]
     },
     "execution_count": 113,
     "metadata": {},
     "output_type": "execute_result"
    }
   ],
   "source": [
    "sorted(s3,reverse=True)"
   ]
  }
 ],
 "metadata": {
  "kernelspec": {
   "display_name": "Python [conda env:base] *",
   "language": "python",
   "name": "conda-base-py"
  },
  "language_info": {
   "codemirror_mode": {
    "name": "ipython",
    "version": 3
   },
   "file_extension": ".py",
   "mimetype": "text/x-python",
   "name": "python",
   "nbconvert_exporter": "python",
   "pygments_lexer": "ipython3",
   "version": "3.13.5"
  }
 },
 "nbformat": 4,
 "nbformat_minor": 5
}
