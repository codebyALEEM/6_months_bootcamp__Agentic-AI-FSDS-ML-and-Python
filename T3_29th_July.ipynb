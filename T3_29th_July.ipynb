{
 "cells": [
  {
   "cell_type": "markdown",
   "id": "6716beb2-d4b9-44bb-9e0c-c4ebcf65bd83",
   "metadata": {},
   "source": [
    "29th july"
   ]
  },
  {
   "cell_type": "markdown",
   "id": "24894f6e-d567-4424-bc1b-29a3444581b1",
   "metadata": {},
   "source": [
    "STRING"
   ]
  },
  {
   "cell_type": "code",
   "execution_count": 3,
   "id": "160e3dd5-2314-45bb-b63c-e9f88e45f602",
   "metadata": {},
   "outputs": [
    {
     "name": "stdout",
     "output_type": "stream",
     "text": [
      "P\n",
      "1\n",
      "hello, World!\n",
      "13\n",
      "I hope you are enjoying 30days of python challenge\n"
     ]
    }
   ],
   "source": [
    "#Sinle line comment\n",
    "\n",
    "letter = 'P' #A string can be asingle letter or a bunch of text\n",
    "print(letter)\n",
    "print(len(letter))\n",
    "greeting = 'hello, World!'#string can be a sinngle or double quotes \"hello world\"\n",
    "print(greeting)\n",
    "print(len(greeting))\n",
    "sentence = \"I hope you are enjoying 30days of python challenge\"\n",
    "print(sentence)\n"
   ]
  },
  {
   "cell_type": "code",
   "execution_count": 4,
   "id": "61560123-6837-491f-a815-e2776529af4c",
   "metadata": {},
   "outputs": [
    {
     "name": "stdout",
     "output_type": "stream",
     "text": [
      "I am learning python programming .\n",
      "It is a dynamic programming language , easy to use ,open source,\n",
      "and it interpret its code line by line .\n"
     ]
    }
   ],
   "source": [
    "#Multiline string\n",
    "\n",
    "multiline_string = '''I am learning python programming .\n",
    "It is a dynamic programming language , easy to use ,open source,\n",
    "and it interpret its code line by line .'''\n",
    "print(multiline_string)"
   ]
  },
  {
   "cell_type": "code",
   "execution_count": 5,
   "id": "68873f40-f2f4-4f5e-9d1e-f3c9c5d8c415",
   "metadata": {},
   "outputs": [
    {
     "name": "stdout",
     "output_type": "stream",
     "text": [
      "I am learning python programming .\n",
      "It is a dynamic programming language , easy to use ,open source,\n",
      "and it interpret its code line by line .\n"
     ]
    }
   ],
   "source": [
    "#Another way of multiline string\n",
    "multiline_string = \"\"\"I am learning python programming .\n",
    "It is a dynamic programming language , easy to use ,open source,\n",
    "and it interpret its code line by line .\"\"\"\n",
    "print(multiline_string)"
   ]
  },
  {
   "cell_type": "code",
   "execution_count": 6,
   "id": "084fb844-ac34-4b61-9c84-e5d54cf75a9f",
   "metadata": {},
   "outputs": [
    {
     "name": "stdout",
     "output_type": "stream",
     "text": [
      "Aleem Shaikh\n",
      "5\n",
      "6\n",
      "1\n",
      "12\n",
      "False\n"
     ]
    }
   ],
   "source": [
    "#String concatination\n",
    "\n",
    "first_name = 'Aleem'\n",
    "last_name = 'Shaikh'\n",
    "space = ' '\n",
    "full_name = first_name + space + last_name\n",
    "print(full_name)\n",
    "#checking the length of string\n",
    "print(len(first_name))\n",
    "print(len(last_name))\n",
    "print(len(space))\n",
    "print(len(full_name))\n",
    "print(len(first_name) > len(last_name))\n",
    "      "
   ]
  },
  {
   "cell_type": "code",
   "execution_count": 10,
   "id": "b01e2fae-ddd7-49cb-ae96-766936c20654",
   "metadata": {},
   "outputs": [
    {
     "name": "stdout",
     "output_type": "stream",
     "text": [
      "P\n",
      "y\n",
      "t\n",
      "h\n",
      "o\n",
      "n\n"
     ]
    }
   ],
   "source": [
    "#Unpacking characters\n",
    "language = 'Python'\n",
    "a,b,c,d,e,f = language\n",
    "print(a)\n",
    "print(b)\n",
    "print(c)\n",
    "print(d)\n",
    "print(e)\n",
    "print(f)"
   ]
  },
  {
   "cell_type": "code",
   "execution_count": 14,
   "id": "8ffa8502-8614-43e2-9d40-28b38e2c5ff7",
   "metadata": {},
   "outputs": [
    {
     "name": "stdout",
     "output_type": "stream",
     "text": [
      "P\n",
      "y\n",
      "n\n"
     ]
    }
   ],
   "source": [
    "#Accessing charcters in string by index\n",
    "language = 'Python'\n",
    "first_letter = language[0]\n",
    "print(first_letter)\n",
    "second_letter = language[1]\n",
    "print(second_letter)\n",
    "last_index=len(language) - 1\n",
    "last_letter=language[last_index]\n",
    "print(last_letter)"
   ]
  },
  {
   "cell_type": "code",
   "execution_count": 15,
   "id": "59b364bf-fb95-420b-b97e-9340da6062c3",
   "metadata": {},
   "outputs": [
    {
     "name": "stdout",
     "output_type": "stream",
     "text": [
      "n\n",
      "o\n"
     ]
    }
   ],
   "source": [
    "#If we want to start fron right side then we can use negative indexing, -1 is the last index\n",
    "language = 'Python'\n",
    "last_letter = language[-1]\n",
    "print(last_letter)\n",
    "second_last = language[-2]\n",
    "print(second_last)\n"
   ]
  },
  {
   "cell_type": "code",
   "execution_count": 16,
   "id": "4dc66652-e310-4e5a-a436-bb7d68e71774",
   "metadata": {},
   "outputs": [
    {
     "name": "stdout",
     "output_type": "stream",
     "text": [
      "Pyt\n",
      "hon\n",
      "hon\n",
      "hon\n"
     ]
    }
   ],
   "source": [
    "#Slicing\n",
    "\n",
    "language ='Python'\n",
    "first_three = language[0:3]\n",
    "print(first_three)\n",
    "last_three = language[3:]\n",
    "print(last_three)\n",
    "#Another way\n",
    "last_three = language[-3:]\n",
    "print(last_three)\n",
    "last_three =language[3:6]\n",
    "print(last_three)"
   ]
  },
  {
   "cell_type": "code",
   "execution_count": 17,
   "id": "584101e0-b3de-426b-9b5c-a3c0023b8cbf",
   "metadata": {},
   "outputs": [
    {
     "name": "stdout",
     "output_type": "stream",
     "text": [
      "Pto\n"
     ]
    }
   ],
   "source": [
    "#skipping character while splitting Python string\n",
    "language = 'Python'\n",
    "after_skip = language[0:6:2]\n",
    "print(after_skip)\n"
   ]
  },
  {
   "cell_type": "code",
   "execution_count": 30,
   "id": "e7782bf2-2246-420a-9f81-e24682547706",
   "metadata": {},
   "outputs": [
    {
     "name": "stdout",
     "output_type": "stream",
     "text": [
      "I hope every one enjoying the python challenge.\n",
      "Do you?\n",
      "Day \tTopic\tExercises\n",
      "Day 1\t3\t5\n",
      "Day 2\t3\t5\n",
      "Day 3\t3\t5\n",
      "Day 4\t3\t5\n",
      "This ia aback slash symbol (\\)\n",
      "In evert programming language it syart with \\\"hello world\"\n"
     ]
    }
   ],
   "source": [
    "#Escape sequence\n",
    "print('I hope every one enjoying the python challenge.\\nDo you?') #line break\n",
    "print('Day \\tTopic\\tExercises')\n",
    "print('Day 1\\t3\\t5')\n",
    "print('Day 2\\t3\\t5')\n",
    "print('Day 3\\t3\\t5')\n",
    "print('Day 4\\t3\\t5')\n",
    "print('This ia aback slash symbol (\\\\)')\n",
    "print('In evert programming language it syart with \\\"hello world\\\"')\n",
    "\n",
    "\n",
    "\n",
    "\n"
   ]
  },
  {
   "cell_type": "code",
   "execution_count": 31,
   "id": "e70fd6e0-7fbf-4ff3-afa8-fbd57a2e9382",
   "metadata": {},
   "outputs": [
    {
     "data": {
      "text/plain": [
       "'Thirty days of python'"
      ]
     },
     "execution_count": 31,
     "metadata": {},
     "output_type": "execute_result"
    }
   ],
   "source": [
    "#String Methods\n",
    "#capitalize(): Convert the first letter of the string to capital letter \n",
    "\n",
    "sen = 'thirty days of python'\n",
    "sen.capitalize()"
   ]
  },
  {
   "cell_type": "code",
   "execution_count": 35,
   "id": "f72432b2-e2a2-42a7-b999-320b9c89a283",
   "metadata": {},
   "outputs": [
    {
     "name": "stdout",
     "output_type": "stream",
     "text": [
      "3\n",
      "1\n",
      "1\n"
     ]
    }
   ],
   "source": [
    "#count() : Returns coccurance of substring in string ,count(substring,start=..,end=..)\n",
    "\n",
    "sen = 'thirty days of python'\n",
    "print(sen.count('y'))\n",
    "print(sen.count('y',7,14)) # count numbers of y from index 7 to 14 but not inluding 14\n",
    "print(sen.count('of'))"
   ]
  },
  {
   "cell_type": "code",
   "execution_count": 37,
   "id": "4543a3eb-d014-4b4c-9040-d46efa3c93b9",
   "metadata": {},
   "outputs": [
    {
     "name": "stdout",
     "output_type": "stream",
     "text": [
      "True\n",
      "False\n"
     ]
    }
   ],
   "source": [
    "#endswith():check if astring ends with a specified ending\n",
    "sen = 'thirty days of python'\n",
    "print(sen.endswith('on'))\n",
    "print(sen.endswith('tion'))"
   ]
  },
  {
   "cell_type": "code",
   "execution_count": 42,
   "id": "a2eaf26a-5cf8-45d9-8cab-fa128ffde13e",
   "metadata": {},
   "outputs": [
    {
     "name": "stdout",
     "output_type": "stream",
     "text": [
      "thirty\tdays\tof\tpython\n",
      "thirty  days    of      python\n",
      "thirty                                            days                                              of                                                python\n"
     ]
    }
   ],
   "source": [
    "#expandtabs(): Replaces tab characters with spaces, default tab size is 8.It takes tab size argument\n",
    "\n",
    "sen ='thirty\\tdays\\tof\\tpython'\n",
    "print(sen)\n",
    "print(sen.expandtabs())\n",
    "print(sen.expandtabs(50))\n"
   ]
  },
  {
   "cell_type": "code",
   "execution_count": 43,
   "id": "521fcd5c-4cf3-40b1-9e2f-c2e9808a9e8b",
   "metadata": {},
   "outputs": [
    {
     "name": "stdout",
     "output_type": "stream",
     "text": [
      "5\n",
      "0\n",
      "7\n"
     ]
    }
   ],
   "source": [
    "#find(): Returns the index of first occurrence of substring\n",
    "\n",
    "sen = 'thirty days of python'\n",
    "print(sen.find('y'))\n",
    "print(sen.find('th'))\n",
    "print(sen.find('d'))"
   ]
  },
  {
   "cell_type": "code",
   "execution_count": 46,
   "id": "839d2981-90fc-435e-a7c3-cafd5e58fb52",
   "metadata": {},
   "outputs": [
    {
     "name": "stdout",
     "output_type": "stream",
     "text": [
      "I am Aleem Shaikh. I am a Data scientist.I live in India.\n"
     ]
    }
   ],
   "source": [
    "#format(): Format string into nicer output\n",
    "first_name = 'Aleem'\n",
    "last_name = 'Shaikh'\n",
    "job = 'Data scientist'\n",
    "country ='India'\n",
    "sen = 'I am {} {}. I am a {}.I live in {}.'.format(first_name,last_name,job,country)\n",
    "print(sen)"
   ]
  },
  {
   "cell_type": "code",
   "execution_count": 48,
   "id": "f49a23a5-f6a5-42f1-930e-c4cbc0fc031b",
   "metadata": {},
   "outputs": [
    {
     "name": "stdout",
     "output_type": "stream",
     "text": [
      "The area of circle with 10 is 314.0.\n"
     ]
    }
   ],
   "source": [
    "radius = 10\n",
    "pi = 3.14\n",
    "area = pi * radius ** 2\n",
    "result ='The area of circle with {} is {}.'.format(str(radius),str(area))\n",
    "print(result)"
   ]
  },
  {
   "cell_type": "code",
   "execution_count": 1,
   "id": "77fe0ba6-359a-495e-82e1-b690170cbd10",
   "metadata": {},
   "outputs": [
    {
     "name": "stdout",
     "output_type": "stream",
     "text": [
      "False\n",
      "True\n",
      "True\n",
      "False\n"
     ]
    }
   ],
   "source": [
    "#isalnum(): Checks alphanumeric character\n",
    "\n",
    "sen = 'thirty days of python '\n",
    "print(sen.isalnum())\n",
    "sen = '30daysofpython'\n",
    "print(sen.isalnum())\n",
    "sen = 'thirtydaysofpython'\n",
    "print(sen.isalnum())\n",
    "sen = 'thirty days of python 2025'\n",
    "print(sen.isalnum())\n"
   ]
  },
  {
   "cell_type": "code",
   "execution_count": 5,
   "id": "d04554ce-ada4-42c9-88e8-ad34110ee5bf",
   "metadata": {},
   "outputs": [
    {
     "name": "stdout",
     "output_type": "stream",
     "text": [
      "False\n",
      "False\n",
      "True\n"
     ]
    }
   ],
   "source": [
    "#isalpha (): check if all character are alphabates\n",
    "\n",
    "sen = 'thirty days of python' #spaces are not the charecters therefore false value\n",
    "print(sen.isalpha())\n",
    "sen = '123'\n",
    "print(sen.isalpha())\n",
    "sen = 'thirtydaysofpython'\n",
    "print(sen.isalpha())"
   ]
  },
  {
   "cell_type": "code",
   "execution_count": 11,
   "id": "99f04f63-df6b-42d1-bbbe-8c0f60548c33",
   "metadata": {},
   "outputs": [
    {
     "name": "stdout",
     "output_type": "stream",
     "text": [
      "False\n",
      "False\n",
      "False\n"
     ]
    }
   ],
   "source": [
    "#==================================================\n",
    "#isdecimal(): Checks decimal characters\n",
    "\n",
    "sen = 'thirty days of python '\n",
    "print(sen.isdecimal())\n",
    "num = 'ntp.nm'\n",
    "print(num.isdecimal())\n",
    "num = '1.23'\n",
    "print(num.isdecimal())\n",
    "#==================================================="
   ]
  },
  {
   "cell_type": "code",
   "execution_count": 14,
   "id": "0d9f992d-8f9b-4790-85be-10b2f0baa556",
   "metadata": {},
   "outputs": [
    {
     "name": "stdout",
     "output_type": "stream",
     "text": [
      "False\n",
      "False\n",
      "True\n"
     ]
    }
   ],
   "source": [
    "#isdentifier() : checks for valid identifier means it check if a string is a valid variable name\n",
    "\n",
    "sen = '30daysofoython'\n",
    "print(sen.isidentifier())\n",
    "sen = 'thirty days of python'\n",
    "print(sen.isidentifier())\n",
    "sen = 'thirtydaysofpython'\n",
    "print(sen.isidentifier())\n"
   ]
  },
  {
   "cell_type": "code",
   "execution_count": 16,
   "id": "7f40821a-7cef-40cb-8e81-d587d858bdbf",
   "metadata": {},
   "outputs": [
    {
     "name": "stdout",
     "output_type": "stream",
     "text": [
      "True\n",
      "False\n"
     ]
    }
   ],
   "source": [
    "#islower(): Check if all alphabets in a string are  lower\n",
    "sen = 'thirty days of python '\n",
    "print(sen.islower())\n",
    "sen = 'Thirty dayys of python'\n",
    "print(sen.islower())"
   ]
  },
  {
   "cell_type": "code",
   "execution_count": 17,
   "id": "87ff3471-0aeb-4f89-ad23-dc2459d9a643",
   "metadata": {},
   "outputs": [
    {
     "name": "stdout",
     "output_type": "stream",
     "text": [
      "False\n",
      "True\n"
     ]
    }
   ],
   "source": [
    "#isupper(): check all the charecters are upper\n",
    "\n",
    "sen = 'thirty days of python '\n",
    "print(sen.isupper())\n",
    "sen = 'THIRTY DAYS OF PYTHON'\n",
    "print(sen.isupper())"
   ]
  },
  {
   "cell_type": "code",
   "execution_count": 2,
   "id": "46d0d849-2ad8-4fcd-916d-9809ec446f8d",
   "metadata": {},
   "outputs": [
    {
     "name": "stdout",
     "output_type": "stream",
     "text": [
      "True\n",
      "False\n"
     ]
    }
   ],
   "source": [
    "#isnumeric(): checks numeric characters\n",
    "\n",
    "num = '10'\n",
    "print(num.isnumeric())\n",
    "num = 'ten'\n",
    "print(num.isnumeric())\n"
   ]
  },
  {
   "cell_type": "code",
   "execution_count": 5,
   "id": "1de76f76-1e7a-4454-b6ab-1440333bcc89",
   "metadata": {},
   "outputs": [
    {
     "name": "stdout",
     "output_type": "stream",
     "text": [
      "HTML#, CSS#, JAVASCRIPT#, REACT\n"
     ]
    }
   ],
   "source": [
    "#join() :Return a concatenated string\n",
    "\n",
    "web_tech = ['HTML','CSS','JAVASCRIPT','REACT']\n",
    "result = '#, '.join(web_tech)\n",
    "print(result)"
   ]
  },
  {
   "cell_type": "code",
   "execution_count": 13,
   "id": "888ca7e8-0880-4f04-afa9-614d7f6ddd79",
   "metadata": {},
   "outputs": [
    {
     "name": "stdout",
     "output_type": "stream",
     "text": [
      "thirty days of python\n",
      "hirty days of python\n",
      "thirty days of pytho\n"
     ]
    }
   ],
   "source": [
    "#strip (): Remove both leading and traning chracters\n",
    "\n",
    "sen = 'thirty days of python'\n",
    "print(sen.strip('d')) #no chnages in the string as \"d\" is not the leading or thrailing character\n",
    "sen = 'thirty days of python'\n",
    "print(sen.strip('t')) #leading character is removed\n",
    "sen = 'thirty days of python'\n",
    "print(sen.strip('n')) #trailing character is removed\n"
   ]
  },
  {
   "cell_type": "code",
   "execution_count": 14,
   "id": "06ce26e7-152a-4259-a8b3-f1d9e9693981",
   "metadata": {},
   "outputs": [
    {
     "name": "stdout",
     "output_type": "stream",
     "text": [
      "thirty days of coding\n"
     ]
    }
   ],
   "source": [
    "#replace(): repalce the substring inside \n",
    "sen = 'thirty days of python'\n",
    "print(sen.replace('python','coding'))"
   ]
  },
  {
   "cell_type": "code",
   "execution_count": 15,
   "id": "5c47d353-8dee-4e31-b2f4-9fd1b58b9280",
   "metadata": {},
   "outputs": [
    {
     "name": "stdout",
     "output_type": "stream",
     "text": [
      "['thirty', 'days', 'of', 'python']\n"
     ]
    }
   ],
   "source": [
    "#split ():Splits string from left\n",
    "\n",
    "sen = 'thirty days of python'\n",
    "print(sen.split())"
   ]
  },
  {
   "cell_type": "code",
   "execution_count": 16,
   "id": "46fdb573-8ee4-4808-97f1-afa718aba894",
   "metadata": {},
   "outputs": [
    {
     "name": "stdout",
     "output_type": "stream",
     "text": [
      "Thirty Days Of Python\n"
     ]
    }
   ],
   "source": [
    "#title() : returns title case string\n",
    "\n",
    "sen = 'thirty days of python'\n",
    "print(sen.title())"
   ]
  },
  {
   "cell_type": "code",
   "execution_count": 18,
   "id": "f7b0ee92-5abc-423b-a474-68a1c0a84fab",
   "metadata": {},
   "outputs": [
    {
     "name": "stdout",
     "output_type": "stream",
     "text": [
      "THIRTY DAYS OF PYTHON\n",
      "tHIRTY dAYS oF pYTHON\n",
      "thirty days of pyhton\n"
     ]
    }
   ],
   "source": [
    "#swapcase (): checks if the string start with the specified string\n",
    "\n",
    "sen = 'thirty days of python'\n",
    "print(sen.swapcase())\n",
    "sen = 'Thirty Days Of Python'\n",
    "print(sen.swapcase())\n",
    "sen = 'THIRTY DAYS OF PYHTON'\n",
    "print(sen.swapcase())"
   ]
  },
  {
   "cell_type": "code",
   "execution_count": 19,
   "id": "10c259d6-f954-4bfd-9c47-dfd333313eaf",
   "metadata": {},
   "outputs": [
    {
     "name": "stdout",
     "output_type": "stream",
     "text": [
      "True\n",
      "False\n"
     ]
    }
   ],
   "source": [
    "#startwith(): checks if string starts with specified string\n",
    "sen = 'thirty days of python'\n",
    "print(sen.startswith('thirty'))\n",
    "sen = '30 days of python'\n",
    "print(sen.startswith('thirty'))"
   ]
  }
 ],
 "metadata": {
  "kernelspec": {
   "display_name": "Python [conda env:base] *",
   "language": "python",
   "name": "conda-base-py"
  },
  "language_info": {
   "codemirror_mode": {
    "name": "ipython",
    "version": 3
   },
   "file_extension": ".py",
   "mimetype": "text/x-python",
   "name": "python",
   "nbconvert_exporter": "python",
   "pygments_lexer": "ipython3",
   "version": "3.13.5"
  }
 },
 "nbformat": 4,
 "nbformat_minor": 5
}
