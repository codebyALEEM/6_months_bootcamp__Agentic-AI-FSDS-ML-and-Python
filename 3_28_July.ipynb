{
 "cells": [
  {
   "cell_type": "markdown",
   "id": "a82b205c-32f8-4cc6-8306-f4c02312d2c6",
   "metadata": {},
   "source": [
    "28th JULY"
   ]
  },
  {
   "cell_type": "code",
   "execution_count": null,
   "id": "0817f68a-fc40-4a58-966b-b7945160cbce",
   "metadata": {},
   "outputs": [],
   "source": [
    "Introduction"
   ]
  },
  {
   "cell_type": "code",
   "execution_count": 1,
   "id": "5c6ed0e9-afef-42ee-99e6-da70083c20c1",
   "metadata": {},
   "outputs": [],
   "source": [
    "#pyton challenge"
   ]
  },
  {
   "cell_type": "code",
   "execution_count": 3,
   "id": "5f69a010-4942-45e7-8d2d-8dd3b902cfd5",
   "metadata": {},
   "outputs": [
    {
     "name": "stdout",
     "output_type": "stream",
     "text": [
      "5\n"
     ]
    }
   ],
   "source": [
    "print(3 + 2) #addition (+)"
   ]
  },
  {
   "cell_type": "code",
   "execution_count": 4,
   "id": "1eaee858-05f3-4fe7-989d-6bd30593c7d3",
   "metadata": {},
   "outputs": [
    {
     "name": "stdout",
     "output_type": "stream",
     "text": [
      "1\n"
     ]
    }
   ],
   "source": [
    "print(3 - 2) #subtraction (-)"
   ]
  },
  {
   "cell_type": "code",
   "execution_count": 5,
   "id": "79c12d41-eed7-4896-a119-eb6a454db983",
   "metadata": {},
   "outputs": [
    {
     "name": "stdout",
     "output_type": "stream",
     "text": [
      "6\n"
     ]
    }
   ],
   "source": [
    "print(3 * 2) #multiplication (*)"
   ]
  },
  {
   "cell_type": "code",
   "execution_count": 6,
   "id": "3042360f-d372-42f9-9345-678291394a3c",
   "metadata": {},
   "outputs": [
    {
     "name": "stdout",
     "output_type": "stream",
     "text": [
      "1.5\n"
     ]
    }
   ],
   "source": [
    "print(3 / 2) #division(/)"
   ]
  },
  {
   "cell_type": "code",
   "execution_count": 7,
   "id": "5ad6ceaf-727e-4759-a7a0-cd37d03d2a39",
   "metadata": {},
   "outputs": [
    {
     "name": "stdout",
     "output_type": "stream",
     "text": [
      "9\n"
     ]
    }
   ],
   "source": [
    "print(3 ** 2) #exponintial(**)"
   ]
  },
  {
   "cell_type": "code",
   "execution_count": 8,
   "id": "d8b93678-7fbb-451f-81b2-f4c00be6572e",
   "metadata": {},
   "outputs": [
    {
     "name": "stdout",
     "output_type": "stream",
     "text": [
      "1\n"
     ]
    }
   ],
   "source": [
    "print(3 // 2) #floor division(//)"
   ]
  },
  {
   "cell_type": "code",
   "execution_count": 9,
   "id": "14642cc9-4ed4-4026-9f85-0a59713a6b65",
   "metadata": {},
   "outputs": [
    {
     "name": "stdout",
     "output_type": "stream",
     "text": [
      "1\n"
     ]
    }
   ],
   "source": [
    "print(3 % 2) #modulus(%)"
   ]
  },
  {
   "cell_type": "markdown",
   "id": "e8114dd0-520c-4222-8129-988e3f852266",
   "metadata": {},
   "source": [
    "Checking Data Type"
   ]
  },
  {
   "cell_type": "code",
   "execution_count": 10,
   "id": "67337774-3613-4633-8e7a-73fab0c56c91",
   "metadata": {},
   "outputs": [
    {
     "name": "stdout",
     "output_type": "stream",
     "text": [
      "<class 'int'>\n"
     ]
    }
   ],
   "source": [
    "print(type(5))"
   ]
  },
  {
   "cell_type": "code",
   "execution_count": 11,
   "id": "1fc2bc82-df26-4206-b2e7-a50ab0353e12",
   "metadata": {},
   "outputs": [
    {
     "name": "stdout",
     "output_type": "stream",
     "text": [
      "<class 'float'>\n"
     ]
    }
   ],
   "source": [
    "print(type(5.6))"
   ]
  },
  {
   "cell_type": "code",
   "execution_count": 12,
   "id": "de3894ed-9d0f-4a73-9465-4ef40d4e75d2",
   "metadata": {},
   "outputs": [
    {
     "name": "stdout",
     "output_type": "stream",
     "text": [
      "<class 'complex'>\n"
     ]
    }
   ],
   "source": [
    "print(type(2 + 4j))"
   ]
  },
  {
   "cell_type": "code",
   "execution_count": 13,
   "id": "33d8bc5f-955b-41b2-9570-0c2e6c02b5b0",
   "metadata": {},
   "outputs": [
    {
     "name": "stdout",
     "output_type": "stream",
     "text": [
      "<class 'str'>\n"
     ]
    }
   ],
   "source": [
    "print(type('Python programming'))"
   ]
  },
  {
   "cell_type": "code",
   "execution_count": 14,
   "id": "1f1ac903-c6bb-466d-9729-ee15f9fd95e0",
   "metadata": {},
   "outputs": [
    {
     "name": "stdout",
     "output_type": "stream",
     "text": [
      "<class 'set'>\n"
     ]
    }
   ],
   "source": [
    "print(type({1,2,3}))"
   ]
  },
  {
   "cell_type": "code",
   "execution_count": 15,
   "id": "f6cb19b3-a5eb-4e59-9c6a-83123768e7f3",
   "metadata": {},
   "outputs": [
    {
     "name": "stdout",
     "output_type": "stream",
     "text": [
      "<class 'list'>\n"
     ]
    }
   ],
   "source": [
    "print(type([1,2,3]))"
   ]
  },
  {
   "cell_type": "code",
   "execution_count": 16,
   "id": "c9147fa1-928b-4480-bceb-3c850fdfbc95",
   "metadata": {},
   "outputs": [
    {
     "name": "stdout",
     "output_type": "stream",
     "text": [
      "<class 'tuple'>\n"
     ]
    }
   ],
   "source": [
    "print(type((1,2,3)))"
   ]
  },
  {
   "cell_type": "code",
   "execution_count": 21,
   "id": "490f7d8c-52ce-4cbf-9886-041108e692ad",
   "metadata": {},
   "outputs": [
    {
     "name": "stdout",
     "output_type": "stream",
     "text": [
      "<class 'dict'>\n"
     ]
    }
   ],
   "source": [
    "print(type({'a':1,'b':2,'c':3}))"
   ]
  },
  {
   "cell_type": "code",
   "execution_count": 22,
   "id": "85a4bd92-137c-4f2f-94e9-669bae8b1ef5",
   "metadata": {},
   "outputs": [
    {
     "name": "stdout",
     "output_type": "stream",
     "text": [
      "<class 'bool'>\n"
     ]
    }
   ],
   "source": [
    "print(type(2 == 2))"
   ]
  },
  {
   "cell_type": "code",
   "execution_count": 24,
   "id": "b1c95ec4-6970-4f08-97a5-b1a4be418184",
   "metadata": {},
   "outputs": [
    {
     "name": "stdout",
     "output_type": "stream",
     "text": [
      "<class 'bool'>\n"
     ]
    }
   ],
   "source": [
    "print(type(2 <= 4))"
   ]
  },
  {
   "cell_type": "markdown",
   "id": "b4b72151-ed60-4cff-8c08-4e0a12a62399",
   "metadata": {},
   "source": [
    "28th JULY \n",
    "===== Arithmatic Operations in Python ====== "
   ]
  },
  {
   "cell_type": "code",
   "execution_count": 25,
   "id": "dfc74e77-2d99-4877-abf6-ae49a8a04452",
   "metadata": {},
   "outputs": [
    {
     "name": "stdout",
     "output_type": "stream",
     "text": [
      "Addition= 3\n"
     ]
    }
   ],
   "source": [
    "print('Addition=',1 + 2)"
   ]
  },
  {
   "cell_type": "code",
   "execution_count": 27,
   "id": "5f9191bc-eeba-4ba2-9baf-43469192b615",
   "metadata": {},
   "outputs": [
    {
     "name": "stdout",
     "output_type": "stream",
     "text": [
      "Subtraction= 9\n"
     ]
    }
   ],
   "source": [
    "print('Subtraction=',15 - 6)"
   ]
  },
  {
   "cell_type": "code",
   "execution_count": 28,
   "id": "c6c89a25-d697-4c16-9a91-649129d6c40b",
   "metadata": {},
   "outputs": [
    {
     "name": "stdout",
     "output_type": "stream",
     "text": [
      "multiplaction= 45\n"
     ]
    }
   ],
   "source": [
    "print('multiplaction=',5 * 9)"
   ]
  },
  {
   "cell_type": "code",
   "execution_count": 29,
   "id": "6ccea30d-9786-479b-a0e0-430643df6729",
   "metadata": {},
   "outputs": [
    {
     "name": "stdout",
     "output_type": "stream",
     "text": [
      "division= 2.0\n"
     ]
    }
   ],
   "source": [
    "print('division=',4 / 2) #Division in python gives floating number"
   ]
  },
  {
   "cell_type": "code",
   "execution_count": 30,
   "id": "7fb206bb-f3e3-4101-9532-ed47d962226e",
   "metadata": {},
   "outputs": [
    {
     "name": "stdout",
     "output_type": "stream",
     "text": [
      "Division= 2.5\n"
     ]
    }
   ],
   "source": [
    "print('Division=', 5 / 2)"
   ]
  },
  {
   "cell_type": "code",
   "execution_count": 32,
   "id": "da36eecd-f45f-4674-b345-d54a7609e3e5",
   "metadata": {},
   "outputs": [
    {
     "name": "stdout",
     "output_type": "stream",
     "text": [
      "Division without remainder= 2\n"
     ]
    }
   ],
   "source": [
    "print('Division without remainder=', 5 // 2) #gives without the floating number\n",
    "#Gives number without decimal"
   ]
  },
  {
   "cell_type": "code",
   "execution_count": 33,
   "id": "9c783ec4-4316-4993-b552-f80953ed881e",
   "metadata": {},
   "outputs": [
    {
     "data": {
      "text/plain": [
       "int"
      ]
     },
     "execution_count": 33,
     "metadata": {},
     "output_type": "execute_result"
    }
   ],
   "source": [
    "a=5 // 2\n",
    "type(a)"
   ]
  },
  {
   "cell_type": "code",
   "execution_count": 34,
   "id": "376b5a4a-e726-46df-b015-9221f54e55d1",
   "metadata": {},
   "outputs": [
    {
     "name": "stdout",
     "output_type": "stream",
     "text": [
      "floor division= 3\n"
     ]
    }
   ],
   "source": [
    "print('floor division=', 7 // 2) #floor division gives int value"
   ]
  },
  {
   "cell_type": "code",
   "execution_count": 35,
   "id": "9d376f2c-bd87-4559-b301-4032bf59e526",
   "metadata": {},
   "outputs": [
    {
     "name": "stdout",
     "output_type": "stream",
     "text": [
      "modulus= 1\n"
     ]
    }
   ],
   "source": [
    "print('modulus=',26 % 5) #Gives remainder"
   ]
  },
  {
   "cell_type": "code",
   "execution_count": 36,
   "id": "a59338a5-409e-4ff1-a661-6bfc5631b340",
   "metadata": {},
   "outputs": [
    {
     "name": "stdout",
     "output_type": "stream",
     "text": [
      "Exponential= 125\n"
     ]
    }
   ],
   "source": [
    "print('Exponential=', 5 ** 3) # it means 5 to the power 3 or 5 raise to 3"
   ]
  },
  {
   "cell_type": "code",
   "execution_count": 38,
   "id": "188f848f-1d63-4dbd-9834-4b5918267b07",
   "metadata": {},
   "outputs": [
    {
     "name": "stdout",
     "output_type": "stream",
     "text": [
      "Floating Number,PI= 3.14\n"
     ]
    }
   ],
   "source": [
    "print('Floating Number,PI=',3.14)"
   ]
  },
  {
   "cell_type": "code",
   "execution_count": 39,
   "id": "55595bf7-0856-4b43-988c-92dd5bdf4ceb",
   "metadata": {},
   "outputs": [
    {
     "name": "stdout",
     "output_type": "stream",
     "text": [
      "Floating Number,gravity= 9.81\n"
     ]
    }
   ],
   "source": [
    "print('Floating Number,gravity=',9.81)"
   ]
  },
  {
   "cell_type": "code",
   "execution_count": 40,
   "id": "4eac9483-28ed-4c92-b058-45dc6a8d7b7a",
   "metadata": {},
   "outputs": [],
   "source": [
    "#Complex number"
   ]
  },
  {
   "cell_type": "code",
   "execution_count": 41,
   "id": "d9616c09-f0a3-4c47-88ed-b4a1bb8c5566",
   "metadata": {},
   "outputs": [
    {
     "name": "stdout",
     "output_type": "stream",
     "text": [
      "Complex nuumber :  (1+5j)\n"
     ]
    }
   ],
   "source": [
    "print('Complex nuumber : ',1 +5j)\n"
   ]
  },
  {
   "cell_type": "code",
   "execution_count": 48,
   "id": "869a9d9b-03a1-4db1-a852-5295db6a0d64",
   "metadata": {},
   "outputs": [
    {
     "name": "stdout",
     "output_type": "stream",
     "text": [
      "multiplying complex numbers= (2+0j)\n"
     ]
    }
   ],
   "source": [
    "print('multiplying complex numbers=',(1 + 1j) * (1 -1j))"
   ]
  },
  {
   "cell_type": "code",
   "execution_count": 49,
   "id": "0c4b5e0a-c5b6-4c76-8094-229d74f77754",
   "metadata": {},
   "outputs": [],
   "source": [
    "#Declaring variable at the top first"
   ]
  },
  {
   "cell_type": "code",
   "execution_count": 53,
   "id": "a68879f7-4457-48b0-8aa3-edd2350b058c",
   "metadata": {},
   "outputs": [
    {
     "name": "stdout",
     "output_type": "stream",
     "text": [
      "5\n",
      "a + b =  5\n",
      "a - b =  1\n",
      "a * b = 6\n",
      "a / b = 1.5\n",
      "a % b =  1\n",
      "a // b =  1\n",
      "a ** b =  9\n"
     ]
    }
   ],
   "source": [
    "a = 3 #a ia a variable name and 3 is the integer data type\n",
    "b = 2 #b is variable name and 2 is the integer data type\n",
    "\n",
    "#Arthematic operations and assigning the result to a variable\n",
    "total = a + b\n",
    "diff = a - b\n",
    "product = a * b\n",
    "division = a / b\n",
    "remainder = a % b\n",
    "floor_division = a // b\n",
    "exponential = a ** b\n",
    "\n",
    "# I should have used sum instead of total but sum ia a built in function try to avoid overriding builtin functions\n",
    "print(total) # if you dont label your print with some string,you never know from where the result is coming\n",
    "print('a + b = ',total)\n",
    "print('a - b = ',diff)\n",
    "print('a * b =',product)\n",
    "print('a / b =',division)\n",
    "print('a % b = ',remainder)\n",
    "print('a // b = ',floor_division)\n",
    "print('a ** b = ',exponential)\n"
   ]
  },
  {
   "cell_type": "code",
   "execution_count": 55,
   "id": "f18b7747-306f-4145-8b5d-4ac30ac7c987",
   "metadata": {},
   "outputs": [
    {
     "name": "stdout",
     "output_type": "stream",
     "text": [
      "total= 8\n",
      "difference= 2\n",
      "multiplication= 15\n",
      "division= 0.6\n",
      "remainder= 1\n",
      "floor division= 0\n",
      "exponentail= 243\n"
     ]
    }
   ],
   "source": [
    "# declaring values and organising them together\n",
    "num_one = 3\n",
    "num_two = 5\n",
    "\n",
    "#Arithmetic operations\n",
    "total = num_one + num_two\n",
    "diff = num_two - num_one\n",
    "product= num_one * num_two\n",
    "division = num_one / num_two\n",
    "remaimder = num_one % num_two\n",
    "floor = num_one // num_two\n",
    "expo = num_one ** num_two\n",
    "\n",
    "#Printing values with label\n",
    "print('total=',total)\n",
    "print('difference=',diff)\n",
    "print('multiplication=',product)\n",
    "print('division=',division)\n",
    "print('remainder=',remainder)\n",
    "print('floor division=',floor)\n",
    "print('exponentail=',expo)"
   ]
  },
  {
   "cell_type": "code",
   "execution_count": 57,
   "id": "e5b5237a-a758-4e3b-89bc-c5c46279444b",
   "metadata": {},
   "outputs": [
    {
     "name": "stdout",
     "output_type": "stream",
     "text": [
      "Area of circle= 314.0\n"
     ]
    }
   ],
   "source": [
    "#Calculating area of circle \n",
    "radius =10  #radius of circle \n",
    "area_of_circle = 3.14 * radius ** 2 #two * sign means exponential or power\n",
    "print('Area of circle=',area_of_circle)"
   ]
  },
  {
   "cell_type": "code",
   "execution_count": 58,
   "id": "a60d799d-9018-4ed1-b85f-fa002ed1c341",
   "metadata": {},
   "outputs": [
    {
     "name": "stdout",
     "output_type": "stream",
     "text": [
      "Area of rectangle= 200\n"
     ]
    }
   ],
   "source": [
    "#calculating area of rectangle \n",
    "length = 10\n",
    "width = 20\n",
    "area_of_rectangle = length * width\n",
    "print('Area of rectangle=',area_of_rectangle)"
   ]
  },
  {
   "cell_type": "code",
   "execution_count": 61,
   "id": "c46d25d7-02f8-4588-bfdd-f2be0218b25b",
   "metadata": {},
   "outputs": [
    {
     "name": "stdout",
     "output_type": "stream",
     "text": [
      "weight= 735.75 N\n"
     ]
    }
   ],
   "source": [
    "#calculating a weight of an object\n",
    "mass = 75\n",
    "gravity = 9.81\n",
    "weight = mass * gravity\n",
    "print('weight=',weight ,'N')\n"
   ]
  },
  {
   "cell_type": "code",
   "execution_count": 64,
   "id": "f3556d19-30bd-4505-9243-dc15fd25837a",
   "metadata": {},
   "outputs": [
    {
     "name": "stdout",
     "output_type": "stream",
     "text": [
      "True\n",
      "False\n",
      "False\n",
      "True\n",
      "False\n",
      "True\n",
      "1= False\n",
      "True\n",
      "True\n",
      "False\n",
      "True\n",
      "False\n",
      "True\n"
     ]
    }
   ],
   "source": [
    "print(3 > 2) #True, because 3 is greater than 2\n",
    "print(3 < 2) #False, because 3 is greater than 2\n",
    "print(3 <= 2) #False , because 3 is greater than 2\n",
    "print(3 >= 2) #True,because 3 is greater than 2 \n",
    "print(3 == 2) #False, because 3 is not equal to 2\n",
    "print(3 != 2) #True, because 3 is not equal to 2\n",
    "\n",
    "print(len('mango') == len('avacado'))\n",
    "print(len('mango') != len('avacado'))\n",
    "print(len('mango') < len('avacado'))\n",
    "print(len('mango') > len('avacado'))\n",
    "print(len('milk') == len('meat'))\n",
    "print(len('milk') != len('meat'))\n",
    "print(len('tomato') == len('potato'))\n"
   ]
  },
  {
   "cell_type": "code",
   "execution_count": 65,
   "id": "c1cc958a-84cb-431e-bd50-2f0af6d6b5a2",
   "metadata": {},
   "outputs": [
    {
     "name": "stdout",
     "output_type": "stream",
     "text": [
      "True == True: True\n",
      "False ==False: True\n",
      "True == False:  False\n",
      "True and True: True\n",
      "False and False: False\n",
      "True and False : False\n",
      "True or True: True\n",
      "False or False: False\n",
      "True or False: True\n"
     ]
    }
   ],
   "source": [
    "#boolean comparison\n",
    "print('True == True:',True ==True)\n",
    "print('False ==False:',False==False)\n",
    "print('True == False: ',True == False)\n",
    "print('True and True:',True and True)\n",
    "print('False and False:',False and False)\n",
    "print('True and False :',True and False)\n",
    "print('True or True:',True or True)\n",
    "print('False or False:',False or False)\n",
    "print('True or False:',True or False)\n"
   ]
  },
  {
   "cell_type": "code",
   "execution_count": 67,
   "id": "727222cb-722a-424e-ab29-71d7c0715eb9",
   "metadata": {},
   "outputs": [
    {
     "name": "stdout",
     "output_type": "stream",
     "text": [
      "1 is 1: True\n",
      "1 is not 1: False\n",
      "A in Aleem: True\n",
      "L in Latur: True\n",
      "True\n",
      "a in  an: True\n",
      "4 is 2: False\n"
     ]
    }
   ],
   "source": [
    "#Another way of comparison\n",
    "\n",
    "print('1 is 1:',1 is 1)\n",
    "print('1 is not 1:',1 is not 1)\n",
    "print('A in Aleem:','A' in 'Aleem')\n",
    "print('L in Latur:', 'L' in 'Latur')\n",
    "print('coding' in 'coding for all')\n",
    "print('a in  an:', 'a' in 'an')\n",
    "print('4 is 2:',4 is 2)\n",
    "\n",
    "\n"
   ]
  },
  {
   "cell_type": "code",
   "execution_count": 68,
   "id": "90e96949-97cd-4d43-8f6a-d38e6b13a093",
   "metadata": {},
   "outputs": [
    {
     "name": "stdout",
     "output_type": "stream",
     "text": [
      "True\n",
      "False\n",
      "False\n",
      "False\n"
     ]
    }
   ],
   "source": [
    "print(3 > 2 and 4 > 3)\n",
    "print(3 > 2 and 4 < 3)\n",
    "print(3 < 2 and 4 < 3)\n",
    "print(3 < 2 and 4 > 3)"
   ]
  },
  {
   "cell_type": "code",
   "execution_count": 69,
   "id": "eb493e65-d749-4133-a834-762df6551abc",
   "metadata": {},
   "outputs": [
    {
     "name": "stdout",
     "output_type": "stream",
     "text": [
      "True\n",
      "True\n",
      "False\n",
      "True\n"
     ]
    }
   ],
   "source": [
    "print(3 > 2 or 4 > 3)\n",
    "print(3 > 2 or 4 < 3)\n",
    "print(3 < 2 or 4 < 3)\n",
    "print(3 < 2 or 4 > 3)"
   ]
  },
  {
   "cell_type": "code",
   "execution_count": 70,
   "id": "094e3301-b16c-4bb8-8c2f-c2f691a32b83",
   "metadata": {},
   "outputs": [
    {
     "name": "stdout",
     "output_type": "stream",
     "text": [
      "False\n"
     ]
    }
   ],
   "source": [
    "print(not 3 > 2)"
   ]
  },
  {
   "cell_type": "code",
   "execution_count": 71,
   "id": "4435f9f4-5ebb-49ae-b18b-fb737de04363",
   "metadata": {},
   "outputs": [
    {
     "name": "stdout",
     "output_type": "stream",
     "text": [
      "False\n",
      "True\n",
      "True\n",
      "False\n"
     ]
    }
   ],
   "source": [
    "print(not True)\n",
    "print(not False)\n",
    "print(not not True)\n",
    "print(not not False)\n"
   ]
  },
  {
   "cell_type": "markdown",
   "id": "a2cbe678-f95d-4c84-b587-0eec24f49e89",
   "metadata": {},
   "source": [
    "==== Variables in python  ======="
   ]
  },
  {
   "cell_type": "code",
   "execution_count": 72,
   "id": "19e0da82-5ff3-47d0-a767-73648e4820c1",
   "metadata": {},
   "outputs": [
    {
     "name": "stdout",
     "output_type": "stream",
     "text": [
      "First name: ALEEM\n",
      "length of first name: 5\n",
      "Last name: SHAIKH\n",
      "length of last name: 6\n",
      "Country: INDIA\n",
      "Age: 21\n",
      "Married: False\n",
      "skills: ['HTML', 'CSS', 'PYTHON']\n",
      "Person information: {'firstname': 'Asabeneh', 'lastname': 'Yetayeh', 'country': 'Finland', 'city': 'Helsinki'}\n"
     ]
    }
   ],
   "source": [
    "first_name = 'ALEEM'\n",
    "last_name = 'SHAIKH'\n",
    "country = 'INDIA'\n",
    "city = 'LATUR'\n",
    "age = 21\n",
    "is_married = False\n",
    "skills=['HTML','CSS','PYTHON']\n",
    "person_info = {\n",
    "    'firstname' : 'Asabeneh',\n",
    "    'lastname' : 'Yetayeh',\n",
    "    'country' : 'Finland',\n",
    "    'city' : 'Helsinki'\n",
    "    }\n",
    "\n",
    "#printing the values stored in the variables\n",
    "\n",
    "print('First name:',first_name)\n",
    "print('length of first name:',len(first_name))\n",
    "print('Last name:',last_name)\n",
    "print('length of last name:',len(last_name))\n",
    "print('Country:',country)\n",
    "print('Age:',age)\n",
    "print('Married:',is_married)\n",
    "print('skills:',skills)\n",
    "print('Person information:',person_info)"
   ]
  },
  {
   "cell_type": "code",
   "execution_count": 74,
   "id": "ad0b3c5f-7749-4952-8ec5-22beef1d246d",
   "metadata": {},
   "outputs": [
    {
     "name": "stdout",
     "output_type": "stream",
     "text": [
      "Aleem Shaikh INDIA 21 False\n",
      "First name; Aleem\n",
      "Last name: Shaikh\n",
      "Country; INDIA\n",
      "Age; 21\n",
      "Married: False\n"
     ]
    }
   ],
   "source": [
    "#Declaring multiple variable in one line\n",
    "\n",
    "first_name,last_name,country,age,is_married = 'Aleem','Shaikh','INDIA',21,False\n",
    "\n",
    "\n",
    "print(first_name,last_name,country,age,is_married)\n",
    "print('First name;',first_name)\n",
    "print('Last name:',last_name)\n",
    "print('Country;',country)\n",
    "print('Age;',age)\n",
    "print('Married:',is_married)\n"
   ]
  },
  {
   "cell_type": "code",
   "execution_count": null,
   "id": "e5da4aa9-d81c-4616-ad49-0a954469a7c0",
   "metadata": {},
   "outputs": [],
   "source": [
    "name"
   ]
  }
 ],
 "metadata": {
  "kernelspec": {
   "display_name": "Python [conda env:base] *",
   "language": "python",
   "name": "conda-base-py"
  },
  "language_info": {
   "codemirror_mode": {
    "name": "ipython",
    "version": 3
   },
   "file_extension": ".py",
   "mimetype": "text/x-python",
   "name": "python",
   "nbconvert_exporter": "python",
   "pygments_lexer": "ipython3",
   "version": "3.13.5"
  }
 },
 "nbformat": 4,
 "nbformat_minor": 5
}
